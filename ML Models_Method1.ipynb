{
 "cells": [
  {
   "cell_type": "code",
   "execution_count": 1,
   "metadata": {},
   "outputs": [],
   "source": [
    "import pandas as pd\n",
    "from sklearn.metrics.pairwise import cosine_similarity\n",
    "import numpy as np\n",
    "import matplotlib.pyplot as plt\n",
    "from sklearn.model_selection import train_test_split\n",
    "from sklearn.feature_extraction.text import TfidfVectorizer\n",
    "from nltk.tokenize import word_tokenize\n",
    "from nltk.corpus import stopwords\n",
    "from sklearn.metrics import precision_recall_fscore_support,accuracy_score\n",
    "from sklearn.linear_model import LogisticRegression\n",
    "import numpy as np\n",
    "from gensim.test.utils import datapath\n",
    "from gensim.models import KeyedVectors\n",
    "from pathlib import Path\n",
    "import math\n",
    "from sklearn.metrics import log_loss\n",
    "from sklearn.utils import shuffle\n",
    "from sklearn.metrics.pairwise import euclidean_distances\n",
    "from sklearn.metrics.pairwise import manhattan_distances\n",
    "from sklearn.metrics.pairwise import cosine_distances\n",
    "import matplotlib.pyplot as plt\n",
    "from sklearn.naive_bayes import MultinomialNB"
   ]
  },
  {
   "cell_type": "code",
   "execution_count": 2,
   "metadata": {},
   "outputs": [],
   "source": [
    "\n",
    "def find_word_Common(sample):\n",
    "    \"\"\"finding number of words common in both user question and archived Question\"\"\"\n",
    "    uq = set(map(lambda w: w.lower().strip(), sample['qu'].split(\" \")))\n",
    "    aq = set(map(lambda w: w.lower().strip(), sample['qa'].split(\" \")))    \n",
    "    return len(uq & aq)*1.0\n",
    "\n",
    "def find_total_word_count(sample):\n",
    "    \"\"\"Finding total number of words in both user and archived questions\"\"\"\n",
    "    uq = set(map(lambda w: w.lower().strip(), sample['qu'].split(\" \")))\n",
    "    aq = set(map(lambda w: w.lower().strip(), sample['qa'].split(\" \")))   \n",
    "    return (len(uq) + len(aq))*1.0\n",
    "#test_ml['total_word_count'] = test_ml.apply(find_total_word_count, axis=1)\n",
    "\n",
    "def fraction_common_words(sample):\n",
    "    \"\"\"Finding the ratio of the number of words in common and total number of words in user and archived questions\"\"\"\n",
    "    uq = set(map(lambda w: w.lower().strip(), sample['qu'].split(\" \")))\n",
    "    aq = set(map(lambda w: w.lower().strip(), sample['qa'].split(\" \"))) \n",
    "    return 1.0 * len(uq & aq)/(len(uq) + len(aq))\n",
    "#test_ml['fraction_common_words'] = test_ml.apply(fraction_common_words, axis=1)"
   ]
  },
  {
   "cell_type": "markdown",
   "metadata": {},
   "source": [
    "# Machine Learning Method1: Probabilistic classifier+Basic Features+Word2vec for distance feature"
   ]
  },
  {
   "cell_type": "code",
   "execution_count": 3,
   "metadata": {},
   "outputs": [
    {
     "data": {
      "text/html": [
       "<div>\n",
       "<style scoped>\n",
       "    .dataframe tbody tr th:only-of-type {\n",
       "        vertical-align: middle;\n",
       "    }\n",
       "\n",
       "    .dataframe tbody tr th {\n",
       "        vertical-align: top;\n",
       "    }\n",
       "\n",
       "    .dataframe thead th {\n",
       "        text-align: right;\n",
       "    }\n",
       "</style>\n",
       "<table border=\"1\" class=\"dataframe\">\n",
       "  <thead>\n",
       "    <tr style=\"text-align: right;\">\n",
       "      <th></th>\n",
       "      <th>Unnamed: 0</th>\n",
       "      <th>guid</th>\n",
       "      <th>qu_id</th>\n",
       "      <th>qu</th>\n",
       "      <th>qa_id</th>\n",
       "      <th>qa</th>\n",
       "      <th>ans_id</th>\n",
       "      <th>ans</th>\n",
       "      <th>is_duplicate</th>\n",
       "      <th>is_correspond</th>\n",
       "      <th>is_useful</th>\n",
       "      <th>f_uq</th>\n",
       "      <th>f_aq</th>\n",
       "      <th>l_uq</th>\n",
       "      <th>l_aq</th>\n",
       "      <th>num_words_uq</th>\n",
       "      <th>num_words_aq</th>\n",
       "      <th>n_common_words</th>\n",
       "      <th>total_word_count</th>\n",
       "      <th>fraction_common_words</th>\n",
       "    </tr>\n",
       "  </thead>\n",
       "  <tbody>\n",
       "    <tr>\n",
       "      <th>5289</th>\n",
       "      <td>2571</td>\n",
       "      <td>41704</td>\n",
       "      <td>513994</td>\n",
       "      <td>if i buy a domain do i need to buy all the oth...</td>\n",
       "      <td>513995</td>\n",
       "      <td>where can i buy a ly domain</td>\n",
       "      <td>204821</td>\n",
       "      <td>NIC.LY - Libya ccTLD...Is the registrar.</td>\n",
       "      <td>0</td>\n",
       "      <td>1</td>\n",
       "      <td>0</td>\n",
       "      <td>1</td>\n",
       "      <td>1</td>\n",
       "      <td>72</td>\n",
       "      <td>31</td>\n",
       "      <td>18</td>\n",
       "      <td>9</td>\n",
       "      <td>5.0</td>\n",
       "      <td>24.0</td>\n",
       "      <td>0.208333</td>\n",
       "    </tr>\n",
       "    <tr>\n",
       "      <th>259</th>\n",
       "      <td>1101</td>\n",
       "      <td>91543</td>\n",
       "      <td>60269</td>\n",
       "      <td>what is genre</td>\n",
       "      <td>60270</td>\n",
       "      <td>what is a genre</td>\n",
       "      <td>23361</td>\n",
       "      <td>Oh that would have to be Trad Jazz. I've never...</td>\n",
       "      <td>1</td>\n",
       "      <td>1</td>\n",
       "      <td>1</td>\n",
       "      <td>1</td>\n",
       "      <td>2</td>\n",
       "      <td>15</td>\n",
       "      <td>17</td>\n",
       "      <td>4</td>\n",
       "      <td>5</td>\n",
       "      <td>4.0</td>\n",
       "      <td>9.0</td>\n",
       "      <td>0.444444</td>\n",
       "    </tr>\n",
       "  </tbody>\n",
       "</table>\n",
       "</div>"
      ],
      "text/plain": [
       "      Unnamed: 0   guid   qu_id  \\\n",
       "5289        2571  41704  513994   \n",
       "259         1101  91543   60269   \n",
       "\n",
       "                                                     qu   qa_id  \\\n",
       "5289  if i buy a domain do i need to buy all the oth...  513995   \n",
       "259                                       what is genre   60270   \n",
       "\n",
       "                               qa  ans_id  \\\n",
       "5289  where can i buy a ly domain  204821   \n",
       "259               what is a genre   23361   \n",
       "\n",
       "                                                    ans  is_duplicate  \\\n",
       "5289           NIC.LY - Libya ccTLD...Is the registrar.             0   \n",
       "259   Oh that would have to be Trad Jazz. I've never...             1   \n",
       "\n",
       "      is_correspond  is_useful  f_uq  f_aq  l_uq  l_aq  num_words_uq  \\\n",
       "5289              1          0     1     1    72    31            18   \n",
       "259               1          1     1     2    15    17             4   \n",
       "\n",
       "      num_words_aq  n_common_words  total_word_count  fraction_common_words  \n",
       "5289             9             5.0              24.0               0.208333  \n",
       "259              5             4.0               9.0               0.444444  "
      ]
     },
     "execution_count": 3,
     "metadata": {},
     "output_type": "execute_result"
    }
   ],
   "source": [
    "QApair_df = pd.read_csv('train.csv')\n",
    "QApair_df = shuffle(QApair_df)\n",
    "QApair_df = QApair_df.dropna() #dropping na\n",
    "QApair_df[:2]"
   ]
  },
  {
   "cell_type": "code",
   "execution_count": 4,
   "metadata": {},
   "outputs": [
    {
     "name": "stdout",
     "output_type": "stream",
     "text": [
      "all text size 8000\n",
      "All label size 8000\n"
     ]
    }
   ],
   "source": [
    "all_text = QApair_df[[\"qu\",\"qa\"]]\n",
    "all_labels = QApair_df[\"is_duplicate\"]\n",
    "print(\"all text size\", len(all_text))\n",
    "print(\"All label size\", len(all_labels))\n"
   ]
  },
  {
   "cell_type": "code",
   "execution_count": 5,
   "metadata": {},
   "outputs": [],
   "source": [
    "all_user_text = all_text[\"qu\"].tolist() #\n",
    "all_arch_text = all_text[\"qa\"].tolist()"
   ]
  },
  {
   "cell_type": "code",
   "execution_count": 6,
   "metadata": {},
   "outputs": [],
   "source": [
    "path_of_downloaded_bin = Path(\"C:\\\\Users\\\\ASUS\\\\NLP\\\\embeddings\\\\GoogleNews-vectors-negative300.bin\")\n",
    "word_vectors = KeyedVectors.load_word2vec_format(datapath(path_of_downloaded_bin), binary=True)"
   ]
  },
  {
   "cell_type": "code",
   "execution_count": 7,
   "metadata": {},
   "outputs": [],
   "source": [
    "word_vec_dim = 300 # this number should match the embedding used\n",
    "oov_vec = np.random.rand(word_vec_dim) \n",
    "def vectorize_sent(word_vectors, sent):\n",
    "    word_vecs = []\n",
    "    for token in word_tokenize(sent):\n",
    "        if token not in word_vectors: \n",
    "            word_vecs.append(oov_vec)\n",
    "        else:\n",
    "            word_vecs.append(word_vectors[token].astype('float64'))\n",
    "    return (np.mean(word_vecs,axis=0)).reshape(1,-1)\n"
   ]
  },
  {
   "cell_type": "code",
   "execution_count": 8,
   "metadata": {},
   "outputs": [],
   "source": [
    "#following embeddingds are used for finding diff distances between question pairs of all vectors\n",
    "all_user_vecs = np.array([vectorize_sent(word_vectors, ss) for ss in all_user_text]) #getting vector representation for user questions\n",
    "all_arch_vecs = np.array([vectorize_sent(word_vectors, ss) for ss in all_arch_text]) #getting vector representation for archived questions\n"
   ]
  },
  {
   "cell_type": "code",
   "execution_count": 9,
   "metadata": {},
   "outputs": [],
   "source": [
    "#getting distnces\n",
    "cosine_dist = [cosine_distances(user_quest,arch_quest)[0][0] for user_quest,arch_quest in zip(all_user_vecs,all_arch_vecs)] #getting cosine similarity between pir of questions and saving it in all_text dataframe\n",
    "euclid_dis = [euclidean_distances(user_quest,arch_quest)[0][0] for user_quest,arch_quest in zip(all_user_vecs,all_arch_vecs)]\n",
    "manhat_dis = [manhattan_distances(user_quest,arch_quest)[0][0] for user_quest,arch_quest in zip(all_user_vecs,all_arch_vecs)]\n"
   ]
  },
  {
   "cell_type": "code",
   "execution_count": 10,
   "metadata": {},
   "outputs": [],
   "source": [
    "QApair_df['cosine_dist'] = cosine_dist\n",
    "QApair_df['euclid_dis'] = euclid_dis\n",
    "QApair_df['manhat_dis'] = manhat_dis\n"
   ]
  },
  {
   "cell_type": "code",
   "execution_count": 11,
   "metadata": {},
   "outputs": [
    {
     "data": {
      "text/html": [
       "<div>\n",
       "<style scoped>\n",
       "    .dataframe tbody tr th:only-of-type {\n",
       "        vertical-align: middle;\n",
       "    }\n",
       "\n",
       "    .dataframe tbody tr th {\n",
       "        vertical-align: top;\n",
       "    }\n",
       "\n",
       "    .dataframe thead th {\n",
       "        text-align: right;\n",
       "    }\n",
       "</style>\n",
       "<table border=\"1\" class=\"dataframe\">\n",
       "  <thead>\n",
       "    <tr style=\"text-align: right;\">\n",
       "      <th></th>\n",
       "      <th>Unnamed: 0</th>\n",
       "      <th>guid</th>\n",
       "      <th>qu_id</th>\n",
       "      <th>qu</th>\n",
       "      <th>qa_id</th>\n",
       "      <th>qa</th>\n",
       "      <th>ans_id</th>\n",
       "      <th>ans</th>\n",
       "      <th>is_duplicate</th>\n",
       "      <th>is_correspond</th>\n",
       "      <th>...</th>\n",
       "      <th>l_uq</th>\n",
       "      <th>l_aq</th>\n",
       "      <th>num_words_uq</th>\n",
       "      <th>num_words_aq</th>\n",
       "      <th>n_common_words</th>\n",
       "      <th>total_word_count</th>\n",
       "      <th>fraction_common_words</th>\n",
       "      <th>cosine_dist</th>\n",
       "      <th>euclid_dis</th>\n",
       "      <th>manhat_dis</th>\n",
       "    </tr>\n",
       "  </thead>\n",
       "  <tbody>\n",
       "    <tr>\n",
       "      <th>5289</th>\n",
       "      <td>2571</td>\n",
       "      <td>41704</td>\n",
       "      <td>513994</td>\n",
       "      <td>if i buy a domain do i need to buy all the oth...</td>\n",
       "      <td>513995</td>\n",
       "      <td>where can i buy a ly domain</td>\n",
       "      <td>204821</td>\n",
       "      <td>NIC.LY - Libya ccTLD...Is the registrar.</td>\n",
       "      <td>0</td>\n",
       "      <td>1</td>\n",
       "      <td>...</td>\n",
       "      <td>72</td>\n",
       "      <td>31</td>\n",
       "      <td>18</td>\n",
       "      <td>9</td>\n",
       "      <td>5.0</td>\n",
       "      <td>24.0</td>\n",
       "      <td>0.208333</td>\n",
       "      <td>0.063511</td>\n",
       "      <td>0.674567</td>\n",
       "      <td>9.385409</td>\n",
       "    </tr>\n",
       "    <tr>\n",
       "      <th>259</th>\n",
       "      <td>1101</td>\n",
       "      <td>91543</td>\n",
       "      <td>60269</td>\n",
       "      <td>what is genre</td>\n",
       "      <td>60270</td>\n",
       "      <td>what is a genre</td>\n",
       "      <td>23361</td>\n",
       "      <td>Oh that would have to be Trad Jazz. I've never...</td>\n",
       "      <td>1</td>\n",
       "      <td>1</td>\n",
       "      <td>...</td>\n",
       "      <td>15</td>\n",
       "      <td>17</td>\n",
       "      <td>4</td>\n",
       "      <td>5</td>\n",
       "      <td>4.0</td>\n",
       "      <td>9.0</td>\n",
       "      <td>0.444444</td>\n",
       "      <td>0.583476</td>\n",
       "      <td>2.564767</td>\n",
       "      <td>38.356850</td>\n",
       "    </tr>\n",
       "  </tbody>\n",
       "</table>\n",
       "<p>2 rows × 23 columns</p>\n",
       "</div>"
      ],
      "text/plain": [
       "      Unnamed: 0   guid   qu_id  \\\n",
       "5289        2571  41704  513994   \n",
       "259         1101  91543   60269   \n",
       "\n",
       "                                                     qu   qa_id  \\\n",
       "5289  if i buy a domain do i need to buy all the oth...  513995   \n",
       "259                                       what is genre   60270   \n",
       "\n",
       "                               qa  ans_id  \\\n",
       "5289  where can i buy a ly domain  204821   \n",
       "259               what is a genre   23361   \n",
       "\n",
       "                                                    ans  is_duplicate  \\\n",
       "5289           NIC.LY - Libya ccTLD...Is the registrar.             0   \n",
       "259   Oh that would have to be Trad Jazz. I've never...             1   \n",
       "\n",
       "      is_correspond  ...  l_uq  l_aq  num_words_uq  num_words_aq  \\\n",
       "5289              1  ...    72    31            18             9   \n",
       "259               1  ...    15    17             4             5   \n",
       "\n",
       "      n_common_words  total_word_count  fraction_common_words  cosine_dist  \\\n",
       "5289             5.0              24.0               0.208333     0.063511   \n",
       "259              4.0               9.0               0.444444     0.583476   \n",
       "\n",
       "      euclid_dis  manhat_dis  \n",
       "5289    0.674567    9.385409  \n",
       "259     2.564767   38.356850  \n",
       "\n",
       "[2 rows x 23 columns]"
      ]
     },
     "execution_count": 11,
     "metadata": {},
     "output_type": "execute_result"
    }
   ],
   "source": [
    "QApair_df[:2]"
   ]
  },
  {
   "cell_type": "code",
   "execution_count": 12,
   "metadata": {},
   "outputs": [
    {
     "data": {
      "text/plain": [
       "Index(['Unnamed: 0', 'guid', 'qu_id', 'qu', 'qa_id', 'qa', 'ans_id', 'ans',\n",
       "       'is_duplicate', 'is_correspond', 'is_useful', 'f_uq', 'f_aq', 'l_uq',\n",
       "       'l_aq', 'num_words_uq', 'num_words_aq', 'n_common_words',\n",
       "       'total_word_count', 'fraction_common_words', 'cosine_dist',\n",
       "       'euclid_dis', 'manhat_dis'],\n",
       "      dtype='object')"
      ]
     },
     "execution_count": 12,
     "metadata": {},
     "output_type": "execute_result"
    }
   ],
   "source": [
    "#checking if all columns are present including the columns for all newly create distance features\n",
    "QApair_df.columns"
   ]
  },
  {
   "cell_type": "code",
   "execution_count": 13,
   "metadata": {},
   "outputs": [],
   "source": [
    "x_data = QApair_df[['l_uq','l_aq','num_words_uq','num_words_aq', 'n_common_words','cosine_dist', 'euclid_dis','manhat_dis']].copy()\n",
    "y_data = QApair_df['is_duplicate'].copy()"
   ]
  },
  {
   "cell_type": "markdown",
   "metadata": {},
   "source": [
    "# Logistic regression+ Basic Features+Word2vec for distance feature"
   ]
  },
  {
   "cell_type": "raw",
   "metadata": {},
   "source": [
    "#Fine tuning Logistic regression\n",
    "\n",
    "from sklearn.model_selection import GridSearchCV\n",
    "from sklearn.pipeline import Pipeline\n",
    "\n",
    "\n",
    "pipe = Pipeline([(\"clf\",LogisticRegression())])\n",
    "param_grid = [{\"clf__C\":[0.1,1.0,10.0],\"clf__class_weight\":['dict','balanced'],\"clf__solver\":['newton-cg', 'lbfgs', 'liblinear', 'sag', 'saga'], \"clf__max_iter\": [1000,2000,5000,10000]}]\n",
    "gs = GridSearchCV(pipe,param_grid,scoring = \"accuracy\",cv = 5, verbose = 1, n_jobs = -1)\n",
    "gs.fit(x_data,y_data)"
   ]
  },
  {
   "cell_type": "raw",
   "metadata": {},
   "source": [
    "#getting the best params from grid search\n",
    "print(\"Best Params\",gs.best_params_)\n",
    "print(\"Best Score\",gs.best_score_)"
   ]
  },
  {
   "cell_type": "code",
   "execution_count": 14,
   "metadata": {},
   "outputs": [],
   "source": [
    "#model using best params from grid search\n",
    "clf = LogisticRegression(C = 10,class_weight = 'dict', max_iter = 1000, solver = 'lbfgs').fit(x_data, y_data)"
   ]
  },
  {
   "cell_type": "code",
   "execution_count": 15,
   "metadata": {},
   "outputs": [
    {
     "name": "stdout",
     "output_type": "stream",
     "text": [
      "Feature:  l_uq , Score: -0.00451\n",
      "Feature:  l_aq , Score: 0.01252\n",
      "Feature:  num_words_uq , Score: -0.07717\n",
      "Feature:  num_words_aq , Score: -0.14405\n",
      "Feature:  n_common_words , Score: 0.31025\n",
      "Feature:  cosine_dist , Score: 0.10618\n",
      "Feature:  euclid_dis , Score: -8.24731\n",
      "Feature:  manhat_dis , Score: 0.53726\n"
     ]
    },
    {
     "data": {
      "image/png": "[encoded data removed]",
      "text/plain": [
       "<Figure size 432x288 with 1 Axes>"
      ]
     },
     "metadata": {
      "needs_background": "light"
     },
     "output_type": "display_data"
    }
   ],
   "source": [
    "#get feature importance plot\n",
    "feature_list = ['l_uq','l_aq','num_words_uq','num_words_aq', 'n_common_words','cosine_dist', 'euclid_dis','manhat_dis']\n",
    "importance = clf.coef_[0]\n",
    "for i,v in zip(feature_list,importance):\n",
    "    print('Feature: ',i, ', Score: %.5f' % v)\n",
    "# plot feature importance\n",
    "plt.barh(feature_list, importance)\n",
    "plt.xlabel(\"Score\")\n",
    "plt.title(\"Feature Importance Study of LR(Word2vec)\")\n",
    "plt.show()"
   ]
  },
  {
   "cell_type": "code",
   "execution_count": 16,
   "metadata": {},
   "outputs": [
    {
     "data": {
      "text/plain": [
       "Index(['Unnamed: 0', 'guid', 'qu_id', 'qu', 'qa_id', 'qa', 'ans_id', 'ans',\n",
       "       'is_duplicate', 'is_correspond', 'is_useful', 'f_uq', 'f_aq', 'l_uq',\n",
       "       'l_aq', 'num_words_uq', 'num_words_aq', 'n_common_words',\n",
       "       'total_word_count', 'fraction_common_words'],\n",
       "      dtype='object')"
      ]
     },
     "execution_count": 16,
     "metadata": {},
     "output_type": "execute_result"
    }
   ],
   "source": [
    "#finding mean reciprocal rank:\n",
    "test_df_ml = pd.read_csv('test.csv') #getting the test data\n",
    "test_df_ml.columns"
   ]
  },
  {
   "cell_type": "code",
   "execution_count": 17,
   "metadata": {},
   "outputs": [
    {
     "name": "stdout",
     "output_type": "stream",
     "text": [
      "Number of archived Questions: 500\n"
     ]
    }
   ],
   "source": [
    "test_df_ml = test_df_ml[['guid', 'qu_id', 'qu', 'qa_id', 'qa', 'ans_id', 'ans','is_duplicate', 'is_correspond', 'is_useful',]].copy()\n",
    "test_df_ml = test_df_ml[:500]\n",
    "l = len(test_df_ml['qa'])#Number of archived Questions\n",
    "print(\"Number of archived Questions:\",l)"
   ]
  },
  {
   "cell_type": "code",
   "execution_count": 18,
   "metadata": {},
   "outputs": [],
   "source": [
    "user_questions = test_df_ml['qu'].tolist()\n",
    "LR_WV_reciprocal_rank_list = []\n",
    "most_similar_quest_id = 0\n",
    "arch_questions = test_df_ml['qa'].tolist()\n",
    "for uquest_id, user_quest in enumerate(user_questions):\n",
    "    test_ml = test_df_ml[['guid', 'qu_id', 'qa', 'ans_id', 'ans','is_duplicate', 'is_correspond', 'is_useful',]].copy()\n",
    "    test_ml.loc[:,'qu'] = [user_quest]*l #appending user question to all archived questions dataframe\n",
    "    test_ml['l_uq'] = test_ml['qu'].str.len()\n",
    "    test_ml['l_aq'] = test_ml['qa'].str.len()\n",
    "    test_ml['num_words_uq'] = test_ml['qu'].apply(lambda x: len(x.split(\" \")))\n",
    "    test_ml['num_words_aq'] = test_ml['qa'].apply(lambda x: len(x.split(\" \")))\n",
    "    test_ml['n_common_words'] = test_ml.apply(find_word_Common, axis=1)\n",
    "    #finding distances\n",
    "    ml_test_user_vecs = np.array([vectorize_sent(word_vectors, ss) for ss in test_ml['qu'].tolist()])\n",
    "    ml_test_arch_vecs = np.array([vectorize_sent(word_vectors, ss) for ss in test_ml['qa'].tolist()])\n",
    "    test_ml['cosine_dist'] = [cosine_distances(user_quest,arch_quest)[0][0] for user_quest,arch_quest in zip(ml_test_user_vecs,ml_test_arch_vecs)] #getting cosine similarity between pir of questions and saving it in all_text dataframe\n",
    "    test_ml['euclid_dis']  = [euclidean_distances(user_quest,arch_quest)[0][0] for user_quest,arch_quest in zip(ml_test_user_vecs,ml_test_arch_vecs)]\n",
    "    test_ml['manhat_dis'] = [manhattan_distances(user_quest,arch_quest)[0][0] for user_quest,arch_quest in zip(ml_test_user_vecs,ml_test_arch_vecs)]\n",
    "    test_x_data = test_ml[['l_uq','l_aq','num_words_uq','num_words_aq', 'n_common_words','cosine_dist', 'euclid_dis','manhat_dis']].copy()\n",
    "    test_x_data = test_x_data.values\n",
    "    y_pred = clf.predict_proba(test_x_data) #predict probability\n",
    "    #print(max(x_data))\n",
    "    y_max = y_pred[:,1] #selecting only probability of duplication\n",
    "    #print(max(y_max))\n",
    "    most_similar_quest_id = np.argmax(np.array(y_max))\n",
    "    #print(most_similar_quest_id)\n",
    "    if arch_questions[uquest_id] ==arch_questions[most_similar_quest_id]:#comparing the retreived with duplicate question of user question\n",
    "        #print(\"\\nMost similar question retrieved\")\n",
    "        LR_WV_reciprocal_rank_list.append(1)\n",
    "    else:\n",
    "        #print(\"\\nDissimilar question retrived\")\n",
    "        LR_WV_reciprocal_rank_list.append(0)\n",
    "       \n"
   ]
  },
  {
   "cell_type": "code",
   "execution_count": 19,
   "metadata": {},
   "outputs": [
    {
     "name": "stdout",
     "output_type": "stream",
     "text": [
      "Mean Reciprocal Rank for Logistic regression+Basic features+Word2vec  0.77\n",
      "Number of question correctly retreived for Logistic regression+Basic features+Word2Vec  385\n"
     ]
    }
   ],
   "source": [
    "LR_WV_mean_reciprocal_rank = np.mean(np.array(LR_WV_reciprocal_rank_list))\n",
    "print(\"Mean Reciprocal Rank for Logistic regression+Basic features+Word2vec \",LR_WV_mean_reciprocal_rank)\n",
    "print(\"Number of question correctly retreived for Logistic regression+Basic features+Word2Vec \", sum(LR_WV_reciprocal_rank_list) )"
   ]
  },
  {
   "cell_type": "markdown",
   "metadata": {},
   "source": [
    "# Naive base+Basic Features+ Word2Vec for distance Feature"
   ]
  },
  {
   "cell_type": "raw",
   "metadata": {},
   "source": [
    "#Fine tuning Logistic regression\n",
    "\n",
    "from sklearn.model_selection import GridSearchCV\n",
    "from sklearn.pipeline import Pipeline\n",
    "\n",
    "\n",
    "pipe = Pipeline([(\"nb\",MultinomialNB())])\n",
    "param_grid = [{\"nb__alpha\":[0.1,0.2,0.5,1.0,10.0,50,100.0,200,1000]}]\n",
    "gs = GridSearchCV(pipe,param_grid,scoring = \"accuracy\",cv = 5, verbose = 1, n_jobs = -1)\n",
    "gs.fit(x_data,y_data)\n",
    "#getting the best params from grid search\n",
    "print(\"Best Params\",gs.best_params_)\n",
    "print(\"Best Score\",gs.best_score_)"
   ]
  },
  {
   "cell_type": "code",
   "execution_count": 20,
   "metadata": {},
   "outputs": [],
   "source": [
    "#fitting with best params\n",
    "nb = MultinomialNB(alpha = 100.0).fit(x_data,y_data)"
   ]
  },
  {
   "cell_type": "code",
   "execution_count": 21,
   "metadata": {},
   "outputs": [
    {
     "name": "stdout",
     "output_type": "stream",
     "text": [
      "Feature:  l_uq , Score: -1.02613\n",
      "Feature:  l_aq , Score: -1.03259\n",
      "Feature:  num_words_uq , Score: -2.61043\n",
      "Feature:  num_words_aq , Score: -2.61667\n",
      "Feature:  n_common_words , Score: -3.11159\n",
      "Feature:  cosine_sim , Score: -6.56527\n",
      "Feature:  euclid_dis , Score: -5.08043\n",
      "Feature:  manhat_dis , Score: -2.44389\n"
     ]
    },
    {
     "data": {
      "image/png": "[encoded data removed]",
      "text/plain": [
       "<Figure size 432x288 with 1 Axes>"
      ]
     },
     "metadata": {
      "needs_background": "light"
     },
     "output_type": "display_data"
    }
   ],
   "source": [
    "#get feature importance plot\n",
    "feature_list = ['l_uq','l_aq','num_words_uq','num_words_aq', 'n_common_words','cosine_sim', 'euclid_dis','manhat_dis']\n",
    "importance = nb.coef_[0]\n",
    "for i,v in zip(feature_list,importance):\n",
    "    print('Feature: ',i, ', Score: %.5f' % v)\n",
    "# plot feature importance\n",
    "plt.barh(feature_list, importance)\n",
    "plt.xlabel(\"Score\")\n",
    "plt.title(\"Feature Importance Study of NB(Word2vec)\")\n",
    "plt.show()"
   ]
  },
  {
   "cell_type": "code",
   "execution_count": 22,
   "metadata": {},
   "outputs": [],
   "source": [
    "user_questions = test_df_ml['qu'].tolist()\n",
    "NB_WV_reciprocal_rank_list = []\n",
    "most_similar_quest_id = 0\n",
    "arch_questions = test_df_ml['qa'].tolist()\n",
    "for uquest_id, user_quest in enumerate(user_questions):\n",
    "    test_ml = test_df_ml[['guid', 'qu_id', 'qa', 'ans_id', 'ans','is_duplicate', 'is_correspond', 'is_useful',]].copy()\n",
    "    test_ml.loc[:,'qu'] = [user_quest]*l\n",
    "    test_ml['l_uq'] = test_ml['qu'].str.len()\n",
    "    test_ml['l_aq'] = test_ml['qa'].str.len()\n",
    "    test_ml['num_words_uq'] = test_ml['qu'].apply(lambda x: len(x.split(\" \")))\n",
    "    test_ml['num_words_aq'] = test_ml['qa'].apply(lambda x: len(x.split(\" \")))\n",
    "    test_ml['n_common_words'] = test_ml.apply(find_word_Common, axis=1)\n",
    "    #finding distances\n",
    "    ml_test_user_vecs = np.array([vectorize_sent(word_vectors, ss) for ss in test_ml['qu'].tolist()])\n",
    "    ml_test_arch_vecs = np.array([vectorize_sent(word_vectors, ss) for ss in test_ml['qa'].tolist()])\n",
    "    test_ml['cosine_sim'] = [cosine_similarity(user_quest,arch_quest)[0][0] for user_quest,arch_quest in zip(ml_test_user_vecs,ml_test_arch_vecs)] #getting cosine similarity between pir of questions and saving it in all_text dataframe\n",
    "    test_ml['euclid_dis']  = [euclidean_distances(user_quest,arch_quest)[0][0] for user_quest,arch_quest in zip(ml_test_user_vecs,ml_test_arch_vecs)]\n",
    "    test_ml['manhat_dis'] = [manhattan_distances(user_quest,arch_quest)[0][0] for user_quest,arch_quest in zip(ml_test_user_vecs,ml_test_arch_vecs)]\n",
    "    test_x_data = test_ml[['l_uq','l_aq','num_words_uq','num_words_aq', 'n_common_words','cosine_sim', 'euclid_dis','manhat_dis']].copy()\n",
    "    test_x_data = test_x_data.values\n",
    "    y_pred = nb.predict_proba(test_x_data) #predict probability\n",
    "    #print(max(x_data))\n",
    "    y_max = y_pred[:,1] #selecting only probability of duplication\n",
    "    #print(max(y_max))\n",
    "    most_similar_quest_id = np.argmax(np.array(y_max))\n",
    "    #print(most_similar_quest_id)\n",
    "    if arch_questions[uquest_id] ==arch_questions[most_similar_quest_id]:#comparing the retreived with duplicate question of user question\n",
    "        #print(\"\\nMost similar question retrieved\")\n",
    "        NB_WV_reciprocal_rank_list.append(1)\n",
    "    else:\n",
    "        #print(\"\\nDissimilar question retrived\")\n",
    "        NB_WV_reciprocal_rank_list.append(0)\n"
   ]
  },
  {
   "cell_type": "code",
   "execution_count": 23,
   "metadata": {},
   "outputs": [
    {
     "name": "stdout",
     "output_type": "stream",
     "text": [
      "Mean Reciprocal Rank for Naivebase+Basic features_Word2Vec  0.692\n",
      "Number of question correctly retreived for Naivebase+Basic features_Word2Vec:  346\n"
     ]
    }
   ],
   "source": [
    "NB_WV__mean_reciprocal_rank = np.mean(np.array(NB_WV_reciprocal_rank_list))\n",
    "print(\"Mean Reciprocal Rank for Naivebase+Basic features_Word2Vec \",NB_WV__mean_reciprocal_rank)\n",
    "print(\"Number of question correctly retreived for Naivebase+Basic features_Word2Vec: \", sum(NB_WV_reciprocal_rank_list))"
   ]
  },
  {
   "cell_type": "markdown",
   "metadata": {},
   "source": [
    "# Machine Learning Method1: Probabilistic classifier+Basic Features+Glove for distance feature"
   ]
  },
  {
   "cell_type": "code",
   "execution_count": 24,
   "metadata": {},
   "outputs": [
    {
     "data": {
      "text/html": [
       "<div>\n",
       "<style scoped>\n",
       "    .dataframe tbody tr th:only-of-type {\n",
       "        vertical-align: middle;\n",
       "    }\n",
       "\n",
       "    .dataframe tbody tr th {\n",
       "        vertical-align: top;\n",
       "    }\n",
       "\n",
       "    .dataframe thead th {\n",
       "        text-align: right;\n",
       "    }\n",
       "</style>\n",
       "<table border=\"1\" class=\"dataframe\">\n",
       "  <thead>\n",
       "    <tr style=\"text-align: right;\">\n",
       "      <th></th>\n",
       "      <th>Unnamed: 0</th>\n",
       "      <th>guid</th>\n",
       "      <th>qu_id</th>\n",
       "      <th>qu</th>\n",
       "      <th>qa_id</th>\n",
       "      <th>qa</th>\n",
       "      <th>ans_id</th>\n",
       "      <th>ans</th>\n",
       "      <th>is_duplicate</th>\n",
       "      <th>is_correspond</th>\n",
       "      <th>is_useful</th>\n",
       "      <th>f_uq</th>\n",
       "      <th>f_aq</th>\n",
       "      <th>l_uq</th>\n",
       "      <th>l_aq</th>\n",
       "      <th>num_words_uq</th>\n",
       "      <th>num_words_aq</th>\n",
       "      <th>n_common_words</th>\n",
       "      <th>total_word_count</th>\n",
       "      <th>fraction_common_words</th>\n",
       "    </tr>\n",
       "  </thead>\n",
       "  <tbody>\n",
       "    <tr>\n",
       "      <th>2714</th>\n",
       "      <td>10974</td>\n",
       "      <td>126029</td>\n",
       "      <td>131721</td>\n",
       "      <td>why do people have so much trust in their rela...</td>\n",
       "      <td>143367</td>\n",
       "      <td>why do we lose the trust on the people after a...</td>\n",
       "      <td>151533</td>\n",
       "      <td>We??Who we?You are we here or we are we?See br...</td>\n",
       "      <td>1</td>\n",
       "      <td>1</td>\n",
       "      <td>1</td>\n",
       "      <td>1</td>\n",
       "      <td>2</td>\n",
       "      <td>137</td>\n",
       "      <td>62</td>\n",
       "      <td>28</td>\n",
       "      <td>14</td>\n",
       "      <td>8.0</td>\n",
       "      <td>38.0</td>\n",
       "      <td>0.210526</td>\n",
       "    </tr>\n",
       "    <tr>\n",
       "      <th>7093</th>\n",
       "      <td>6273</td>\n",
       "      <td>221759</td>\n",
       "      <td>294461</td>\n",
       "      <td>what makes the fundamental theorem of calculus...</td>\n",
       "      <td>294462</td>\n",
       "      <td>why is there a variable usually x in the secon...</td>\n",
       "      <td>85779</td>\n",
       "      <td>No, it is absolutely crucial that it be \"x\". N...</td>\n",
       "      <td>0</td>\n",
       "      <td>1</td>\n",
       "      <td>0</td>\n",
       "      <td>1</td>\n",
       "      <td>1</td>\n",
       "      <td>63</td>\n",
       "      <td>292</td>\n",
       "      <td>10</td>\n",
       "      <td>65</td>\n",
       "      <td>7.0</td>\n",
       "      <td>54.0</td>\n",
       "      <td>0.129630</td>\n",
       "    </tr>\n",
       "  </tbody>\n",
       "</table>\n",
       "</div>"
      ],
      "text/plain": [
       "      Unnamed: 0    guid   qu_id  \\\n",
       "2714       10974  126029  131721   \n",
       "7093        6273  221759  294461   \n",
       "\n",
       "                                                     qu   qa_id  \\\n",
       "2714  why do people have so much trust in their rela...  143367   \n",
       "7093  what makes the fundamental theorem of calculus...  294462   \n",
       "\n",
       "                                                     qa  ans_id  \\\n",
       "2714  why do we lose the trust on the people after a...  151533   \n",
       "7093  why is there a variable usually x in the secon...   85779   \n",
       "\n",
       "                                                    ans  is_duplicate  \\\n",
       "2714  We??Who we?You are we here or we are we?See br...             1   \n",
       "7093  No, it is absolutely crucial that it be \"x\". N...             0   \n",
       "\n",
       "      is_correspond  is_useful  f_uq  f_aq  l_uq  l_aq  num_words_uq  \\\n",
       "2714              1          1     1     2   137    62            28   \n",
       "7093              1          0     1     1    63   292            10   \n",
       "\n",
       "      num_words_aq  n_common_words  total_word_count  fraction_common_words  \n",
       "2714            14             8.0              38.0               0.210526  \n",
       "7093            65             7.0              54.0               0.129630  "
      ]
     },
     "execution_count": 24,
     "metadata": {},
     "output_type": "execute_result"
    }
   ],
   "source": [
    "QApair_df = pd.read_csv('train.csv')\n",
    "QApair_df = shuffle(QApair_df)\n",
    "QApair_df = QApair_df.dropna() #dropping na\n",
    "QApair_df[:2]"
   ]
  },
  {
   "cell_type": "code",
   "execution_count": 25,
   "metadata": {},
   "outputs": [
    {
     "name": "stdout",
     "output_type": "stream",
     "text": [
      "all text size 8000\n",
      "All label size 8000\n"
     ]
    }
   ],
   "source": [
    "all_text = QApair_df[[\"qu\",\"qa\"]]\n",
    "all_labels = QApair_df[\"is_duplicate\"]\n",
    "print(\"all text size\", len(all_text))\n",
    "print(\"All label size\", len(all_labels))\n",
    "all_user_text = all_text[\"qu\"].tolist() # user question to list\n",
    "all_arch_text = all_text[\"qa\"].tolist() #archived question to list"
   ]
  },
  {
   "cell_type": "code",
   "execution_count": 26,
   "metadata": {},
   "outputs": [],
   "source": [
    "from gensim.test.utils import datapath, get_tmpfile\n",
    "from gensim.models import KeyedVectors\n",
    "from gensim.scripts.glove2word2vec import glove2word2vec\n",
    "\n",
    "# here I load the 300-dimension vectors; loading longer embeddings would require longer time and more RAM\n",
    "path_of_downloaded_files = \"C:\\\\Users\\\\ASUS\\\\NLP\\\\embeddings\\\\glove.6B\\\\glove.6B.300d.txt\" \n",
    "\n",
    "glove_file = datapath(path_of_downloaded_files)\n",
    "word2vec_glove_file = get_tmpfile(\"glove.6B.300d.txt\")\n",
    "glove2word2vec(glove_file, word2vec_glove_file)\n",
    "word_vectors = KeyedVectors.load_word2vec_format(word2vec_glove_file)"
   ]
  },
  {
   "cell_type": "code",
   "execution_count": 27,
   "metadata": {},
   "outputs": [],
   "source": [
    "word_vec_dim = 300 # this number should match the embedding used\n",
    "oov_vec = np.random.rand(word_vec_dim) \n",
    "def vectorize_sent(word_vectors, sent):\n",
    "    word_vecs = []\n",
    "    for token in word_tokenize(sent):\n",
    "        if token not in word_vectors: \n",
    "            word_vecs.append(oov_vec)\n",
    "        else:\n",
    "            word_vecs.append(word_vectors[token].astype('float64'))\n",
    "    return (np.mean(word_vecs,axis=0)).reshape(1,-1)\n",
    "\n",
    "vv = vectorize_sent(word_vectors, 'hello world ! this is a test sentence !')"
   ]
  },
  {
   "cell_type": "code",
   "execution_count": 28,
   "metadata": {},
   "outputs": [
    {
     "name": "stdout",
     "output_type": "stream",
     "text": [
      "Index(['Unnamed: 0', 'guid', 'qu_id', 'qu', 'qa_id', 'qa', 'ans_id', 'ans',\n",
      "       'is_duplicate', 'is_correspond', 'is_useful', 'f_uq', 'f_aq', 'l_uq',\n",
      "       'l_aq', 'num_words_uq', 'num_words_aq', 'n_common_words',\n",
      "       'total_word_count', 'fraction_common_words', 'cosine_dist',\n",
      "       'euclid_dis', 'manhat_dis'],\n",
      "      dtype='object')\n"
     ]
    },
    {
     "data": {
      "text/html": [
       "<div>\n",
       "<style scoped>\n",
       "    .dataframe tbody tr th:only-of-type {\n",
       "        vertical-align: middle;\n",
       "    }\n",
       "\n",
       "    .dataframe tbody tr th {\n",
       "        vertical-align: top;\n",
       "    }\n",
       "\n",
       "    .dataframe thead th {\n",
       "        text-align: right;\n",
       "    }\n",
       "</style>\n",
       "<table border=\"1\" class=\"dataframe\">\n",
       "  <thead>\n",
       "    <tr style=\"text-align: right;\">\n",
       "      <th></th>\n",
       "      <th>Unnamed: 0</th>\n",
       "      <th>guid</th>\n",
       "      <th>qu_id</th>\n",
       "      <th>qu</th>\n",
       "      <th>qa_id</th>\n",
       "      <th>qa</th>\n",
       "      <th>ans_id</th>\n",
       "      <th>ans</th>\n",
       "      <th>is_duplicate</th>\n",
       "      <th>is_correspond</th>\n",
       "      <th>...</th>\n",
       "      <th>l_uq</th>\n",
       "      <th>l_aq</th>\n",
       "      <th>num_words_uq</th>\n",
       "      <th>num_words_aq</th>\n",
       "      <th>n_common_words</th>\n",
       "      <th>total_word_count</th>\n",
       "      <th>fraction_common_words</th>\n",
       "      <th>cosine_dist</th>\n",
       "      <th>euclid_dis</th>\n",
       "      <th>manhat_dis</th>\n",
       "    </tr>\n",
       "  </thead>\n",
       "  <tbody>\n",
       "    <tr>\n",
       "      <th>2714</th>\n",
       "      <td>10974</td>\n",
       "      <td>126029</td>\n",
       "      <td>131721</td>\n",
       "      <td>why do people have so much trust in their rela...</td>\n",
       "      <td>143367</td>\n",
       "      <td>why do we lose the trust on the people after a...</td>\n",
       "      <td>151533</td>\n",
       "      <td>We??Who we?You are we here or we are we?See br...</td>\n",
       "      <td>1</td>\n",
       "      <td>1</td>\n",
       "      <td>...</td>\n",
       "      <td>137</td>\n",
       "      <td>62</td>\n",
       "      <td>28</td>\n",
       "      <td>14</td>\n",
       "      <td>8.0</td>\n",
       "      <td>38.0</td>\n",
       "      <td>0.210526</td>\n",
       "      <td>0.045868</td>\n",
       "      <td>1.133665</td>\n",
       "      <td>15.661535</td>\n",
       "    </tr>\n",
       "    <tr>\n",
       "      <th>7093</th>\n",
       "      <td>6273</td>\n",
       "      <td>221759</td>\n",
       "      <td>294461</td>\n",
       "      <td>what makes the fundamental theorem of calculus...</td>\n",
       "      <td>294462</td>\n",
       "      <td>why is there a variable usually x in the secon...</td>\n",
       "      <td>85779</td>\n",
       "      <td>No, it is absolutely crucial that it be \"x\". N...</td>\n",
       "      <td>0</td>\n",
       "      <td>1</td>\n",
       "      <td>...</td>\n",
       "      <td>63</td>\n",
       "      <td>292</td>\n",
       "      <td>10</td>\n",
       "      <td>65</td>\n",
       "      <td>7.0</td>\n",
       "      <td>54.0</td>\n",
       "      <td>0.129630</td>\n",
       "      <td>0.168367</td>\n",
       "      <td>2.136288</td>\n",
       "      <td>29.096994</td>\n",
       "    </tr>\n",
       "  </tbody>\n",
       "</table>\n",
       "<p>2 rows × 23 columns</p>\n",
       "</div>"
      ],
      "text/plain": [
       "      Unnamed: 0    guid   qu_id  \\\n",
       "2714       10974  126029  131721   \n",
       "7093        6273  221759  294461   \n",
       "\n",
       "                                                     qu   qa_id  \\\n",
       "2714  why do people have so much trust in their rela...  143367   \n",
       "7093  what makes the fundamental theorem of calculus...  294462   \n",
       "\n",
       "                                                     qa  ans_id  \\\n",
       "2714  why do we lose the trust on the people after a...  151533   \n",
       "7093  why is there a variable usually x in the secon...   85779   \n",
       "\n",
       "                                                    ans  is_duplicate  \\\n",
       "2714  We??Who we?You are we here or we are we?See br...             1   \n",
       "7093  No, it is absolutely crucial that it be \"x\". N...             0   \n",
       "\n",
       "      is_correspond  ...  l_uq  l_aq  num_words_uq  num_words_aq  \\\n",
       "2714              1  ...   137    62            28            14   \n",
       "7093              1  ...    63   292            10            65   \n",
       "\n",
       "      n_common_words  total_word_count  fraction_common_words  cosine_dist  \\\n",
       "2714             8.0              38.0               0.210526     0.045868   \n",
       "7093             7.0              54.0               0.129630     0.168367   \n",
       "\n",
       "      euclid_dis  manhat_dis  \n",
       "2714    1.133665   15.661535  \n",
       "7093    2.136288   29.096994  \n",
       "\n",
       "[2 rows x 23 columns]"
      ]
     },
     "execution_count": 28,
     "metadata": {},
     "output_type": "execute_result"
    }
   ],
   "source": [
    "#following embeddingds are used for finding diff distances between question pairs of all vectors\n",
    "all_user_vecs = np.array([vectorize_sent(word_vectors, ss) for ss in all_user_text]) #getting vector representation for user questions\n",
    "all_arch_vecs = np.array([vectorize_sent(word_vectors, ss) for ss in all_arch_text]) #getting vector representation for archived questions\n",
    "#getting distnces\n",
    "cosine_dist = [cosine_distances(user_quest,arch_quest)[0][0] for user_quest,arch_quest in zip(all_user_vecs,all_arch_vecs)] #getting cosine distance between pir of questions and saving it in all_text dataframe\n",
    "euclid_dis = [euclidean_distances(user_quest,arch_quest)[0][0] for user_quest,arch_quest in zip(all_user_vecs,all_arch_vecs)]\n",
    "manhat_dis = [manhattan_distances(user_quest,arch_quest)[0][0] for user_quest,arch_quest in zip(all_user_vecs,all_arch_vecs)]\n",
    "QApair_df['cosine_dist'] = cosine_dist\n",
    "QApair_df['euclid_dis'] = euclid_dis\n",
    "QApair_df['manhat_dis'] = manhat_dis\n",
    "#checking if all columns are present including the columns for all newly create distance features\n",
    "print(QApair_df.columns)\n",
    "QApair_df[:2]"
   ]
  },
  {
   "cell_type": "code",
   "execution_count": 29,
   "metadata": {},
   "outputs": [],
   "source": [
    "x_data = QApair_df[['l_uq','l_aq','num_words_uq','num_words_aq', 'n_common_words','cosine_dist', 'euclid_dis','manhat_dis']].copy()\n",
    "y_data = QApair_df['is_duplicate'].copy()"
   ]
  },
  {
   "cell_type": "markdown",
   "metadata": {},
   "source": [
    "# Logistic Regression+ Basic Features+ Glove"
   ]
  },
  {
   "cell_type": "code",
   "execution_count": 30,
   "metadata": {},
   "outputs": [],
   "source": [
    "#model using best params from grid search\n",
    "clf = LogisticRegression(C = 10,class_weight = 'dict', max_iter = 1000, solver = 'lbfgs').fit(x_data, y_data)"
   ]
  },
  {
   "cell_type": "code",
   "execution_count": 31,
   "metadata": {},
   "outputs": [
    {
     "name": "stdout",
     "output_type": "stream",
     "text": [
      "Feature:  l_uq , Score: -0.00204\n",
      "Feature:  l_aq , Score: 0.01420\n",
      "Feature:  num_words_uq , Score: -0.08197\n",
      "Feature:  num_words_aq , Score: -0.14388\n",
      "Feature:  n_common_words , Score: 0.23775\n",
      "Feature:  cosine_dist , Score: -5.23011\n",
      "Feature:  euclid_dis , Score: 2.69385\n",
      "Feature:  manhat_dis , Score: -0.20618\n"
     ]
    },
    {
     "data": {
      "image/png": "[encoded data removed]",
      "text/plain": [
       "<Figure size 432x288 with 1 Axes>"
      ]
     },
     "metadata": {
      "needs_background": "light"
     },
     "output_type": "display_data"
    }
   ],
   "source": [
    "#get feature importance plot\n",
    "feature_list = ['l_uq','l_aq','num_words_uq','num_words_aq', 'n_common_words','cosine_dist', 'euclid_dis','manhat_dis']\n",
    "importance = clf.coef_[0]\n",
    "for i,v in zip(feature_list,importance):\n",
    "    print('Feature: ',i, ', Score: %.5f' % v)\n",
    "# plot feature importance\n",
    "plt.barh(feature_list, importance)\n",
    "plt.xlabel(\"Score\")\n",
    "plt.title(\"Feature Importance Study of LR(Glove)\")\n",
    "plt.show()"
   ]
  },
  {
   "cell_type": "code",
   "execution_count": 32,
   "metadata": {},
   "outputs": [
    {
     "data": {
      "text/plain": [
       "Index(['Unnamed: 0', 'guid', 'qu_id', 'qu', 'qa_id', 'qa', 'ans_id', 'ans',\n",
       "       'is_duplicate', 'is_correspond', 'is_useful', 'f_uq', 'f_aq', 'l_uq',\n",
       "       'l_aq', 'num_words_uq', 'num_words_aq', 'n_common_words',\n",
       "       'total_word_count', 'fraction_common_words'],\n",
       "      dtype='object')"
      ]
     },
     "execution_count": 32,
     "metadata": {},
     "output_type": "execute_result"
    }
   ],
   "source": [
    "#finding mean reciprocal rank:\n",
    "test_df_ml = pd.read_csv('test.csv') #getting the test data\n",
    "test_df_ml.columns"
   ]
  },
  {
   "cell_type": "code",
   "execution_count": 33,
   "metadata": {},
   "outputs": [
    {
     "name": "stdout",
     "output_type": "stream",
     "text": [
      "Number of archived Questions: 500\n"
     ]
    }
   ],
   "source": [
    "test_df_ml = test_df_ml[['guid', 'qu_id', 'qu', 'qa_id', 'qa', 'ans_id', 'ans','is_duplicate', 'is_correspond', 'is_useful',]].copy()\n",
    "test_df_ml = test_df_ml[:500]\n",
    "l = len(test_df_ml['qa'])#Number of archived Questions\n",
    "print(\"Number of archived Questions:\",l)"
   ]
  },
  {
   "cell_type": "code",
   "execution_count": 34,
   "metadata": {},
   "outputs": [],
   "source": [
    "user_questions = test_df_ml['qu'].tolist()\n",
    "LR_G_reciprocal_rank_list = []\n",
    "most_similar_quest_id = 0\n",
    "arch_questions = test_df_ml['qa'].tolist()\n",
    "for uquest_id, user_quest in enumerate(user_questions):\n",
    "    test_ml = test_df_ml[['guid', 'qu_id', 'qa', 'ans_id', 'ans','is_duplicate', 'is_correspond', 'is_useful',]].copy()\n",
    "    test_ml.loc[:,'qu'] = [user_quest]*l #appending user question to all archived questions dataframe\n",
    "    test_ml['l_uq'] = test_ml['qu'].str.len()\n",
    "    test_ml['l_aq'] = test_ml['qa'].str.len()\n",
    "    test_ml['num_words_uq'] = test_ml['qu'].apply(lambda x: len(x.split(\" \")))\n",
    "    test_ml['num_words_aq'] = test_ml['qa'].apply(lambda x: len(x.split(\" \")))\n",
    "    test_ml['n_common_words'] = test_ml.apply(find_word_Common, axis=1)\n",
    "    #finding distances\n",
    "    ml_test_user_vecs = np.array([vectorize_sent(word_vectors, ss) for ss in test_ml['qu'].tolist()])\n",
    "    ml_test_arch_vecs = np.array([vectorize_sent(word_vectors, ss) for ss in test_ml['qa'].tolist()])\n",
    "    test_ml['cosine_dist'] = [cosine_distances(user_quest,arch_quest)[0][0] for user_quest,arch_quest in zip(ml_test_user_vecs,ml_test_arch_vecs)] #getting cosine similarity between pir of questions and saving it in all_text dataframe\n",
    "    test_ml['euclid_dis']  = [euclidean_distances(user_quest,arch_quest)[0][0] for user_quest,arch_quest in zip(ml_test_user_vecs,ml_test_arch_vecs)]\n",
    "    test_ml['manhat_dis'] = [manhattan_distances(user_quest,arch_quest)[0][0] for user_quest,arch_quest in zip(ml_test_user_vecs,ml_test_arch_vecs)]\n",
    "    test_x_data = test_ml[['l_uq','l_aq','num_words_uq','num_words_aq', 'n_common_words','cosine_dist', 'euclid_dis','manhat_dis']].copy()\n",
    "    test_x_data = test_x_data.values\n",
    "    y_pred = clf.predict_proba(test_x_data) #predict probability\n",
    "    #print(max(x_data))\n",
    "    y_max = y_pred[:,1] #selecting only probability of duplication\n",
    "    #print(max(y_max))\n",
    "    most_similar_quest_id = np.argmax(np.array(y_max))\n",
    "    #print(most_similar_quest_id)\n",
    "    if arch_questions[uquest_id] ==arch_questions[most_similar_quest_id]:#comparing the retreived with duplicate question of user question\n",
    "        #print(\"\\nMost similar question retrieved\")\n",
    "        LR_G_reciprocal_rank_list.append(1)\n",
    "    else:\n",
    "        #print(\"\\nDissimilar question retrived\")\n",
    "        LR_G_reciprocal_rank_list.append(0)\n"
   ]
  },
  {
   "cell_type": "code",
   "execution_count": 35,
   "metadata": {},
   "outputs": [
    {
     "name": "stdout",
     "output_type": "stream",
     "text": [
      "Mean Reciprocal Rank for Logistic regression+Basic features+Glove  0.796\n",
      "Number of question correctly retreived for Logistic regression+Basic features+Glove:  398\n"
     ]
    }
   ],
   "source": [
    "LR_G_mean_reciprocal_rank = np.mean(np.array(LR_G_reciprocal_rank_list))\n",
    "print(\"Mean Reciprocal Rank for Logistic regression+Basic features+Glove \",LR_G_mean_reciprocal_rank)\n",
    "print(\"Number of question correctly retreived for Logistic regression+Basic features+Glove: \", sum(LR_G_reciprocal_rank_list) )"
   ]
  },
  {
   "cell_type": "markdown",
   "metadata": {},
   "source": [
    "# Naive Bayes +Basic Features+Glove"
   ]
  },
  {
   "cell_type": "code",
   "execution_count": 36,
   "metadata": {},
   "outputs": [],
   "source": [
    "#fitting with best params\n",
    "nb = MultinomialNB(alpha = 100.0).fit(x_data,y_data)"
   ]
  },
  {
   "cell_type": "code",
   "execution_count": 44,
   "metadata": {},
   "outputs": [
    {
     "name": "stdout",
     "output_type": "stream",
     "text": [
      "Feature:  l_uq , Score: -1.06620\n",
      "Feature:  l_aq , Score: -1.07267\n",
      "Feature:  num_words_uq , Score: -2.65050\n",
      "Feature:  num_words_aq , Score: -2.65675\n",
      "Feature:  n_common_words , Score: -3.15166\n",
      "Feature:  cosine_sim , Score: -7.33748\n",
      "Feature:  euclid_dis , Score: -4.71610\n",
      "Feature:  manhat_dis , Score: -2.11679\n"
     ]
    },
    {
     "data": {
      "image/png": "[encoded data removed]",
      "text/plain": [
       "<Figure size 432x288 with 1 Axes>"
      ]
     },
     "metadata": {
      "needs_background": "light"
     },
     "output_type": "display_data"
    }
   ],
   "source": [
    "#get feature importance plot\n",
    "feature_list = ['l_uq','l_aq','num_words_uq','num_words_aq', 'n_common_words','cosine_sim', 'euclid_dis','manhat_dis']\n",
    "importance = nb.coef_[0]\n",
    "for i,v in zip(feature_list,importance):\n",
    "    print('Feature: ',i, ', Score: %.5f' % v)\n",
    "# plot feature importance\n",
    "plt.barh(feature_list, importance)\n",
    "plt.xlabel(\"Score\")\n",
    "plt.title(\"Feature Importance Study of NB(Glove)\")\n",
    "plt.show()"
   ]
  },
  {
   "cell_type": "code",
   "execution_count": 38,
   "metadata": {},
   "outputs": [],
   "source": [
    "user_questions = test_df_ml['qu'].tolist()\n",
    "NB_G_reciprocal_rank_list = []\n",
    "most_similar_quest_id = 0\n",
    "arch_questions = test_df_ml['qa'].tolist()\n",
    "for uquest_id, user_quest in enumerate(user_questions):\n",
    "    test_ml = test_df_ml[['guid', 'qu_id', 'qa', 'ans_id', 'ans','is_duplicate', 'is_correspond', 'is_useful',]].copy()\n",
    "    test_ml.loc[:,'qu'] = [user_quest]*l\n",
    "    test_ml['l_uq'] = test_ml['qu'].str.len()\n",
    "    test_ml['l_aq'] = test_ml['qa'].str.len()\n",
    "    test_ml['num_words_uq'] = test_ml['qu'].apply(lambda x: len(x.split(\" \")))\n",
    "    test_ml['num_words_aq'] = test_ml['qa'].apply(lambda x: len(x.split(\" \")))\n",
    "    test_ml['n_common_words'] = test_ml.apply(find_word_Common, axis=1)\n",
    "    #finding distances\n",
    "    ml_test_user_vecs = np.array([vectorize_sent(word_vectors, ss) for ss in test_ml['qu'].tolist()])\n",
    "    ml_test_arch_vecs = np.array([vectorize_sent(word_vectors, ss) for ss in test_ml['qa'].tolist()])\n",
    "    test_ml['cosine_sim'] = [cosine_similarity(user_quest,arch_quest)[0][0] for user_quest,arch_quest in zip(ml_test_user_vecs,ml_test_arch_vecs)] #getting cosine similarity between pir of questions and saving it in all_text dataframe\n",
    "    test_ml['euclid_dis']  = [euclidean_distances(user_quest,arch_quest)[0][0] for user_quest,arch_quest in zip(ml_test_user_vecs,ml_test_arch_vecs)]\n",
    "    test_ml['manhat_dis'] = [manhattan_distances(user_quest,arch_quest)[0][0] for user_quest,arch_quest in zip(ml_test_user_vecs,ml_test_arch_vecs)]\n",
    "    test_x_data = test_ml[['l_uq','l_aq','num_words_uq','num_words_aq', 'n_common_words','cosine_sim', 'euclid_dis','manhat_dis']].copy()\n",
    "    test_x_data = test_x_data.values\n",
    "    y_pred = nb.predict_proba(test_x_data) #predict probability\n",
    "    #print(max(x_data))\n",
    "    y_max = y_pred[:,1] #selecting only probability of duplication\n",
    "    #print(max(y_max))\n",
    "    most_similar_quest_id = np.argmax(np.array(y_max))\n",
    "    #print(most_similar_quest_id)\n",
    "    if arch_questions[uquest_id] ==arch_questions[most_similar_quest_id]:#comparing the retreived with duplicate question of user question\n",
    "        #print(\"\\nMost similar question retrieved\")\n",
    "        NB_G_reciprocal_rank_list.append(1)\n",
    "    else:\n",
    "        #print(\"\\nDissimilar question retrived\")\n",
    "        NB_G_reciprocal_rank_list.append(0)\n"
   ]
  },
  {
   "cell_type": "code",
   "execution_count": 39,
   "metadata": {},
   "outputs": [
    {
     "name": "stdout",
     "output_type": "stream",
     "text": [
      "Mean Reciprocal Rank for Naive Bayes+Basic features_Glove  0.7\n",
      "Number of question correctly retreived for  Naive Bayes+Basic features_Glove:  350\n"
     ]
    }
   ],
   "source": [
    "NB_G_mean_reciprocal_rank_list = np.mean(np.array(NB_G_reciprocal_rank_list))\n",
    "print(\"Mean Reciprocal Rank for Naive Bayes+Basic features_Glove \",NB_G_mean_reciprocal_rank_list)\n",
    "print(\"Number of question correctly retreived for  Naive Bayes+Basic features_Glove: \", sum(NB_G_reciprocal_rank_list) )"
   ]
  },
  {
   "cell_type": "code",
   "execution_count": 42,
   "metadata": {},
   "outputs": [
    {
     "data": {
      "text/html": [
       "<div>\n",
       "<style scoped>\n",
       "    .dataframe tbody tr th:only-of-type {\n",
       "        vertical-align: middle;\n",
       "    }\n",
       "\n",
       "    .dataframe tbody tr th {\n",
       "        vertical-align: top;\n",
       "    }\n",
       "\n",
       "    .dataframe thead th {\n",
       "        text-align: right;\n",
       "    }\n",
       "</style>\n",
       "<table border=\"1\" class=\"dataframe\">\n",
       "  <thead>\n",
       "    <tr style=\"text-align: right;\">\n",
       "      <th></th>\n",
       "      <th>Method</th>\n",
       "      <th>mean_reciprocal_ranks</th>\n",
       "    </tr>\n",
       "  </thead>\n",
       "  <tbody>\n",
       "    <tr>\n",
       "      <th>0</th>\n",
       "      <td>LR+BasicFeature+WV</td>\n",
       "      <td>0.770</td>\n",
       "    </tr>\n",
       "    <tr>\n",
       "      <th>1</th>\n",
       "      <td>NB+BasicFeature+WV</td>\n",
       "      <td>0.692</td>\n",
       "    </tr>\n",
       "    <tr>\n",
       "      <th>2</th>\n",
       "      <td>LR+BasicFeature+Glove</td>\n",
       "      <td>0.796</td>\n",
       "    </tr>\n",
       "    <tr>\n",
       "      <th>3</th>\n",
       "      <td>NB+BasicFeature+Glove</td>\n",
       "      <td>0.700</td>\n",
       "    </tr>\n",
       "  </tbody>\n",
       "</table>\n",
       "</div>"
      ],
      "text/plain": [
       "                  Method  mean_reciprocal_ranks\n",
       "0     LR+BasicFeature+WV                  0.770\n",
       "1     NB+BasicFeature+WV                  0.692\n",
       "2  LR+BasicFeature+Glove                  0.796\n",
       "3  NB+BasicFeature+Glove                  0.700"
      ]
     },
     "execution_count": 42,
     "metadata": {},
     "output_type": "execute_result"
    }
   ],
   "source": [
    "results_df = pd.DataFrame()\n",
    "results_df[\"Method\"] = [\"LR+BasicFeature+WV\",\"NB+BasicFeature+WV\",\"LR+BasicFeature+Glove\",\"NB+BasicFeature+Glove\"]\n",
    "results_df[\"mean_reciprocal_ranks\"] = [LR_WV_mean_reciprocal_rank,NB_WV__mean_reciprocal_rank,LR_G_mean_reciprocal_rank,NB_G_mean_reciprocal_rank_list]\n",
    "results_df"
   ]
  },
  {
   "cell_type": "code",
   "execution_count": 43,
   "metadata": {},
   "outputs": [
    {
     "data": {
      "text/plain": [
       "([0, 1, 2, 3],\n",
       " [Text(0, 0, ''), Text(0, 0, ''), Text(0, 0, ''), Text(0, 0, '')])"
      ]
     },
     "execution_count": 43,
     "metadata": {},
     "output_type": "execute_result"
    },
    {
     "data": {
      "image/png": "[encoded data removed]",
      "text/plain": [
       "<Figure size 432x288 with 1 Axes>"
      ]
     },
     "metadata": {
      "needs_background": "light"
     },
     "output_type": "display_data"
    }
   ],
   "source": [
    "import matplotlib.pyplot as plt\n",
    "plt.bar(results_df[\"Method\"],results_df[\"mean_reciprocal_ranks\"])\n",
    "plt.ylabel(\"Mean Reciprocal rank\")\n",
    "plt.ylim(0,1)\n",
    "plt.xticks(rotation = 45)"
   ]
  }
 ],
 "metadata": {
  "kernelspec": {
   "display_name": "vevn_nlp",
   "language": "python",
   "name": "vevn_nlp"
  },
  "language_info": {
   "codemirror_mode": {
    "name": "ipython",
    "version": 3
   },
   "file_extension": ".py",
   "mimetype": "text/x-python",
   "name": "python",
   "nbconvert_exporter": "python",
   "pygments_lexer": "ipython3",
   "version": "3.7.7"
  }
 },
 "nbformat": 4,
 "nbformat_minor": 2
}
