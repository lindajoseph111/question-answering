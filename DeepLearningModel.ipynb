{
 "cells": [
  {
   "cell_type": "code",
   "execution_count": 34,
   "metadata": {},
   "outputs": [],
   "source": [
    "# load data and take a quick look\n",
    "import pandas as pd\n",
    "from sklearn.utils import shuffle\n",
    "from gensim.test.utils import datapath\n",
    "from gensim.models import KeyedVectors\n",
    "from pathlib import Path\n",
    "import torch\n",
    "import torch.nn as nn"
   ]
  },
  {
   "cell_type": "code",
   "execution_count": 35,
   "metadata": {},
   "outputs": [
    {
     "data": {
      "text/html": [
       "<div>\n",
       "<style scoped>\n",
       "    .dataframe tbody tr th:only-of-type {\n",
       "        vertical-align: middle;\n",
       "    }\n",
       "\n",
       "    .dataframe tbody tr th {\n",
       "        vertical-align: top;\n",
       "    }\n",
       "\n",
       "    .dataframe thead th {\n",
       "        text-align: right;\n",
       "    }\n",
       "</style>\n",
       "<table border=\"1\" class=\"dataframe\">\n",
       "  <thead>\n",
       "    <tr style=\"text-align: right;\">\n",
       "      <th></th>\n",
       "      <th>Unnamed: 0</th>\n",
       "      <th>guid</th>\n",
       "      <th>qu_id</th>\n",
       "      <th>qu</th>\n",
       "      <th>qa_id</th>\n",
       "      <th>qa</th>\n",
       "      <th>ans_id</th>\n",
       "      <th>ans</th>\n",
       "      <th>is_duplicate</th>\n",
       "      <th>is_correspond</th>\n",
       "      <th>is_useful</th>\n",
       "      <th>f_uq</th>\n",
       "      <th>f_aq</th>\n",
       "      <th>l_uq</th>\n",
       "      <th>l_aq</th>\n",
       "      <th>num_words_uq</th>\n",
       "      <th>num_words_aq</th>\n",
       "      <th>n_common_words</th>\n",
       "      <th>total_word_count</th>\n",
       "      <th>fraction_common_words</th>\n",
       "    </tr>\n",
       "  </thead>\n",
       "  <tbody>\n",
       "    <tr>\n",
       "      <th>0</th>\n",
       "      <td>4</td>\n",
       "      <td>98550</td>\n",
       "      <td>198647</td>\n",
       "      <td>is lamborghini better than ferrari</td>\n",
       "      <td>198648</td>\n",
       "      <td>why is lamborghini better than ferrari</td>\n",
       "      <td>73400</td>\n",
       "      <td>Lamborghinis.Thats why I have 24 of them compa...</td>\n",
       "      <td>1</td>\n",
       "      <td>1</td>\n",
       "      <td>1</td>\n",
       "      <td>1</td>\n",
       "      <td>1</td>\n",
       "      <td>36</td>\n",
       "      <td>40</td>\n",
       "      <td>6</td>\n",
       "      <td>7</td>\n",
       "      <td>6.0</td>\n",
       "      <td>13.0</td>\n",
       "      <td>0.461538</td>\n",
       "    </tr>\n",
       "    <tr>\n",
       "      <th>1</th>\n",
       "      <td>8</td>\n",
       "      <td>23880</td>\n",
       "      <td>122782</td>\n",
       "      <td>what does a trump presidency mean for indian s...</td>\n",
       "      <td>12385</td>\n",
       "      <td>how would trump presidency affect indian stude...</td>\n",
       "      <td>76886</td>\n",
       "      <td>In the last Presidential debate, the conservat...</td>\n",
       "      <td>1</td>\n",
       "      <td>1</td>\n",
       "      <td>1</td>\n",
       "      <td>2</td>\n",
       "      <td>17</td>\n",
       "      <td>97</td>\n",
       "      <td>61</td>\n",
       "      <td>17</td>\n",
       "      <td>11</td>\n",
       "      <td>6.0</td>\n",
       "      <td>28.0</td>\n",
       "      <td>0.214286</td>\n",
       "    </tr>\n",
       "    <tr>\n",
       "      <th>2</th>\n",
       "      <td>12</td>\n",
       "      <td>108664</td>\n",
       "      <td>210485</td>\n",
       "      <td>why is north america considered the west</td>\n",
       "      <td>210486</td>\n",
       "      <td>is north america considered the west</td>\n",
       "      <td>98240</td>\n",
       "      <td>The British invented the Prime Meridian.  They...</td>\n",
       "      <td>1</td>\n",
       "      <td>1</td>\n",
       "      <td>1</td>\n",
       "      <td>1</td>\n",
       "      <td>1</td>\n",
       "      <td>56</td>\n",
       "      <td>52</td>\n",
       "      <td>10</td>\n",
       "      <td>9</td>\n",
       "      <td>8.0</td>\n",
       "      <td>17.0</td>\n",
       "      <td>0.470588</td>\n",
       "    </tr>\n",
       "    <tr>\n",
       "      <th>3</th>\n",
       "      <td>13</td>\n",
       "      <td>106306</td>\n",
       "      <td>181906</td>\n",
       "      <td>if you could live in a movie what movie would ...</td>\n",
       "      <td>201042</td>\n",
       "      <td>if you could enter the reality inside a movie ...</td>\n",
       "      <td>74909</td>\n",
       "      <td>Midnight in Paris..!Fantasising about living i...</td>\n",
       "      <td>1</td>\n",
       "      <td>1</td>\n",
       "      <td>1</td>\n",
       "      <td>2</td>\n",
       "      <td>2</td>\n",
       "      <td>63</td>\n",
       "      <td>111</td>\n",
       "      <td>16</td>\n",
       "      <td>23</td>\n",
       "      <td>10.0</td>\n",
       "      <td>33.0</td>\n",
       "      <td>0.303030</td>\n",
       "    </tr>\n",
       "    <tr>\n",
       "      <th>4</th>\n",
       "      <td>15</td>\n",
       "      <td>103382</td>\n",
       "      <td>518790</td>\n",
       "      <td>what jobs are in art stream</td>\n",
       "      <td>518791</td>\n",
       "      <td>what are scopes of arts stream</td>\n",
       "      <td>129264</td>\n",
       "      <td>You can opt anything as your carrier other tha...</td>\n",
       "      <td>1</td>\n",
       "      <td>1</td>\n",
       "      <td>1</td>\n",
       "      <td>1</td>\n",
       "      <td>1</td>\n",
       "      <td>29</td>\n",
       "      <td>32</td>\n",
       "      <td>7</td>\n",
       "      <td>7</td>\n",
       "      <td>4.0</td>\n",
       "      <td>14.0</td>\n",
       "      <td>0.285714</td>\n",
       "    </tr>\n",
       "  </tbody>\n",
       "</table>\n",
       "</div>"
      ],
      "text/plain": [
       "   Unnamed: 0    guid   qu_id  \\\n",
       "0           4   98550  198647   \n",
       "1           8   23880  122782   \n",
       "2          12  108664  210485   \n",
       "3          13  106306  181906   \n",
       "4          15  103382  518790   \n",
       "\n",
       "                                                  qu   qa_id  \\\n",
       "0                 is lamborghini better than ferrari  198648   \n",
       "1  what does a trump presidency mean for indian s...   12385   \n",
       "2           why is north america considered the west  210486   \n",
       "3  if you could live in a movie what movie would ...  201042   \n",
       "4                        what jobs are in art stream  518791   \n",
       "\n",
       "                                                  qa  ans_id  \\\n",
       "0             why is lamborghini better than ferrari   73400   \n",
       "1  how would trump presidency affect indian stude...   76886   \n",
       "2               is north america considered the west   98240   \n",
       "3  if you could enter the reality inside a movie ...   74909   \n",
       "4                     what are scopes of arts stream  129264   \n",
       "\n",
       "                                                 ans  is_duplicate  \\\n",
       "0  Lamborghinis.Thats why I have 24 of them compa...             1   \n",
       "1  In the last Presidential debate, the conservat...             1   \n",
       "2  The British invented the Prime Meridian.  They...             1   \n",
       "3  Midnight in Paris..!Fantasising about living i...             1   \n",
       "4  You can opt anything as your carrier other tha...             1   \n",
       "\n",
       "   is_correspond  is_useful  f_uq  f_aq  l_uq  l_aq  num_words_uq  \\\n",
       "0              1          1     1     1    36    40             6   \n",
       "1              1          1     2    17    97    61            17   \n",
       "2              1          1     1     1    56    52            10   \n",
       "3              1          1     2     2    63   111            16   \n",
       "4              1          1     1     1    29    32             7   \n",
       "\n",
       "   num_words_aq  n_common_words  total_word_count  fraction_common_words  \n",
       "0             7             6.0              13.0               0.461538  \n",
       "1            11             6.0              28.0               0.214286  \n",
       "2             9             8.0              17.0               0.470588  \n",
       "3            23            10.0              33.0               0.303030  \n",
       "4             7             4.0              14.0               0.285714  "
      ]
     },
     "execution_count": 35,
     "metadata": {},
     "output_type": "execute_result"
    }
   ],
   "source": [
    "QApair_df = pd.read_csv('train.csv')\n",
    "QApair_df.head()"
   ]
  },
  {
   "cell_type": "code",
   "execution_count": 36,
   "metadata": {},
   "outputs": [
    {
     "name": "stdout",
     "output_type": "stream",
     "text": [
      "all text size 8000\n",
      "All label size 8000\n"
     ]
    }
   ],
   "source": [
    "all_text = QApair_df[[\"qu\",\"qa\"]]\n",
    "all_labels = QApair_df[\"is_duplicate\"]\n",
    "labels_list = [1,0]\n",
    "print(\"all text size\", len(all_text))\n",
    "print(\"All label size\", len(all_labels))"
   ]
  },
  {
   "cell_type": "code",
   "execution_count": 37,
   "metadata": {},
   "outputs": [
    {
     "name": "stdout",
     "output_type": "stream",
     "text": [
      "Size of train set 4800\n",
      "Size of the test set 3200\n",
      "2400\n",
      "1600\n"
     ]
    }
   ],
   "source": [
    "#splitting the training and test set with balanced classes\n",
    "from sklearn.model_selection import train_test_split\n",
    "train_text, test_text, train_labels, test_labels = train_test_split(all_text, all_labels, test_size=0.4, random_state=0, stratify=all_labels)\n",
    "print(\"Size of train set\", len(train_text))\n",
    "print(\"Size of the test set\", len(test_text))\n",
    "print(sum(train_labels))\n",
    "print(sum(test_labels))"
   ]
  },
  {
   "cell_type": "code",
   "execution_count": 38,
   "metadata": {},
   "outputs": [],
   "source": [
    "train_user_text = train_text[\"qu\"].tolist() #list of user questions for training\n",
    "test_user_text = test_text[\"qu\"].tolist() #list of user questions for testing\n",
    "\n",
    "train_arch_text = train_text[\"qa\"].tolist() #list of archived questions for training\n",
    "test_arch_text = test_text[\"qa\"].tolist() #list of archived questions for testing\n",
    "\n",
    "train_labels = train_labels.tolist() #list of training labels\n",
    "test_labels = test_labels.tolist() #list of test labels"
   ]
  },
  {
   "cell_type": "code",
   "execution_count": 39,
   "metadata": {},
   "outputs": [],
   "source": [
    "from gensim.test.utils import datapath, get_tmpfile\n",
    "from gensim.models import KeyedVectors\n",
    "from gensim.scripts.glove2word2vec import glove2word2vec\n",
    "\n",
    "# here I load the 300-dimension vectors; loading longer embeddings would require longer time and more RAM\n",
    "path_of_downloaded_files = \"C:\\\\Users\\\\ASUS\\\\NLP\\\\embeddings\\\\glove.6B\\\\glove.6B.300d.txt\" \n",
    "\n",
    "glove_file = datapath(path_of_downloaded_files)\n",
    "word2vec_glove_file = get_tmpfile(\"glove.6B.300d.txt\")\n",
    "glove2word2vec(glove_file, word2vec_glove_file)\n",
    "word_vectors = KeyedVectors.load_word2vec_format(word2vec_glove_file)"
   ]
  },
  {
   "cell_type": "code",
   "execution_count": 40,
   "metadata": {},
   "outputs": [],
   "source": [
    "#building the simaese network\n",
    "# then we define the RNN-based classifier\n",
    "\n",
    "class RNN_Classifier(nn.Module):\n",
    "    def __init__(self, embd_dim, hidden_dim, model_type, cls_num, pooler_type, dropout, gpu):\n",
    "        super(RNN_Classifier, self).__init__()\n",
    "        assert pooler_type in ['max','avg']\n",
    "        # rnn type\n",
    "\n",
    "        self.rnn = nn.LSTM(hidden_size=hidden_dim, batch_first=True, input_size=embd_dim, dropout=dropout) \n",
    "\n",
    "        self.gpu = gpu\n",
    "        if gpu: self.to('cuda')\n",
    "            \n",
    "    def manhattan_distance(self, u, q):\n",
    "        ''' Helper function for the similarity estimate of the LSTMs outputs '''\n",
    "        return torch.exp(-torch.sum(torch.abs(u - q), dim=1))\n",
    "            \n",
    "    def forward(self, input_matrix_u,input_matrix_a):\n",
    "        token_num = input_matrix_u.shape[1]\n",
    "        hidden_vecs_u = self.rnn(input_matrix_u)[0]\n",
    "        #print('hidden_vecs_u',hidden_vecs_u.shape)\n",
    "        hidden_vecs_a = self.rnn(input_matrix_a)[0]\n",
    "        #print('hidden_vecs_a',hidden_vecs_a.shape)\n",
    "        #print(hidden_vecs_u[0].shape)\n",
    "        similarity_measure =self.manhattan_distance(hidden_vecs_u.permute(1, 2, 0).view(1, -1),hidden_vecs_a.permute(1, 2, 0).view(1, -1))\n",
    "        #print('sim sore**********',similarity_measure)        \n",
    "        return similarity_measure"
   ]
  },
  {
   "cell_type": "code",
   "execution_count": 41,
   "metadata": {},
   "outputs": [],
   "source": [
    "# define functions that build mini-batches\n",
    "from nltk.tokenize import word_tokenize\n",
    "import numpy as np\n",
    "\n",
    "embd_dim = 300\n",
    "hidden_dim = 300\n",
    "rnn_type = 'lstm'\n",
    "pooler_type = 'avg'\n",
    "dropout = 0.5\n",
    "gpu = True\n",
    "\n",
    "oov_vec = oov_vec = np.zeros(embd_dim)\n",
    "\n",
    "def get_sent_word_vecs(word_vectors, sent_words, largest_len):\n",
    "    vecs = []\n",
    "    #print(sent_words)\n",
    "    for ww in sent_words:\n",
    "        if ww in word_vectors:\n",
    "            vecs.append(word_vectors[ww])\n",
    "        else:\n",
    "            if ww == 0:oov_vec = np.zeros(embd_dim) #if word is padded zero append zero vector to it\n",
    "            else:oov_vec = np.zeros(embd_dim) #if word is not vocabulary of word2vec then append vector with values from normal distribution\n",
    "            vecs.append(oov_vec)\n",
    "    return np.array(vecs)\n",
    "\n",
    "def build_mini_batch(tokenized_sents, word_vectors,largest_len):\n",
    "    #print(\"build_mini_batch\")\n",
    "    text_vecs = []\n",
    "    for ts in tokenized_sents:\n",
    "        ts.extend([0] * (largest_len-len(ts))) #padding list with zeros to make all tensors the same size\n",
    "        vv = get_sent_word_vecs(word_vectors, ts, largest_len)\n",
    "        text_vecs.append(vv)\n",
    "    # print('mini batch shape',np.array(text_vecs).shape)\n",
    "    return np.array(text_vecs)\n",
    "\n",
    "def make_batch_prediction(sent_list_1,sent_list_2, word_vectors, model, use_gpu=False):\n",
    "    tokenized_sents_1 = [word_tokenize(ss.lower()) for ss in sent_list_1]\n",
    "    #print(tokenized_sents_1)\n",
    "    tokenized_sents_2 = [word_tokenize(ss.lower()) for ss in sent_list_2]\n",
    "    #print(tokenized_sents_2)\n",
    "    largest_len_1 = np.max([len(tokens) for tokens in tokenized_sents_1])\n",
    "    largest_len_2 = np.max([len(tokens) for tokens in tokenized_sents_2])\n",
    "    largest_len = max(largest_len_1,largest_len_2) #getting the largest length of seuences, so that shorter sentences can be padded later\n",
    "    #print(largest_len)\n",
    "    batch_u = build_mini_batch(tokenized_sents_1, word_vectors,largest_len) #build minibatch of vectors for userquestions\n",
    "    batch_a = build_mini_batch(tokenized_sents_2, word_vectors,largest_len) #build minibatch of vectors for archived questions\n",
    "    \n",
    "    batch_simscore = torch.tensor([])\n",
    "    if use_gpu: batch_simscore = batch_simscore.to('cuda')\n",
    "    for i in range(batch_u.shape[0]): #iteraing over each row of batch 1\n",
    "        input_sents_u = torch.from_numpy(batch_u[i]).float()\n",
    "        input_sents_a = torch.from_numpy(batch_a[i]).float()\n",
    "        if use_gpu: input_sents_u = input_sents_u.to('cuda')\n",
    "        if use_gpu: input_sents_a = input_sents_a.to('cuda')\n",
    "        similarity_score = model(input_sents_u.unsqueeze(0),input_sents_a.unsqueeze(0))\n",
    "        #print(similarity_score)\n",
    "        batch_simscore = torch.cat( (batch_simscore, similarity_score) )\n",
    "    return batch_simscore.view(batch_u.shape[0],-1)\n",
    "  \n",
    "# sanity check \n",
    "#model = RNN_Classifier(embd_dim, hidden_dim, rnn_type, len(labels_list), pooler_type, dropout, gpu)\n",
    "#batch_pred = make_batch_prediction(\n",
    "    #['hello world!','hello','another test sentence this is'],['lamborgini ferrari','hello','another test sentence this is'],\n",
    "    #word_vectors, model, gpu)\n",
    "#print(batch_pred)"
   ]
  },
  {
   "cell_type": "code",
   "execution_count": 42,
   "metadata": {},
   "outputs": [
    {
     "name": "stderr",
     "output_type": "stream",
     "text": [
      "C:\\Users\\ASUS\\Anaconda3\\envs\\venv_nlp\\lib\\site-packages\\torch\\nn\\modules\\rnn.py:60: UserWarning: dropout option adds dropout after all but last recurrent layer, so non-zero dropout expects num_layers greater than 1, but got dropout=0.5 and num_layers=1\n",
      "  \"num_layers={}\".format(dropout, num_layers))\n"
     ]
    }
   ],
   "source": [
    "loss_fnc = torch.nn.MSELoss() # Mean squared Error loss\n",
    "\n",
    "# hyper parameters\n",
    "n_epochs = 20 # number of epoch (i.e. number of iterations)\n",
    "batch_size = 50\n",
    "lr = 0.001 # initial learning rate\n",
    "\n",
    "# init optimizer and scheduler (lr adjustor)\n",
    "import torch.optim as optim\n",
    "\n",
    "\n",
    "model = RNN_Classifier(embd_dim, hidden_dim, rnn_type, len(labels_list), pooler_type, dropout, gpu)\n",
    "optimizer = optim.Adam(params=model.parameters(), lr=lr) # use Adam as the optimizer\n",
    "scheduler = torch.optim.lr_scheduler.StepLR(optimizer, step_size=1, gamma=0.999) # after each epoch, the learning rate is discounted to its 95%"
   ]
  },
  {
   "cell_type": "code",
   "execution_count": 43,
   "metadata": {},
   "outputs": [
    {
     "name": "stderr",
     "output_type": "stream",
     "text": [
      "\r",
      "  0%|                                                                                           | 0/20 [00:00<?, ?it/s]"
     ]
    },
    {
     "name": "stdout",
     "output_type": "stream",
     "text": [
      "\n",
      "======epoch 0 loss====== 0.49895763\n"
     ]
    },
    {
     "name": "stderr",
     "output_type": "stream",
     "text": [
      "\r",
      "  5%|████▏                                                                              | 1/20 [00:44<14:08, 44.66s/it]"
     ]
    },
    {
     "name": "stdout",
     "output_type": "stream",
     "text": [
      "\n",
      "---> after epoch 0 the mean squared error dev set is 0.4990624847123047\n",
      "learning rate 0.001\n",
      "best model updated; new best MSE 0.4990624847123047\n",
      "\n",
      "======epoch 1 loss====== 0.49895784\n"
     ]
    },
    {
     "name": "stderr",
     "output_type": "stream",
     "text": [
      "\r",
      " 10%|████████▎                                                                          | 2/20 [01:28<13:20, 44.45s/it]"
     ]
    },
    {
     "name": "stdout",
     "output_type": "stream",
     "text": [
      "\n",
      "---> after epoch 1 the mean squared error dev set is 0.4990614651447733\n",
      "learning rate 0.000999\n",
      "best model updated; new best MSE 0.4990614651447733\n",
      "\n",
      "======epoch 2 loss====== 0.49869022\n"
     ]
    },
    {
     "name": "stderr",
     "output_type": "stream",
     "text": [
      "\r",
      " 15%|████████████▍                                                                      | 3/20 [02:12<12:31, 44.20s/it]"
     ]
    },
    {
     "name": "stdout",
     "output_type": "stream",
     "text": [
      "\n",
      "---> after epoch 2 the mean squared error dev set is 0.4980785161774903\n",
      "learning rate 0.000998001\n",
      "best model updated; new best MSE 0.4980785161774903\n",
      "\n",
      "======epoch 3 loss====== 0.48144308\n"
     ]
    },
    {
     "name": "stderr",
     "output_type": "stream",
     "text": [
      "\r",
      " 20%|████████████████▌                                                                  | 4/20 [02:55<11:42, 43.89s/it]"
     ]
    },
    {
     "name": "stdout",
     "output_type": "stream",
     "text": [
      "\n",
      "---> after epoch 3 the mean squared error dev set is 0.42875435433037185\n",
      "learning rate 0.000997002999\n",
      "best model updated; new best MSE 0.42875435433037185\n",
      "\n",
      "======epoch 4 loss====== 0.3323079\n"
     ]
    },
    {
     "name": "stderr",
     "output_type": "stream",
     "text": [
      "\r",
      " 25%|████████████████████▊                                                              | 5/20 [03:43<11:17, 45.18s/it]"
     ]
    },
    {
     "name": "stdout",
     "output_type": "stream",
     "text": [
      "\n",
      "---> after epoch 4 the mean squared error dev set is 0.27022715679110737\n",
      "learning rate 0.000996005996001\n",
      "best model updated; new best MSE 0.27022715679110737\n",
      "\n",
      "======epoch 5 loss====== 0.25913814\n"
     ]
    },
    {
     "name": "stderr",
     "output_type": "stream",
     "text": [
      "\r",
      " 30%|████████████████████████▉                                                          | 6/20 [04:29<10:35, 45.43s/it]"
     ]
    },
    {
     "name": "stdout",
     "output_type": "stream",
     "text": [
      "\n",
      "---> after epoch 5 the mean squared error dev set is 0.23732654310641638\n",
      "learning rate 0.000995009990004999\n",
      "best model updated; new best MSE 0.23732654310641638\n",
      "\n",
      "======epoch 6 loss====== 0.22681093\n"
     ]
    },
    {
     "name": "stderr",
     "output_type": "stream",
     "text": [
      "\r",
      " 35%|█████████████████████████████                                                      | 7/20 [05:16<09:56, 45.92s/it]"
     ]
    },
    {
     "name": "stdout",
     "output_type": "stream",
     "text": [
      "\n",
      "---> after epoch 6 the mean squared error dev set is 0.2269143962652299\n",
      "learning rate 0.000994014980014994\n",
      "best model updated; new best MSE 0.2269143962652299\n",
      "\n",
      "======epoch 7 loss====== 0.21347398\n"
     ]
    },
    {
     "name": "stderr",
     "output_type": "stream",
     "text": [
      "\r",
      " 40%|█████████████████████████████████▏                                                 | 8/20 [06:04<09:18, 46.56s/it]"
     ]
    },
    {
     "name": "stdout",
     "output_type": "stream",
     "text": [
      "\n",
      "---> after epoch 7 the mean squared error dev set is 0.22408986536751654\n",
      "learning rate 0.0009930209650349789\n",
      "best model updated; new best MSE 0.22408986536751654\n",
      "\n",
      "======epoch 8 loss====== 0.20488067\n"
     ]
    },
    {
     "name": "stderr",
     "output_type": "stream",
     "text": [
      "\r",
      " 45%|█████████████████████████████████████▎                                             | 9/20 [06:51<08:33, 46.72s/it]"
     ]
    },
    {
     "name": "stdout",
     "output_type": "stream",
     "text": [
      "\n",
      "---> after epoch 8 the mean squared error dev set is 0.22275727428009837\n",
      "learning rate 0.0009920279440699439\n",
      "best model updated; new best MSE 0.22275727428009837\n",
      "\n",
      "======epoch 9 loss====== 0.19731879\n"
     ]
    },
    {
     "name": "stderr",
     "output_type": "stream",
     "text": [
      "\r",
      " 50%|█████████████████████████████████████████                                         | 10/20 [07:37<07:44, 46.48s/it]"
     ]
    },
    {
     "name": "stdout",
     "output_type": "stream",
     "text": [
      "\n",
      "---> after epoch 9 the mean squared error dev set is 0.2229650206055616\n",
      "learning rate 0.0009910359161258739\n",
      "\n",
      "======epoch 10 loss====== 0.1899092\n"
     ]
    },
    {
     "name": "stderr",
     "output_type": "stream",
     "text": [
      "\r",
      " 55%|█████████████████████████████████████████████                                     | 11/20 [08:21<06:50, 45.62s/it]"
     ]
    },
    {
     "name": "stdout",
     "output_type": "stream",
     "text": [
      "\n",
      "---> after epoch 10 the mean squared error dev set is 0.22273312900793318\n",
      "learning rate 0.000990044880209748\n",
      "best model updated; new best MSE 0.22273312900793318\n",
      "\n",
      "======epoch 11 loss====== 0.18373065\n"
     ]
    },
    {
     "name": "stderr",
     "output_type": "stream",
     "text": [
      "\r",
      " 60%|█████████████████████████████████████████████████▏                                | 12/20 [09:03<05:56, 44.50s/it]"
     ]
    },
    {
     "name": "stdout",
     "output_type": "stream",
     "text": [
      "\n",
      "---> after epoch 11 the mean squared error dev set is 0.22193033538651016\n",
      "learning rate 0.0009890548353295382\n",
      "best model updated; new best MSE 0.22193033538651016\n",
      "\n",
      "======epoch 12 loss====== 0.17761366\n"
     ]
    },
    {
     "name": "stderr",
     "output_type": "stream",
     "text": [
      "\r",
      " 65%|█████████████████████████████████████████████████████▎                            | 13/20 [09:45<05:06, 43.80s/it]"
     ]
    },
    {
     "name": "stdout",
     "output_type": "stream",
     "text": [
      "\n",
      "---> after epoch 12 the mean squared error dev set is 0.2211352936530019\n",
      "learning rate 0.0009880657804942088\n",
      "best model updated; new best MSE 0.2211352936530019\n",
      "\n",
      "======epoch 13 loss====== 0.17210822\n"
     ]
    },
    {
     "name": "stderr",
     "output_type": "stream",
     "text": [
      "\r",
      " 70%|█████████████████████████████████████████████████████████▍                        | 14/20 [10:27<04:19, 43.22s/it]"
     ]
    },
    {
     "name": "stdout",
     "output_type": "stream",
     "text": [
      "\n",
      "---> after epoch 13 the mean squared error dev set is 0.22092627986802868\n",
      "learning rate 0.0009870777147137145\n",
      "best model updated; new best MSE 0.22092627986802868\n",
      "\n",
      "======epoch 14 loss====== 0.16672106\n"
     ]
    },
    {
     "name": "stderr",
     "output_type": "stream",
     "text": [
      "\r",
      " 75%|█████████████████████████████████████████████████████████████▌                    | 15/20 [11:09<03:34, 42.87s/it]"
     ]
    },
    {
     "name": "stdout",
     "output_type": "stream",
     "text": [
      "\n",
      "---> after epoch 14 the mean squared error dev set is 0.22026232280461724\n",
      "learning rate 0.0009860906369990009\n",
      "best model updated; new best MSE 0.22026232280461724\n",
      "\n",
      "======epoch 15 loss====== 0.16118886\n"
     ]
    },
    {
     "name": "stderr",
     "output_type": "stream",
     "text": [
      "\r",
      " 80%|█████████████████████████████████████████████████████████████████▌                | 16/20 [11:51<02:50, 42.67s/it]"
     ]
    },
    {
     "name": "stdout",
     "output_type": "stream",
     "text": [
      "\n",
      "---> after epoch 15 the mean squared error dev set is 0.22057397705475562\n",
      "learning rate 0.000985104546362002\n",
      "\n",
      "======epoch 16 loss====== 0.15567495\n"
     ]
    },
    {
     "name": "stderr",
     "output_type": "stream",
     "text": [
      "\r",
      " 85%|█████████████████████████████████████████████████████████████████████▋            | 17/20 [12:33<02:07, 42.52s/it]"
     ]
    },
    {
     "name": "stdout",
     "output_type": "stream",
     "text": [
      "\n",
      "---> after epoch 16 the mean squared error dev set is 0.21914454057278285\n",
      "learning rate 0.00098411944181564\n",
      "best model updated; new best MSE 0.21914454057278285\n",
      "\n",
      "======epoch 17 loss====== 0.14978503\n"
     ]
    },
    {
     "name": "stderr",
     "output_type": "stream",
     "text": [
      "\r",
      " 90%|█████████████████████████████████████████████████████████████████████████▊        | 18/20 [13:15<01:24, 42.38s/it]"
     ]
    },
    {
     "name": "stdout",
     "output_type": "stream",
     "text": [
      "\n",
      "---> after epoch 17 the mean squared error dev set is 0.21883561469917187\n",
      "learning rate 0.0009831353223738242\n",
      "best model updated; new best MSE 0.21883561469917187\n",
      "\n",
      "======epoch 18 loss====== 0.14397289\n"
     ]
    },
    {
     "name": "stderr",
     "output_type": "stream",
     "text": [
      "\r",
      " 95%|█████████████████████████████████████████████████████████████████████████████▉    | 19/20 [13:58<00:42, 42.43s/it]"
     ]
    },
    {
     "name": "stdout",
     "output_type": "stream",
     "text": [
      "\n",
      "---> after epoch 18 the mean squared error dev set is 0.2179304073495544\n",
      "learning rate 0.0009821521870514505\n",
      "best model updated; new best MSE 0.2179304073495544\n",
      "\n",
      "======epoch 19 loss====== 0.13853054\n"
     ]
    },
    {
     "name": "stderr",
     "output_type": "stream",
     "text": [
      "100%|██████████████████████████████████████████████████████████████████████████████████| 20/20 [14:40<00:00, 44.04s/it]"
     ]
    },
    {
     "name": "stdout",
     "output_type": "stream",
     "text": [
      "\n",
      "---> after epoch 19 the mean squared error dev set is 0.21753475288642166\n",
      "learning rate 0.000981170034864399\n",
      "best model updated; new best MSE 0.21753475288642166\n"
     ]
    },
    {
     "name": "stderr",
     "output_type": "stream",
     "text": [
      "\n"
     ]
    }
   ],
   "source": [
    "# training the CNN model\n",
    "train_loss = []\n",
    "val_loss = []\n",
    "import math\n",
    "best_mse = math.inf\n",
    "best_model = None\n",
    "import copy\n",
    "import numpy as np\n",
    "from sklearn.metrics import precision_recall_fscore_support\n",
    "from sklearn.metrics import mean_squared_error\n",
    "from nltk.tokenize import word_tokenize\n",
    "from tqdm import tqdm\n",
    "for epoch_i in tqdm(range(n_epochs)):\n",
    "    # the inner loop is over the batches in the dataset\n",
    "    model.train() # let pytorch know that gradients should be computed, so as to update the model\n",
    "    ep_loss = []\n",
    "    for idx in range(0,len(train_user_text),batch_size):\n",
    "        # Step 0: Get the data\n",
    "        sents_u = train_user_text[idx:idx+batch_size]\n",
    "        sents_a = train_arch_text[idx:idx+batch_size]\n",
    "        if (len(sents_u)==0) or (len(sents_a))== 0: break\n",
    "        y_target = torch.tensor([train_labels[idx:idx+batch_size]], dtype=torch.float).squeeze()\n",
    "        if gpu:\n",
    "            y_target = y_target.to('cuda')\n",
    "        \n",
    "        # Step 1: Clear the gradients \n",
    "        optimizer.zero_grad()\n",
    "\n",
    "        # Step 2: Compute the forward pass of the model\n",
    "        y_pred = make_batch_prediction(sents_u,sents_a, word_vectors, model, gpu).squeeze()\n",
    "        #print(y_pred[:5])\n",
    "        #print(y_target[:5])\n",
    "        #pred_labels = [np.argmax(entry) for entry in y_pred.cpu().detach().numpy()]\n",
    "        # print('pred labels', pred_labels)\n",
    "        # print('true labels', y_target)\n",
    "\n",
    "        # Step 3: Compute the loss value that we wish to optimize\n",
    "        loss = loss_fnc(y_pred, y_target)\n",
    "        #loss = loss.type(dtype=torch.long)\n",
    "        # print(loss)\n",
    "        ep_loss.append(loss.cpu().detach().numpy())\n",
    "\n",
    "        # Step 4: Propagate the loss signal backward\n",
    "        loss.backward()\n",
    "        \n",
    "        # Step 4+: clip the gradient, to avoid gradient explosion\n",
    "        nn.utils.clip_grad_value_(model.parameters(), clip_value=3.)\n",
    "\n",
    "        # Step 5: Trigger the optimizer to perform one update\n",
    "        optimizer.step()\n",
    "    \n",
    "    print('\\n======epoch {} loss======'.format(epoch_i),np.mean(ep_loss))\n",
    "    train_loss.append(ep_loss)\n",
    "    \n",
    "    # after each epoch, we can test the model's performance on the dev set\n",
    "    with torch.no_grad(): # let pytorch know that no gradient should be computed\n",
    "        model.eval() # let the model know that it in test mode, i.e. no gradient and no dropout\n",
    "        predictions = []\n",
    "        #test_docs = dev_docs\n",
    "        #test_labels = dev_labels\n",
    "        \n",
    "        for idx in range(0,len(test_user_text),batch_size):\n",
    "            test_uq = test_user_text[idx:idx+batch_size]\n",
    "            test_aq = test_arch_text[idx:idx+batch_size]            \n",
    "            y_pred = make_batch_prediction(test_uq,test_aq, word_vectors, model, gpu)\n",
    "            #pred_labels = [np.argmax(entry) for entry in y_pred.cpu().detach().numpy()] # getting label with highest probability\n",
    "            predictions += y_pred\n",
    "        #print(predictions)\n",
    "        test_labels = [float(i) for i in test_labels]\n",
    "        mse = mean_squared_error(test_labels, predictions)\n",
    "        print('\\n---> after epoch {} the mean squared error dev set is {}'.format(epoch_i, mse))\n",
    "        for param_group in optimizer.param_groups:\n",
    "            print('learning rate', param_group['lr'])\n",
    "        \n",
    "        # save the best model\n",
    "        val_loss.append(mse)\n",
    "        if mse < best_mse:\n",
    "            best_mse = mse\n",
    "            best_model = copy.deepcopy(model.state_dict())\n",
    "            print('best model updated; new best MSE',mse)\n",
    "    \n",
    "    # (optional) adjust learning rate according to the scheduler\n",
    "    scheduler.step()"
   ]
  },
  {
   "cell_type": "markdown",
   "metadata": {},
   "source": [
    "# Testing the Model"
   ]
  },
  {
   "cell_type": "code",
   "execution_count": 44,
   "metadata": {},
   "outputs": [],
   "source": [
    "# load sample test data\n",
    "import pandas as pd\n",
    "import numpy as np\n",
    "\n",
    "\n",
    "# reconstruct model and make predictions\n",
    "model.load_state_dict(best_model)\n",
    "\n",
    "#testing model\n",
    "test_df_ml = pd.read_csv('test.csv')\n",
    "test_df_ml = test_df_ml[:500]\n",
    "\n",
    "user_questions = test_df_ml['qu'].tolist()\n",
    "reciprocal_rank_list = []\n",
    "arch_questions = test_df_ml['qa'].tolist()\n",
    "l = len(arch_questions)\n",
    "for uquest_id, user_quest in enumerate(user_questions):\n",
    "    most_similar_quest_id = 0\n",
    "    test_user_quest = [user_quest]*l    \n",
    "    y_pred = make_batch_prediction(test_user_quest,arch_questions, word_vectors, model, gpu).cpu()\n",
    "    most_similar_quest_id = np.argmax(np.array(y_pred.detach().numpy()))\n",
    "    #print(most_similar_quest_id)\n",
    "    if arch_questions[uquest_id] ==arch_questions[most_similar_quest_id]:#comparing the retreived with duplicate question of user question\n",
    "        #print(\"\\nMost similar question retrieved\")\n",
    "        reciprocal_rank_list.append(1)\n",
    "    else:\n",
    "        #print(\"\\nDissimilar question retrived\")\n",
    "        reciprocal_rank_list.append(0)\n",
    "    #print(\"User Question:\",user_questions[uquest_id])\n",
    "    #print(\"Archived Question\",arch_questions[uquest_id])\n",
    "    #print(\"Retrieved Question\",arch_questions[most_similar_quest_id])\n",
    "    #if uquest_id==10:\n",
    "        #break\n"
   ]
  },
  {
   "cell_type": "code",
   "execution_count": 45,
   "metadata": {},
   "outputs": [
    {
     "name": "stdout",
     "output_type": "stream",
     "text": [
      "Mean Reciprocal Rank for MaLSTM similiarity  0.386\n",
      "Number of question correctly retreived for MaLSTM:  193\n"
     ]
    }
   ],
   "source": [
    "mean_reciprocal_rank = np.mean(np.array(reciprocal_rank_list))\n",
    "print(\"Mean Reciprocal Rank for MaLSTM similiarity \",mean_reciprocal_rank)\n",
    "print(\"Number of question correctly retreived for MaLSTM: \", sum(reciprocal_rank_list) )"
   ]
  },
  {
   "cell_type": "code",
   "execution_count": 46,
   "metadata": {},
   "outputs": [],
   "source": [
    "train_losses = train_loss\n",
    "train_loss = [np.mean(x) for x in train_losses]"
   ]
  },
  {
   "cell_type": "code",
   "execution_count": 47,
   "metadata": {
    "scrolled": true
   },
   "outputs": [
    {
     "data": {
      "text/plain": [
       "Text(0, 0.5, 'Loss')"
      ]
     },
     "execution_count": 47,
     "metadata": {},
     "output_type": "execute_result"
    },
    {
     "data": {
      "image/png": "[encoded data removed]",
      "text/plain": [
       "<Figure size 432x288 with 1 Axes>"
      ]
     },
     "metadata": {
      "needs_background": "light"
     },
     "output_type": "display_data"
    }
   ],
   "source": [
    "import  matplotlib.pyplot as plt\n",
    "plt.plot(train_loss,label = \"Train Loss\")\n",
    "plt.plot(val_loss,label = \"Val Loss\")\n",
    "plt.xlim(0,20)\n",
    "plt.legend()\n",
    "#plt.legend(\"Train Loss\",\"Val Loss\")\n",
    "plt.xlabel(\"Number of epochs\")\n",
    "plt.ylabel(\"Loss\")"
   ]
  },
  {
   "cell_type": "code",
   "execution_count": null,
   "metadata": {},
   "outputs": [],
   "source": [
    "#Reference Gao,Yang, LSTM-Lab9 ,Royal Holloway, University Of London "
   ]
  }
 ],
 "metadata": {
  "kernelspec": {
   "display_name": "vevn_nlp",
   "language": "python",
   "name": "vevn_nlp"
  },
  "language_info": {
   "codemirror_mode": {
    "name": "ipython",
    "version": 3
   },
   "file_extension": ".py",
   "mimetype": "text/x-python",
   "name": "python",
   "nbconvert_exporter": "python",
   "pygments_lexer": "ipython3",
   "version": "3.7.7"
  }
 },
 "nbformat": 4,
 "nbformat_minor": 2
}
