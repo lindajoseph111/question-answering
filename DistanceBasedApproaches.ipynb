{
 "cells": [
  {
   "cell_type": "markdown",
   "metadata": {},
   "source": [
    "# TF-IDF"
   ]
  },
  {
   "cell_type": "code",
   "execution_count": 1,
   "metadata": {},
   "outputs": [],
   "source": [
    "import pandas as pd\n",
    "from sklearn.metrics.pairwise import cosine_similarity\n",
    "import numpy as np\n",
    "import matplotlib.pyplot as plt"
   ]
  },
  {
   "cell_type": "code",
   "execution_count": 39,
   "metadata": {},
   "outputs": [
    {
     "data": {
      "text/html": [
       "<div>\n",
       "<style scoped>\n",
       "    .dataframe tbody tr th:only-of-type {\n",
       "        vertical-align: middle;\n",
       "    }\n",
       "\n",
       "    .dataframe tbody tr th {\n",
       "        vertical-align: top;\n",
       "    }\n",
       "\n",
       "    .dataframe thead th {\n",
       "        text-align: right;\n",
       "    }\n",
       "</style>\n",
       "<table border=\"1\" class=\"dataframe\">\n",
       "  <thead>\n",
       "    <tr style=\"text-align: right;\">\n",
       "      <th></th>\n",
       "      <th>Unnamed: 0</th>\n",
       "      <th>guid</th>\n",
       "      <th>qu_id</th>\n",
       "      <th>qu</th>\n",
       "      <th>qa_id</th>\n",
       "      <th>qa</th>\n",
       "      <th>ans_id</th>\n",
       "      <th>ans</th>\n",
       "      <th>is_duplicate</th>\n",
       "      <th>is_correspond</th>\n",
       "      <th>is_useful</th>\n",
       "      <th>f_uq</th>\n",
       "      <th>f_aq</th>\n",
       "      <th>l_uq</th>\n",
       "      <th>l_aq</th>\n",
       "      <th>num_words_uq</th>\n",
       "      <th>num_words_aq</th>\n",
       "      <th>n_common_words</th>\n",
       "      <th>total_word_count</th>\n",
       "      <th>fraction_common_words</th>\n",
       "    </tr>\n",
       "  </thead>\n",
       "  <tbody>\n",
       "    <tr>\n",
       "      <th>0</th>\n",
       "      <td>0</td>\n",
       "      <td>98550</td>\n",
       "      <td>198647</td>\n",
       "      <td>is lamborghini better than ferrari</td>\n",
       "      <td>198648</td>\n",
       "      <td>why is lamborghini better than ferrari</td>\n",
       "      <td>73400</td>\n",
       "      <td>Lamborghinis.Thats why I have 24 of them compa...</td>\n",
       "      <td>1</td>\n",
       "      <td>1</td>\n",
       "      <td>1</td>\n",
       "      <td>1</td>\n",
       "      <td>1</td>\n",
       "      <td>36</td>\n",
       "      <td>40</td>\n",
       "      <td>6</td>\n",
       "      <td>7</td>\n",
       "      <td>6.0</td>\n",
       "      <td>13.0</td>\n",
       "      <td>0.461538</td>\n",
       "    </tr>\n",
       "    <tr>\n",
       "      <th>1</th>\n",
       "      <td>1</td>\n",
       "      <td>23880</td>\n",
       "      <td>122782</td>\n",
       "      <td>what does a trump presidency mean for indian s...</td>\n",
       "      <td>12385</td>\n",
       "      <td>how would trump presidency affect indian stude...</td>\n",
       "      <td>76886</td>\n",
       "      <td>In the last Presidential debate, the conservat...</td>\n",
       "      <td>1</td>\n",
       "      <td>1</td>\n",
       "      <td>1</td>\n",
       "      <td>2</td>\n",
       "      <td>17</td>\n",
       "      <td>97</td>\n",
       "      <td>61</td>\n",
       "      <td>17</td>\n",
       "      <td>11</td>\n",
       "      <td>6.0</td>\n",
       "      <td>28.0</td>\n",
       "      <td>0.214286</td>\n",
       "    </tr>\n",
       "    <tr>\n",
       "      <th>2</th>\n",
       "      <td>2</td>\n",
       "      <td>108664</td>\n",
       "      <td>210485</td>\n",
       "      <td>why is north america considered the west</td>\n",
       "      <td>210486</td>\n",
       "      <td>is north america considered the west</td>\n",
       "      <td>98240</td>\n",
       "      <td>The British invented the Prime Meridian.  They...</td>\n",
       "      <td>1</td>\n",
       "      <td>1</td>\n",
       "      <td>1</td>\n",
       "      <td>1</td>\n",
       "      <td>1</td>\n",
       "      <td>56</td>\n",
       "      <td>52</td>\n",
       "      <td>10</td>\n",
       "      <td>9</td>\n",
       "      <td>8.0</td>\n",
       "      <td>17.0</td>\n",
       "      <td>0.470588</td>\n",
       "    </tr>\n",
       "    <tr>\n",
       "      <th>3</th>\n",
       "      <td>3</td>\n",
       "      <td>106306</td>\n",
       "      <td>181906</td>\n",
       "      <td>if you could live in a movie what movie would ...</td>\n",
       "      <td>201042</td>\n",
       "      <td>if you could enter the reality inside a movie ...</td>\n",
       "      <td>74909</td>\n",
       "      <td>Midnight in Paris..!Fantasising about living i...</td>\n",
       "      <td>1</td>\n",
       "      <td>1</td>\n",
       "      <td>1</td>\n",
       "      <td>2</td>\n",
       "      <td>2</td>\n",
       "      <td>63</td>\n",
       "      <td>111</td>\n",
       "      <td>16</td>\n",
       "      <td>23</td>\n",
       "      <td>10.0</td>\n",
       "      <td>33.0</td>\n",
       "      <td>0.303030</td>\n",
       "    </tr>\n",
       "    <tr>\n",
       "      <th>4</th>\n",
       "      <td>4</td>\n",
       "      <td>103382</td>\n",
       "      <td>518790</td>\n",
       "      <td>what jobs are in art stream</td>\n",
       "      <td>518791</td>\n",
       "      <td>what are scopes of arts stream</td>\n",
       "      <td>129264</td>\n",
       "      <td>You can opt anything as your carrier other tha...</td>\n",
       "      <td>1</td>\n",
       "      <td>1</td>\n",
       "      <td>1</td>\n",
       "      <td>1</td>\n",
       "      <td>1</td>\n",
       "      <td>29</td>\n",
       "      <td>32</td>\n",
       "      <td>7</td>\n",
       "      <td>7</td>\n",
       "      <td>4.0</td>\n",
       "      <td>14.0</td>\n",
       "      <td>0.285714</td>\n",
       "    </tr>\n",
       "  </tbody>\n",
       "</table>\n",
       "</div>"
      ],
      "text/plain": [
       "   Unnamed: 0    guid   qu_id  \\\n",
       "0           0   98550  198647   \n",
       "1           1   23880  122782   \n",
       "2           2  108664  210485   \n",
       "3           3  106306  181906   \n",
       "4           4  103382  518790   \n",
       "\n",
       "                                                  qu   qa_id  \\\n",
       "0                 is lamborghini better than ferrari  198648   \n",
       "1  what does a trump presidency mean for indian s...   12385   \n",
       "2           why is north america considered the west  210486   \n",
       "3  if you could live in a movie what movie would ...  201042   \n",
       "4                        what jobs are in art stream  518791   \n",
       "\n",
       "                                                  qa  ans_id  \\\n",
       "0             why is lamborghini better than ferrari   73400   \n",
       "1  how would trump presidency affect indian stude...   76886   \n",
       "2               is north america considered the west   98240   \n",
       "3  if you could enter the reality inside a movie ...   74909   \n",
       "4                     what are scopes of arts stream  129264   \n",
       "\n",
       "                                                 ans  is_duplicate  \\\n",
       "0  Lamborghinis.Thats why I have 24 of them compa...             1   \n",
       "1  In the last Presidential debate, the conservat...             1   \n",
       "2  The British invented the Prime Meridian.  They...             1   \n",
       "3  Midnight in Paris..!Fantasising about living i...             1   \n",
       "4  You can opt anything as your carrier other tha...             1   \n",
       "\n",
       "   is_correspond  is_useful  f_uq  f_aq  l_uq  l_aq  num_words_uq  \\\n",
       "0              1          1     1     1    36    40             6   \n",
       "1              1          1     2    17    97    61            17   \n",
       "2              1          1     1     1    56    52            10   \n",
       "3              1          1     2     2    63   111            16   \n",
       "4              1          1     1     1    29    32             7   \n",
       "\n",
       "   num_words_aq  n_common_words  total_word_count  fraction_common_words  \n",
       "0             7             6.0              13.0               0.461538  \n",
       "1            11             6.0              28.0               0.214286  \n",
       "2             9             8.0              17.0               0.470588  \n",
       "3            23            10.0              33.0               0.303030  \n",
       "4             7             4.0              14.0               0.285714  "
      ]
     },
     "execution_count": 39,
     "metadata": {},
     "output_type": "execute_result"
    }
   ],
   "source": [
    "tfidf_train = pd.read_csv('train.csv')\n",
    "\n",
    "data_frame = pd.read_csv('test.csv')\n",
    "data_frame.head()"
   ]
  },
  {
   "cell_type": "code",
   "execution_count": 40,
   "metadata": {},
   "outputs": [
    {
     "name": "stdout",
     "output_type": "stream",
     "text": [
      "(500, 4)\n"
     ]
    },
    {
     "data": {
      "text/html": [
       "<div>\n",
       "<style scoped>\n",
       "    .dataframe tbody tr th:only-of-type {\n",
       "        vertical-align: middle;\n",
       "    }\n",
       "\n",
       "    .dataframe tbody tr th {\n",
       "        vertical-align: top;\n",
       "    }\n",
       "\n",
       "    .dataframe thead th {\n",
       "        text-align: right;\n",
       "    }\n",
       "</style>\n",
       "<table border=\"1\" class=\"dataframe\">\n",
       "  <thead>\n",
       "    <tr style=\"text-align: right;\">\n",
       "      <th></th>\n",
       "      <th>qu</th>\n",
       "      <th>qa</th>\n",
       "      <th>ans</th>\n",
       "      <th>is_duplicate</th>\n",
       "    </tr>\n",
       "  </thead>\n",
       "  <tbody>\n",
       "    <tr>\n",
       "      <th>0</th>\n",
       "      <td>is lamborghini better than ferrari</td>\n",
       "      <td>why is lamborghini better than ferrari</td>\n",
       "      <td>Lamborghinis.Thats why I have 24 of them compa...</td>\n",
       "      <td>1</td>\n",
       "    </tr>\n",
       "    <tr>\n",
       "      <th>1</th>\n",
       "      <td>what does a trump presidency mean for indian s...</td>\n",
       "      <td>how would trump presidency affect indian stude...</td>\n",
       "      <td>In the last Presidential debate, the conservat...</td>\n",
       "      <td>1</td>\n",
       "    </tr>\n",
       "    <tr>\n",
       "      <th>2</th>\n",
       "      <td>why is north america considered the west</td>\n",
       "      <td>is north america considered the west</td>\n",
       "      <td>The British invented the Prime Meridian.  They...</td>\n",
       "      <td>1</td>\n",
       "    </tr>\n",
       "    <tr>\n",
       "      <th>3</th>\n",
       "      <td>if you could live in a movie what movie would ...</td>\n",
       "      <td>if you could enter the reality inside a movie ...</td>\n",
       "      <td>Midnight in Paris..!Fantasising about living i...</td>\n",
       "      <td>1</td>\n",
       "    </tr>\n",
       "    <tr>\n",
       "      <th>4</th>\n",
       "      <td>what jobs are in art stream</td>\n",
       "      <td>what are scopes of arts stream</td>\n",
       "      <td>You can opt anything as your carrier other tha...</td>\n",
       "      <td>1</td>\n",
       "    </tr>\n",
       "  </tbody>\n",
       "</table>\n",
       "</div>"
      ],
      "text/plain": [
       "                                                  qu  \\\n",
       "0                 is lamborghini better than ferrari   \n",
       "1  what does a trump presidency mean for indian s...   \n",
       "2           why is north america considered the west   \n",
       "3  if you could live in a movie what movie would ...   \n",
       "4                        what jobs are in art stream   \n",
       "\n",
       "                                                  qa  \\\n",
       "0             why is lamborghini better than ferrari   \n",
       "1  how would trump presidency affect indian stude...   \n",
       "2               is north america considered the west   \n",
       "3  if you could enter the reality inside a movie ...   \n",
       "4                     what are scopes of arts stream   \n",
       "\n",
       "                                                 ans  is_duplicate  \n",
       "0  Lamborghinis.Thats why I have 24 of them compa...             1  \n",
       "1  In the last Presidential debate, the conservat...             1  \n",
       "2  The British invented the Prime Meridian.  They...             1  \n",
       "3  Midnight in Paris..!Fantasising about living i...             1  \n",
       "4  You can opt anything as your carrier other tha...             1  "
      ]
     },
     "execution_count": 40,
     "metadata": {},
     "output_type": "execute_result"
    }
   ],
   "source": [
    "data_frame = data_frame[data_frame.is_correspond !=0] #remove rows where is_correspond equal to zero(is_correspond\twhether `ans' is the answer of `qa')\n",
    "data_frame = data_frame[data_frame.is_duplicate !=0] #choosing only rows which contains dupliacte questions\n",
    "QApair_df = data_frame[['qu','qa','ans','is_duplicate']].copy() #getting archived question and anser\n",
    "QApair_df = QApair_df[:500]\n",
    "QApair_df.to_csv('QnA.csv')\n",
    "print(QApair_df.shape)\n",
    "QApair_df.head()\n"
   ]
  },
  {
   "cell_type": "code",
   "execution_count": 41,
   "metadata": {},
   "outputs": [],
   "source": [
    "all_arch_questions = QApair_df['qa'].tolist() #list of questions\n",
    "all_user_questions = QApair_df['qu'].tolist() #list of user questions\n",
    "all_answers  = QApair_df['ans'].tolist()"
   ]
  },
  {
   "cell_type": "code",
   "execution_count": 42,
   "metadata": {},
   "outputs": [
    {
     "name": "stdout",
     "output_type": "stream",
     "text": [
      "16000\n"
     ]
    }
   ],
   "source": [
    "all_questions = [] #getting all questions in the  training set for building vocabulary\n",
    "for i,entry in tfidf_train.iterrows():\n",
    "    aq=entry['qa']\n",
    "    uq = entry['qu']\n",
    "    if repr(aq)==\"NaN\":\n",
    "        print('Spotted a NaN object')\n",
    "        pass\n",
    "    else:\n",
    "        all_questions.append(aq)\n",
    "    if repr(uq)==\"NaN\":\n",
    "        print('Spotted a NaN object')\n",
    "        pass\n",
    "    else:\n",
    "        all_questions.append(uq)\n",
    "print(len(all_questions))"
   ]
  },
  {
   "cell_type": "code",
   "execution_count": 45,
   "metadata": {},
   "outputs": [],
   "source": [
    "from sklearn.feature_extraction.text import TfidfVectorizer\n",
    "from nltk.tokenize import word_tokenize\n",
    "import numpy as np\n",
    "from nltk.corpus import stopwords\n",
    "vectorizer = TfidfVectorizer(max_features = 8000)\n",
    "vect_vocab = vectorizer.fit(all_questions)\n",
    "user_quest_vecs = vect_vocab.transform(all_user_questions)\n",
    "arch_quest_vecs = vect_vocab.transform(all_arch_questions)\n"
   ]
  },
  {
   "cell_type": "code",
   "execution_count": 46,
   "metadata": {},
   "outputs": [
    {
     "name": "stdout",
     "output_type": "stream",
     "text": [
      "(500, 8000)\n",
      "(500, 8000)\n"
     ]
    }
   ],
   "source": [
    "print(user_quest_vecs.shape)\n",
    "print(arch_quest_vecs.shape)"
   ]
  },
  {
   "cell_type": "code",
   "execution_count": 47,
   "metadata": {},
   "outputs": [
    {
     "name": "stdout",
     "output_type": "stream",
     "text": [
      "start time: 1598815193.1805632\n",
      "Execution time: 153.7899203300476\n"
     ]
    }
   ],
   "source": [
    "import time\n",
    "start_time = time.time()\n",
    "print(\"start time:\",start_time)\n",
    "max_similarity_val = 0\n",
    "tfidf_reciprocal_rank_list = []\n",
    "for uquest_id, uq in enumerate(user_quest_vecs):\n",
    "    similarity_scores = []\n",
    "    most_similar_quest_id = 0\n",
    "    for aq in arch_quest_vecs:        \n",
    "        similarity_scores.append(cosine_similarity(uq,aq))# geting similarity scores of user question with each archived question\n",
    "    most_similar_quest_id = np.argmax(np.array(similarity_scores))\n",
    "    if all_arch_questions[uquest_id]==all_arch_questions[most_similar_quest_id]:\n",
    "        #print(\"Most similar question retrieved\")\n",
    "        tfidf_reciprocal_rank_list.append(1)\n",
    "    else:\n",
    "        #print(\"Dissimilar question retrived\")\n",
    "        tfidf_reciprocal_rank_list.append(0)\n",
    "    #print(\"User Question:\",all_user_questions[uquest_id])\n",
    "    #print(\"Archived Question\",all_arch_questions[uquest_id])\n",
    "    #print(\"Retrieved Question\",all_arch_questions[most_similar_quest_id])\n",
    "    #if uquest_id==10:\n",
    "        #break\n",
    "end_time = time.time()\n",
    "print(\"Execution time:\",end_time-start_time)"
   ]
  },
  {
   "cell_type": "code",
   "execution_count": 48,
   "metadata": {},
   "outputs": [
    {
     "name": "stdout",
     "output_type": "stream",
     "text": [
      "Mean Reciprocal Rank:  0.936\n",
      "Number of question correctly retreived:  468\n"
     ]
    }
   ],
   "source": [
    "tfidf_mean_reciprocal_rank = np.mean(np.array(tfidf_reciprocal_rank_list)) \n",
    "print(\"Mean Reciprocal Rank: \",tfidf_mean_reciprocal_rank)\n",
    "print(\"Number of question correctly retreived: \", sum(tfidf_reciprocal_rank_list) )"
   ]
  },
  {
   "cell_type": "markdown",
   "metadata": {},
   "source": [
    "# Word2vec"
   ]
  },
  {
   "cell_type": "code",
   "execution_count": 10,
   "metadata": {},
   "outputs": [],
   "source": [
    "# load pretrained word2vec(google news vectors)\n",
    "from gensim.test.utils import datapath\n",
    "from gensim.models import KeyedVectors\n",
    "from pathlib import Path\n",
    "path_of_downloaded_bin = Path(\"C:\\\\Users\\\\ASUS\\\\NLP\\\\embeddings\\\\GoogleNews-vectors-negative300.bin\")\n",
    "word_vectors = KeyedVectors.load_word2vec_format(datapath(path_of_downloaded_bin), binary=True)"
   ]
  },
  {
   "cell_type": "code",
   "execution_count": 11,
   "metadata": {},
   "outputs": [
    {
     "name": "stdout",
     "output_type": "stream",
     "text": [
      "(1, 300)\n"
     ]
    }
   ],
   "source": [
    "import numpy as np\n",
    "from nltk.tokenize import word_tokenize\n",
    "word_vec_dim = 300 # this number should match the embedding used, this is the embedding size\n",
    "oov_vec = np.zeros(word_vec_dim)   #random vectoor , use if the given word is not present in the vocabulary\n",
    "def vectorize_sent(word_vectors, sent):\n",
    "    word_vecs = []\n",
    "    for token in word_tokenize(sent): \n",
    "        if token not in word_vectors: \n",
    "            word_vecs.append(oov_vec)\n",
    "        else:\n",
    "            word_vecs.append(word_vectors[token].astype('float64'))\n",
    "    return (np.mean(word_vecs,axis=0)).reshape(1,-1)\n",
    "\n",
    "sent = vectorize_sent(word_vectors, 'hello world ! this is a test sentence !') #testing\n",
    "print(sent.shape)"
   ]
  },
  {
   "cell_type": "code",
   "execution_count": 12,
   "metadata": {},
   "outputs": [
    {
     "data": {
      "text/plain": [
       "(500, 1, 300)"
      ]
     },
     "execution_count": 12,
     "metadata": {},
     "output_type": "execute_result"
    }
   ],
   "source": [
    "word2vec_user_quest =  np.array([vectorize_sent(word_vectors, ss) for ss in all_user_questions]) #embedding for all user questions\n",
    "word2vec_user_quest.shape"
   ]
  },
  {
   "cell_type": "code",
   "execution_count": 13,
   "metadata": {},
   "outputs": [
    {
     "data": {
      "text/plain": [
       "(500, 1, 300)"
      ]
     },
     "execution_count": 13,
     "metadata": {},
     "output_type": "execute_result"
    }
   ],
   "source": [
    "word2vec_arch_quest = np.array([vectorize_sent(word_vectors, ss) for ss in all_arch_questions]) #embedding for all archived questions\n",
    "word2vec_arch_quest.shape"
   ]
  },
  {
   "cell_type": "code",
   "execution_count": 14,
   "metadata": {},
   "outputs": [],
   "source": [
    "del word_vectors #deleting word vectors to free the memory"
   ]
  },
  {
   "cell_type": "code",
   "execution_count": 15,
   "metadata": {},
   "outputs": [
    {
     "name": "stdout",
     "output_type": "stream",
     "text": [
      "start time: 1598812699.1462665\n",
      "Execution time: 45.72040128707886\n"
     ]
    }
   ],
   "source": [
    "import time\n",
    "start_time = time.time()\n",
    "print(\"start time:\",start_time)\n",
    "max_similarity_val = 0 \n",
    "wv_reciprocal_rank_list = [] #initialize list\n",
    "for uquest_id, uq in enumerate(word2vec_user_quest):\n",
    "    #print(uquest_id)\n",
    "    similarity_scores = []\n",
    "    most_similar_quest_id = 0\n",
    "    for aq in word2vec_arch_quest:        \n",
    "        similarity_scores.append(cosine_similarity(uq,aq))# geting similarity scores of user question with each archived question\n",
    "    most_similar_quest_id = np.argmax(np.array(similarity_scores))\n",
    "    if all_arch_questions[uquest_id]==all_arch_questions[most_similar_quest_id]:\n",
    "        #print(\"Most similar question retrieved\")\n",
    "        wv_reciprocal_rank_list.append(1)\n",
    "    else:\n",
    "        #print(\"Dissimilar question retrived\")\n",
    "        wv_reciprocal_rank_list.append(0)\n",
    "    #print(\"User Question:\",all_user_questions[uquest_id])\n",
    "    #print(\"Archived Question\",all_arch_questions[uquest_id])\n",
    "    #print(\"Retrieved Question\",all_arch_questions[most_similar_quest_id])\n",
    "    #if uquest_id==10:\n",
    "        #break\n",
    "end_time = time.time()\n",
    "print(\"Execution time:\",end_time-start_time)"
   ]
  },
  {
   "cell_type": "code",
   "execution_count": 16,
   "metadata": {},
   "outputs": [
    {
     "name": "stdout",
     "output_type": "stream",
     "text": [
      "Mean Reciprocal Rank for Word2vec embedding:  0.88\n",
      "Number of question correctly retreived for Word2Vec Embedding:  440\n"
     ]
    }
   ],
   "source": [
    "wv_mean_reciprocal_rank = np.mean(np.array(wv_reciprocal_rank_list))\n",
    "print(\"Mean Reciprocal Rank for Word2vec embedding: \",wv_mean_reciprocal_rank)\n",
    "print(\"Number of question correctly retreived for Word2Vec Embedding: \", sum(wv_reciprocal_rank_list) )"
   ]
  },
  {
   "cell_type": "markdown",
   "metadata": {},
   "source": [
    "# Glove Embedding"
   ]
  },
  {
   "cell_type": "code",
   "execution_count": 17,
   "metadata": {},
   "outputs": [],
   "source": [
    "\n",
    "from gensim.test.utils import datapath, get_tmpfile\n",
    "from gensim.models import KeyedVectors\n",
    "from gensim.scripts.glove2word2vec import glove2word2vec\n",
    "\n",
    "# here I load the 300-dimension vectors; loading longer embeddings would require longer time and more RAM\n",
    "path_of_downloaded_files = \"C:\\\\Users\\\\ASUS\\\\NLP\\\\embeddings\\\\glove.6B\\\\glove.6B.300d.txt\" \n",
    "\n",
    "glove_file = datapath(path_of_downloaded_files)\n",
    "word2vec_glove_file = get_tmpfile(\"glove.6B.300d.txt\")\n",
    "glove2word2vec(glove_file, word2vec_glove_file)\n",
    "word_vectors = KeyedVectors.load_word2vec_format(word2vec_glove_file)"
   ]
  },
  {
   "cell_type": "code",
   "execution_count": 18,
   "metadata": {},
   "outputs": [],
   "source": [
    "word_vec_dim = 300 # this number should match the embedding used\n",
    "oov_vec = np.zeros(word_vec_dim) "
   ]
  },
  {
   "cell_type": "code",
   "execution_count": 19,
   "metadata": {},
   "outputs": [
    {
     "data": {
      "text/plain": [
       "(500, 1, 300)"
      ]
     },
     "execution_count": 19,
     "metadata": {},
     "output_type": "execute_result"
    }
   ],
   "source": [
    "glove_user_quest =  np.array([vectorize_sent(word_vectors, ss) for ss in all_user_questions]) #embedding for all user questions\n",
    "glove_user_quest.shape"
   ]
  },
  {
   "cell_type": "code",
   "execution_count": 20,
   "metadata": {},
   "outputs": [
    {
     "data": {
      "text/plain": [
       "(500, 1, 300)"
      ]
     },
     "execution_count": 20,
     "metadata": {},
     "output_type": "execute_result"
    }
   ],
   "source": [
    "glove_arch_quest = np.array([vectorize_sent(word_vectors, ss) for ss in all_arch_questions]) #embedding for all archived questions\n",
    "glove_arch_quest.shape"
   ]
  },
  {
   "cell_type": "code",
   "execution_count": 21,
   "metadata": {},
   "outputs": [
    {
     "name": "stdout",
     "output_type": "stream",
     "text": [
      "start time: 1598812860.028137\n",
      "Execution time: 49.66813588142395\n"
     ]
    }
   ],
   "source": [
    "import time\n",
    "start_time = time.time()\n",
    "print(\"start time:\",start_time)\n",
    "glove_reciprocal_rank_list = []\n",
    "for uquest_id, uq in enumerate(glove_user_quest):\n",
    "    #print(uquest_id)\n",
    "    similarity_scores = []\n",
    "    most_similar_quest_id = 0\n",
    "    for aq in glove_arch_quest:        \n",
    "        similarity_scores.append(cosine_similarity(uq,aq))# geting similarity scores of user question with each archived question\n",
    "    most_similar_quest_id = np.argmax(np.array(similarity_scores))\n",
    "    if all_arch_questions[uquest_id]==all_arch_questions[most_similar_quest_id]:\n",
    "        #print(\"Most similar question retrieved\")\n",
    "        glove_reciprocal_rank_list.append(1)\n",
    "    else:\n",
    "        #print(\"Dissimilar question retrived\")\n",
    "        glove_reciprocal_rank_list.append(0)\n",
    "    #print(\"User Question:\",all_user_questions[uquest_id])\n",
    "    #print(\"Archived Question\",all_arch_questions[uquest_id])\n",
    "    #print(\"Retrieved Question\",all_arch_questions[most_similar_quest_id])\n",
    "    #if uquest_id==10:\n",
    "        #break\n",
    "end_time = time.time()\n",
    "print(\"Execution time:\",end_time-start_time)"
   ]
  },
  {
   "cell_type": "code",
   "execution_count": 22,
   "metadata": {},
   "outputs": [
    {
     "name": "stdout",
     "output_type": "stream",
     "text": [
      "Mean Reciprocal Rank for Glove embedding:  0.806\n",
      "Number of question correctly retreived for Glove Embedding:  403\n"
     ]
    }
   ],
   "source": [
    "glove_mean_reciprocal_rank = np.mean(np.array(glove_reciprocal_rank_list))\n",
    "print(\"Mean Reciprocal Rank for Glove embedding: \",glove_mean_reciprocal_rank)\n",
    "print(\"Number of question correctly retreived for Glove Embedding: \", sum(glove_reciprocal_rank_list) )"
   ]
  },
  {
   "cell_type": "markdown",
   "metadata": {},
   "source": [
    "# BERT embedding (bert-as-service)"
   ]
  },
  {
   "cell_type": "code",
   "execution_count": 23,
   "metadata": {},
   "outputs": [],
   "source": [
    "#prerequisites \n",
    "#pip install bert-serving-server  # server\n",
    "#pip install bert-serving-client  # client, independent of `bert-serving-server`\n",
    "\n",
    "#to run this we need to start bert server from the command prompt\n",
    "#got to anaconda prompt\n",
    "#activate virtual environment , if you are using a virtual environment for running this code\n",
    "#run the command\n",
    "#bert-serving-start -model_dir C:\\Users\\ASUS\\NLP\\embeddings\\uncased_L-12_H-768_A-12 -num_worker 1\n",
    "\n",
    "#C:\\Users\\ASUS\\NLP\\embeddings\\uncased_L-12_H-768_A-127 this is the folder to which i downloaded the pretrained BERT, you can download it from\n",
    "\n",
    "#https://github.com/google-research/bert#pre-trained-models"
   ]
  },
  {
   "cell_type": "code",
   "execution_count": 24,
   "metadata": {},
   "outputs": [
    {
     "data": {
      "text/plain": [
       "(2, 768)"
      ]
     },
     "execution_count": 24,
     "metadata": {},
     "output_type": "execute_result"
    }
   ],
   "source": [
    "from bert_serving.client import BertClient\n",
    "bc = BertClient(check_length=False)\n",
    "res=bc.encode(['hello How are you', ' How old are you']) #testing\n",
    "res.shape"
   ]
  },
  {
   "cell_type": "code",
   "execution_count": 25,
   "metadata": {},
   "outputs": [
    {
     "data": {
      "text/plain": [
       "(500, 1, 768)"
      ]
     },
     "execution_count": 25,
     "metadata": {},
     "output_type": "execute_result"
    }
   ],
   "source": [
    "bert_user_quest = np.array([bc.encode([ss]) for ss in all_user_questions]) \n",
    "bert_user_quest.shape"
   ]
  },
  {
   "cell_type": "code",
   "execution_count": 26,
   "metadata": {},
   "outputs": [
    {
     "data": {
      "text/plain": [
       "(500, 1, 768)"
      ]
     },
     "execution_count": 26,
     "metadata": {},
     "output_type": "execute_result"
    }
   ],
   "source": [
    "bert_arch_quest = np.array([bc.encode([ss]) for ss in all_arch_questions])\n",
    "bert_arch_quest.shape"
   ]
  },
  {
   "cell_type": "code",
   "execution_count": 27,
   "metadata": {},
   "outputs": [
    {
     "name": "stdout",
     "output_type": "stream",
     "text": [
      "start time: 1598813006.165855\n",
      "Execution time: 53.85407829284668\n"
     ]
    }
   ],
   "source": [
    "import time\n",
    "start_time = time.time()\n",
    "print(\"start time:\",start_time)\n",
    "max_similarity_val = 0\n",
    "bert_reciprocal_rank_list = []\n",
    "for uquest_id, uq in enumerate(bert_user_quest):\n",
    "    #print(uquest_id)\n",
    "    similarity_scores = []\n",
    "    most_similar_quest_id = 0\n",
    "    for aq in bert_arch_quest:        \n",
    "        similarity_scores.append(cosine_similarity(uq,aq))# geting similarity scores of user question with each archived question\n",
    "    most_similar_quest_id = np.argmax(np.array(similarity_scores))\n",
    "    if all_arch_questions[uquest_id]==all_arch_questions[most_similar_quest_id]:\n",
    "        #print(\"Most similar question retrieved\")\n",
    "        bert_reciprocal_rank_list.append(1)\n",
    "    else:\n",
    "        #print(\"Dissimilar question retrived\")\n",
    "        bert_reciprocal_rank_list.append(0)\n",
    "    #print(\"User Question:\",all_user_questions[uquest_id])\n",
    "    #print(\"Archived Question\",all_arch_questions[uquest_id])\n",
    "    #print(\"Retrieved Question\",all_arch_questions[most_similar_quest_id])\n",
    "    #if uquest_id==10:\n",
    "        #break\n",
    "end_time = time.time()\n",
    "print(\"Execution time:\",end_time-start_time)"
   ]
  },
  {
   "cell_type": "code",
   "execution_count": 28,
   "metadata": {},
   "outputs": [
    {
     "name": "stdout",
     "output_type": "stream",
     "text": [
      "Mean Reciprocal Rank for Bert embedding:  0.754\n",
      "Number of question correctly retreived for Bert Embedding:  377\n"
     ]
    }
   ],
   "source": [
    "bert_mean_reciprocal_rank = np.mean(np.array(bert_reciprocal_rank_list))\n",
    "print(\"Mean Reciprocal Rank for Bert embedding: \",bert_mean_reciprocal_rank)\n",
    "print(\"Number of question correctly retreived for Bert Embedding: \", sum(bert_reciprocal_rank_list) )"
   ]
  },
  {
   "cell_type": "markdown",
   "metadata": {},
   "source": [
    "# Sentence BERT"
   ]
  },
  {
   "cell_type": "code",
   "execution_count": 29,
   "metadata": {},
   "outputs": [],
   "source": [
    "#pip install sentence-transformers"
   ]
  },
  {
   "cell_type": "code",
   "execution_count": 30,
   "metadata": {},
   "outputs": [],
   "source": [
    "from sentence_transformers import SentenceTransformer\n",
    "model = SentenceTransformer('bert-base-nli-mean-tokens')# pretrained modellist availble at fromhttps://docs.google.com/spreadsheets/d/14QplCdTCDwEmTqrn1LH4yrbKvdogK4oQvYO1K1aPR5M/edit#gid=0"
   ]
  },
  {
   "cell_type": "code",
   "execution_count": 31,
   "metadata": {},
   "outputs": [
    {
     "data": {
      "text/plain": [
       "(1, 768)"
      ]
     },
     "execution_count": 31,
     "metadata": {},
     "output_type": "execute_result"
    }
   ],
   "source": [
    "bert_user_quest = np.array(model.encode(all_user_questions))\n",
    "bert_user_quest = bert_user_quest.reshape(len(all_user_questions),1,768)\n",
    "bert_user_quest[0].shape"
   ]
  },
  {
   "cell_type": "code",
   "execution_count": 32,
   "metadata": {},
   "outputs": [
    {
     "data": {
      "text/plain": [
       "(500, 1, 768)"
      ]
     },
     "execution_count": 32,
     "metadata": {},
     "output_type": "execute_result"
    }
   ],
   "source": [
    "bert_arch_quest = np.array(model.encode(all_arch_questions))\n",
    "bert_arch_quest = bert_arch_quest.reshape(len(all_arch_questions),1,768)\n",
    "bert_arch_quest.shape"
   ]
  },
  {
   "cell_type": "code",
   "execution_count": 33,
   "metadata": {},
   "outputs": [
    {
     "name": "stdout",
     "output_type": "stream",
     "text": [
      "start time: 1598813081.8866365\n",
      "Execution time: 50.8556489944458\n"
     ]
    }
   ],
   "source": [
    "import time\n",
    "start_time = time.time()\n",
    "print(\"start time:\",start_time)\n",
    "max_similarity_val = 0\n",
    "sbert_reciprocal_rank_list = []\n",
    "for uquest_id, uq in enumerate(bert_user_quest):\n",
    "    #print(uquest_id)\n",
    "    similarity_scores = []\n",
    "    most_similar_quest_id = 0\n",
    "    for aq in bert_arch_quest:        \n",
    "        similarity_scores.append(cosine_similarity(np.array(uq),np.array(aq)))# geting similarity scores of user question with each archived question\n",
    "    most_similar_quest_id = np.argmax(np.array(similarity_scores))\n",
    "    if all_arch_questions[uquest_id]==all_arch_questions[most_similar_quest_id]:\n",
    "        #print(\"Most similar question retrieved\")\n",
    "        sbert_reciprocal_rank_list.append(1)\n",
    "    else:\n",
    "        #print(\"Dissimilar question retrived\")\n",
    "        sbert_reciprocal_rank_list.append(0)\n",
    "    #print(\"User Question:\",all_user_questions[uquest_id])\n",
    "    #print(\"Archived Question\",all_arch_questions[uquest_id])\n",
    "    #print(\"Retrieved Question\",all_arch_questions[most_similar_quest_id])\n",
    "    #if uquest_id==10:\n",
    "        #break\n",
    "end_time = time.time()\n",
    "print(\"Execution time:\",end_time-start_time)"
   ]
  },
  {
   "cell_type": "code",
   "execution_count": 34,
   "metadata": {},
   "outputs": [
    {
     "name": "stdout",
     "output_type": "stream",
     "text": [
      "Mean Reciprocal Rank for Bert embedding:  0.858\n",
      "Number of question correctly retreived for Bert Embedding:  429\n"
     ]
    }
   ],
   "source": [
    "sbert_mean_reciprocal_rank = np.mean(np.array(sbert_reciprocal_rank_list))\n",
    "print(\"Mean Reciprocal Rank for Bert embedding: \",sbert_mean_reciprocal_rank)\n",
    "print(\"Number of question correctly retreived for Bert Embedding: \", sum(sbert_reciprocal_rank_list) )"
   ]
  },
  {
   "cell_type": "code",
   "execution_count": 49,
   "metadata": {},
   "outputs": [
    {
     "data": {
      "text/html": [
       "<div>\n",
       "<style scoped>\n",
       "    .dataframe tbody tr th:only-of-type {\n",
       "        vertical-align: middle;\n",
       "    }\n",
       "\n",
       "    .dataframe tbody tr th {\n",
       "        vertical-align: top;\n",
       "    }\n",
       "\n",
       "    .dataframe thead th {\n",
       "        text-align: right;\n",
       "    }\n",
       "</style>\n",
       "<table border=\"1\" class=\"dataframe\">\n",
       "  <thead>\n",
       "    <tr style=\"text-align: right;\">\n",
       "      <th></th>\n",
       "      <th>vectorization_method</th>\n",
       "      <th>mean_reciprocal_ranks</th>\n",
       "    </tr>\n",
       "  </thead>\n",
       "  <tbody>\n",
       "    <tr>\n",
       "      <th>0</th>\n",
       "      <td>tf-idf</td>\n",
       "      <td>0.936</td>\n",
       "    </tr>\n",
       "    <tr>\n",
       "      <th>1</th>\n",
       "      <td>Word2vec</td>\n",
       "      <td>0.880</td>\n",
       "    </tr>\n",
       "    <tr>\n",
       "      <th>2</th>\n",
       "      <td>Glove</td>\n",
       "      <td>0.806</td>\n",
       "    </tr>\n",
       "    <tr>\n",
       "      <th>3</th>\n",
       "      <td>Bert-as-service</td>\n",
       "      <td>0.754</td>\n",
       "    </tr>\n",
       "    <tr>\n",
       "      <th>4</th>\n",
       "      <td>SBERT</td>\n",
       "      <td>0.858</td>\n",
       "    </tr>\n",
       "  </tbody>\n",
       "</table>\n",
       "</div>"
      ],
      "text/plain": [
       "  vectorization_method  mean_reciprocal_ranks\n",
       "0               tf-idf                  0.936\n",
       "1             Word2vec                  0.880\n",
       "2                Glove                  0.806\n",
       "3      Bert-as-service                  0.754\n",
       "4                SBERT                  0.858"
      ]
     },
     "execution_count": 49,
     "metadata": {},
     "output_type": "execute_result"
    }
   ],
   "source": [
    "#comparing different models\n",
    "mrr_df = pd.DataFrame()\n",
    "mrr_df[\"vectorization_method\"] = [\"tf-idf\",\"Word2vec\",\"Glove\",\"Bert-as-service\", \"SBERT\"]\n",
    "mrr_df[\"mean_reciprocal_ranks\"] = [tfidf_mean_reciprocal_rank,wv_mean_reciprocal_rank,glove_mean_reciprocal_rank,bert_mean_reciprocal_rank,sbert_mean_reciprocal_rank]\n",
    "mrr_df"
   ]
  },
  {
   "cell_type": "code",
   "execution_count": 50,
   "metadata": {},
   "outputs": [
    {
     "data": {
      "text/plain": [
       "([0, 1, 2, 3, 4],\n",
       " [Text(0, 0, ''),\n",
       "  Text(0, 0, ''),\n",
       "  Text(0, 0, ''),\n",
       "  Text(0, 0, ''),\n",
       "  Text(0, 0, '')])"
      ]
     },
     "execution_count": 50,
     "metadata": {},
     "output_type": "execute_result"
    },
    {
     "data": {
      "image/png": "[encoded data removed]",
      "text/plain": [
       "<Figure size 432x288 with 1 Axes>"
      ]
     },
     "metadata": {
      "needs_background": "light"
     },
     "output_type": "display_data"
    }
   ],
   "source": [
    "import matplotlib.pyplot as plt\n",
    "\n",
    "plt.bar(mrr_df[\"vectorization_method\"],mrr_df[\"mean_reciprocal_ranks\"])\n",
    "plt.ylabel(\"Mean Reciprocal rank\")\n",
    "plt.ylim(0,1)\n",
    "plt.xticks(rotation = 45)"
   ]
  },
  {
   "cell_type": "code",
   "execution_count": null,
   "metadata": {},
   "outputs": [],
   "source": []
  }
 ],
 "metadata": {
  "kernelspec": {
   "display_name": "vevn_nlp",
   "language": "python",
   "name": "vevn_nlp"
  },
  "language_info": {
   "codemirror_mode": {
    "name": "ipython",
    "version": 3
   },
   "file_extension": ".py",
   "mimetype": "text/x-python",
   "name": "python",
   "nbconvert_exporter": "python",
   "pygments_lexer": "ipython3",
   "version": "3.7.7"
  }
 },
 "nbformat": 4,
 "nbformat_minor": 2
}
