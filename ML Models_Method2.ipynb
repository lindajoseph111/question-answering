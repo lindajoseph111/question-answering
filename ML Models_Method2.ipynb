{
 "cells": [
  {
   "cell_type": "code",
   "execution_count": 1,
   "metadata": {},
   "outputs": [],
   "source": [
    "import pandas as pd\n",
    "from sklearn.metrics.pairwise import cosine_similarity\n",
    "import numpy as np\n",
    "import matplotlib.pyplot as plt\n",
    "from sklearn.model_selection import train_test_split\n",
    "from sklearn.feature_extraction.text import TfidfVectorizer\n",
    "from nltk.tokenize import word_tokenize\n",
    "from nltk.corpus import stopwords\n",
    "from sklearn.metrics import precision_recall_fscore_support,accuracy_score\n",
    "from sklearn.linear_model import LogisticRegression\n",
    "import numpy as np\n",
    "from gensim.test.utils import datapath\n",
    "from gensim.models import KeyedVectors\n",
    "from pathlib import Path\n",
    "import math\n",
    "from sklearn.metrics import log_loss\n",
    "from sklearn.utils import shuffle\n",
    "from sklearn.metrics.pairwise import euclidean_distances\n",
    "from sklearn.metrics.pairwise import manhattan_distances\n",
    "import matplotlib.pyplot as plt\n",
    "from sklearn.naive_bayes import MultinomialNB"
   ]
  },
  {
   "cell_type": "markdown",
   "metadata": {},
   "source": [
    "# Logistic regression+ Basic Features"
   ]
  },
  {
   "cell_type": "code",
   "execution_count": 2,
   "metadata": {},
   "outputs": [
    {
     "data": {
      "text/html": [
       "<div>\n",
       "<style scoped>\n",
       "    .dataframe tbody tr th:only-of-type {\n",
       "        vertical-align: middle;\n",
       "    }\n",
       "\n",
       "    .dataframe tbody tr th {\n",
       "        vertical-align: top;\n",
       "    }\n",
       "\n",
       "    .dataframe thead th {\n",
       "        text-align: right;\n",
       "    }\n",
       "</style>\n",
       "<table border=\"1\" class=\"dataframe\">\n",
       "  <thead>\n",
       "    <tr style=\"text-align: right;\">\n",
       "      <th></th>\n",
       "      <th>Unnamed: 0</th>\n",
       "      <th>guid</th>\n",
       "      <th>qu_id</th>\n",
       "      <th>qu</th>\n",
       "      <th>qa_id</th>\n",
       "      <th>qa</th>\n",
       "      <th>ans_id</th>\n",
       "      <th>ans</th>\n",
       "      <th>is_duplicate</th>\n",
       "      <th>is_correspond</th>\n",
       "      <th>is_useful</th>\n",
       "      <th>f_uq</th>\n",
       "      <th>f_aq</th>\n",
       "      <th>l_uq</th>\n",
       "      <th>l_aq</th>\n",
       "      <th>num_words_uq</th>\n",
       "      <th>num_words_aq</th>\n",
       "      <th>n_common_words</th>\n",
       "      <th>total_word_count</th>\n",
       "      <th>fraction_common_words</th>\n",
       "    </tr>\n",
       "  </thead>\n",
       "  <tbody>\n",
       "    <tr>\n",
       "      <th>879</th>\n",
       "      <td>3602</td>\n",
       "      <td>198978</td>\n",
       "      <td>38298</td>\n",
       "      <td>why is pakistan denying the surgical strike</td>\n",
       "      <td>186810</td>\n",
       "      <td>what is the reason behind pakistan denying the...</td>\n",
       "      <td>51851</td>\n",
       "      <td>Because in war isn't that what the enemy is su...</td>\n",
       "      <td>1</td>\n",
       "      <td>1</td>\n",
       "      <td>1</td>\n",
       "      <td>2</td>\n",
       "      <td>3</td>\n",
       "      <td>45</td>\n",
       "      <td>74</td>\n",
       "      <td>8</td>\n",
       "      <td>13</td>\n",
       "      <td>6.0</td>\n",
       "      <td>20.0</td>\n",
       "      <td>0.300000</td>\n",
       "    </tr>\n",
       "    <tr>\n",
       "      <th>6619</th>\n",
       "      <td>5307</td>\n",
       "      <td>300387</td>\n",
       "      <td>243337</td>\n",
       "      <td>what would be your reaction if you discovered ...</td>\n",
       "      <td>243338</td>\n",
       "      <td>do you put money under your children s pillows...</td>\n",
       "      <td>226510</td>\n",
       "      <td>The Tooth Fairy brings magic (and money) to a ...</td>\n",
       "      <td>0</td>\n",
       "      <td>1</td>\n",
       "      <td>0</td>\n",
       "      <td>1</td>\n",
       "      <td>1</td>\n",
       "      <td>101</td>\n",
       "      <td>71</td>\n",
       "      <td>19</td>\n",
       "      <td>14</td>\n",
       "      <td>5.0</td>\n",
       "      <td>32.0</td>\n",
       "      <td>0.156250</td>\n",
       "    </tr>\n",
       "    <tr>\n",
       "      <th>7853</th>\n",
       "      <td>7807</td>\n",
       "      <td>192703</td>\n",
       "      <td>110216</td>\n",
       "      <td>how do i convert mp3 file to midi file</td>\n",
       "      <td>172955</td>\n",
       "      <td>is there a way to convert an audio file mp3 or...</td>\n",
       "      <td>146804</td>\n",
       "      <td>Bear File Converter.It helps you to convert Mp...</td>\n",
       "      <td>0</td>\n",
       "      <td>1</td>\n",
       "      <td>0</td>\n",
       "      <td>4</td>\n",
       "      <td>1</td>\n",
       "      <td>40</td>\n",
       "      <td>71</td>\n",
       "      <td>10</td>\n",
       "      <td>19</td>\n",
       "      <td>6.0</td>\n",
       "      <td>25.0</td>\n",
       "      <td>0.240000</td>\n",
       "    </tr>\n",
       "    <tr>\n",
       "      <th>1943</th>\n",
       "      <td>7720</td>\n",
       "      <td>200389</td>\n",
       "      <td>171871</td>\n",
       "      <td>is it possible the 2016 u s presidential elect...</td>\n",
       "      <td>171872</td>\n",
       "      <td>how is it possible to rig the 2016 election</td>\n",
       "      <td>146172</td>\n",
       "      <td>Easy, just keep telling people over and over a...</td>\n",
       "      <td>1</td>\n",
       "      <td>1</td>\n",
       "      <td>1</td>\n",
       "      <td>1</td>\n",
       "      <td>1</td>\n",
       "      <td>98</td>\n",
       "      <td>45</td>\n",
       "      <td>19</td>\n",
       "      <td>10</td>\n",
       "      <td>9.0</td>\n",
       "      <td>23.0</td>\n",
       "      <td>0.391304</td>\n",
       "    </tr>\n",
       "    <tr>\n",
       "      <th>6485</th>\n",
       "      <td>5023</td>\n",
       "      <td>128745</td>\n",
       "      <td>394582</td>\n",
       "      <td>is google about to thrive or decline in the co...</td>\n",
       "      <td>62387</td>\n",
       "      <td>what year was google founded</td>\n",
       "      <td>24410</td>\n",
       "      <td>Google was founded on 4th September, 1998.Google</td>\n",
       "      <td>0</td>\n",
       "      <td>1</td>\n",
       "      <td>0</td>\n",
       "      <td>1</td>\n",
       "      <td>1</td>\n",
       "      <td>58</td>\n",
       "      <td>30</td>\n",
       "      <td>12</td>\n",
       "      <td>6</td>\n",
       "      <td>2.0</td>\n",
       "      <td>18.0</td>\n",
       "      <td>0.111111</td>\n",
       "    </tr>\n",
       "  </tbody>\n",
       "</table>\n",
       "</div>"
      ],
      "text/plain": [
       "      Unnamed: 0    guid   qu_id  \\\n",
       "879         3602  198978   38298   \n",
       "6619        5307  300387  243337   \n",
       "7853        7807  192703  110216   \n",
       "1943        7720  200389  171871   \n",
       "6485        5023  128745  394582   \n",
       "\n",
       "                                                     qu   qa_id  \\\n",
       "879         why is pakistan denying the surgical strike  186810   \n",
       "6619  what would be your reaction if you discovered ...  243338   \n",
       "7853             how do i convert mp3 file to midi file  172955   \n",
       "1943  is it possible the 2016 u s presidential elect...  171872   \n",
       "6485  is google about to thrive or decline in the co...   62387   \n",
       "\n",
       "                                                     qa  ans_id  \\\n",
       "879   what is the reason behind pakistan denying the...   51851   \n",
       "6619  do you put money under your children s pillows...  226510   \n",
       "7853  is there a way to convert an audio file mp3 or...  146804   \n",
       "1943        how is it possible to rig the 2016 election  146172   \n",
       "6485                       what year was google founded   24410   \n",
       "\n",
       "                                                    ans  is_duplicate  \\\n",
       "879   Because in war isn't that what the enemy is su...             1   \n",
       "6619  The Tooth Fairy brings magic (and money) to a ...             0   \n",
       "7853  Bear File Converter.It helps you to convert Mp...             0   \n",
       "1943  Easy, just keep telling people over and over a...             1   \n",
       "6485   Google was founded on 4th September, 1998.Google             0   \n",
       "\n",
       "      is_correspond  is_useful  f_uq  f_aq  l_uq  l_aq  num_words_uq  \\\n",
       "879               1          1     2     3    45    74             8   \n",
       "6619              1          0     1     1   101    71            19   \n",
       "7853              1          0     4     1    40    71            10   \n",
       "1943              1          1     1     1    98    45            19   \n",
       "6485              1          0     1     1    58    30            12   \n",
       "\n",
       "      num_words_aq  n_common_words  total_word_count  fraction_common_words  \n",
       "879             13             6.0              20.0               0.300000  \n",
       "6619            14             5.0              32.0               0.156250  \n",
       "7853            19             6.0              25.0               0.240000  \n",
       "1943            10             9.0              23.0               0.391304  \n",
       "6485             6             2.0              18.0               0.111111  "
      ]
     },
     "execution_count": 2,
     "metadata": {},
     "output_type": "execute_result"
    }
   ],
   "source": [
    "QApair_df = pd.read_csv('train.csv')\n",
    "QApair_df = shuffle(QApair_df)\n",
    "QApair_df = QApair_df.dropna() #dropping na\n",
    "QApair_df.head()"
   ]
  },
  {
   "cell_type": "code",
   "execution_count": 3,
   "metadata": {},
   "outputs": [],
   "source": [
    "path_of_downloaded_bin = Path(\"C:\\\\Users\\\\ASUS\\\\NLP\\\\embeddings\\\\GoogleNews-vectors-negative300.bin\")\n",
    "word_vectors = KeyedVectors.load_word2vec_format(datapath(path_of_downloaded_bin), binary=True)"
   ]
  },
  {
   "cell_type": "code",
   "execution_count": 4,
   "metadata": {},
   "outputs": [],
   "source": [
    "word_vec_dim = 300 # this number should match the embedding used\n",
    "oov_vec = np.random.rand(word_vec_dim) \n",
    "def vectorize_sent(word_vectors, sent):\n",
    "    word_vecs = []\n",
    "    for token in word_tokenize(sent):\n",
    "        if token not in word_vectors: \n",
    "            word_vecs.append(oov_vec)\n",
    "        else:\n",
    "            word_vecs.append(word_vectors[token].astype('float64'))\n",
    "    return (np.mean(word_vecs,axis=0)).reshape(1,-1)\n"
   ]
  },
  {
   "cell_type": "markdown",
   "metadata": {},
   "source": [
    "# ML with concatenated sentences"
   ]
  },
  {
   "cell_type": "code",
   "execution_count": 5,
   "metadata": {},
   "outputs": [
    {
     "name": "stdout",
     "output_type": "stream",
     "text": [
      "length of x_data: 8000\n",
      "length of y_data: 8000\n"
     ]
    }
   ],
   "source": [
    "QApair_df[\"concat_text\"] = QApair_df['qu']+' '+ QApair_df['qa'] #training data is cocatenated sentences\n",
    "QApair_df = shuffle(QApair_df)\n",
    "x_data = QApair_df[\"concat_text\"]\n",
    "y_data = QApair_df['is_duplicate'] #list of labels\n",
    "\n",
    "print(\"length of x_data:\",len(x_data))\n",
    "print(\"length of y_data:\",len(y_data))"
   ]
  },
  {
   "cell_type": "code",
   "execution_count": 6,
   "metadata": {},
   "outputs": [],
   "source": [
    "x_data_vecs = np.array([vectorize_sent(word_vectors, ss) for ss in x_data]) #vector of concatenated questions\n",
    "x_data_vecs = x_data_vecs.reshape(len(x_data),word_vec_dim) #reshaping the array from 3d to 2d"
   ]
  },
  {
   "cell_type": "raw",
   "metadata": {},
   "source": [
    "#Fine tuning Logistic regression\n",
    "\n",
    "from sklearn.model_selection import GridSearchCV\n",
    "from sklearn.pipeline import Pipeline\n",
    "\n",
    "\n",
    "pipe = Pipeline([(\"clf\",LogisticRegression())])\n",
    "param_grid = [{\"clf__C\":[0.1,1.0,10.0],\"clf__class_weight\":['dict','balanced'],\"clf__solver\":['newton-cg', 'lbfgs', 'liblinear', 'sag', 'saga'], \"clf__max_iter\": [1000,2000,5000,10000]}]\n",
    "gs = GridSearchCV(pipe,param_grid,scoring = \"accuracy\",cv = 5, verbose = 1, n_jobs = -1)\n",
    "gs.fit(x_data_vecs,y_data)"
   ]
  },
  {
   "cell_type": "raw",
   "metadata": {},
   "source": [
    "print(\"Best Params\",gs.best_params_)\n",
    "print(\"Best score\",gs.best_score_)"
   ]
  },
  {
   "cell_type": "code",
   "execution_count": 7,
   "metadata": {},
   "outputs": [],
   "source": [
    "clf = LogisticRegression(C = 1.0,class_weight = 'dict', max_iter = 1000,solver = 'newton-cg').fit(x_data_vecs, y_data)"
   ]
  },
  {
   "cell_type": "code",
   "execution_count": 8,
   "metadata": {},
   "outputs": [
    {
     "name": "stdout",
     "output_type": "stream",
     "text": [
      "Number of archived Questions: 500\n"
     ]
    }
   ],
   "source": [
    "#finding mean reciprocal rank:\n",
    "test_df_ml = pd.read_csv('test.csv') #getting the test data\n",
    "test_df_ml = test_df_ml[['qu','qa','is_duplicate']].copy()\n",
    "test_df_ml = test_df_ml[:500]\n",
    "l = len(test_df_ml['qa'])#Number of archived Questions\n",
    "print(\"Number of archived Questions:\",l)"
   ]
  },
  {
   "cell_type": "code",
   "execution_count": 9,
   "metadata": {},
   "outputs": [],
   "source": [
    "user_questions = test_df_ml['qu'].tolist()\n",
    "concat_reciprocal_rank_list = []\n",
    "arch_questions = test_df_ml['qa'].tolist()\n",
    "l = len(arch_questions)\n",
    "for uquest_id, user_quest in enumerate(user_questions):\n",
    "    most_similar_quest_id = 0\n",
    "    test_ml = test_df_ml[['qa']].copy()\n",
    "    test_ml['qu'] = [user_quest]*l\n",
    "    test_ml['concat_text'] = test_ml['qu']+' '+ test_ml['qa']\n",
    "    test_x_data = test_ml[\"concat_text\"]\n",
    "    test_xdata_vecs = np.array([vectorize_sent(word_vectors, ss) for ss in test_x_data.tolist()])\n",
    "    test_xdata_vecs = test_xdata_vecs.reshape(len(arch_questions),word_vec_dim)\n",
    "    y_pred = clf.predict_proba(test_xdata_vecs) #predict probability\n",
    "    y_max = y_pred[:,0] #selecting only probability of duplication\n",
    "    most_similar_quest_id = np.argmax(np.array(y_max))\n",
    "    if arch_questions[uquest_id] ==arch_questions[most_similar_quest_id]:#comparing the retreived with duplicate question of user question\n",
    "        #print(\"\\nMost similar question retrieved\")\n",
    "        concat_reciprocal_rank_list.append(1)\n",
    "    else:\n",
    "        #print(\"\\nDissimilar question retrived\")\n",
    "        concat_reciprocal_rank_list.append(0)\n"
   ]
  },
  {
   "cell_type": "code",
   "execution_count": 10,
   "metadata": {},
   "outputs": [
    {
     "name": "stdout",
     "output_type": "stream",
     "text": [
      "Mean Reciprocal Rank for ML+Cosine similiarity  0.0\n",
      "Number of question correctly retreived for Bert Embedding:  0\n"
     ]
    }
   ],
   "source": [
    "concat_mean_reciprocal_rank = np.mean(np.array(concat_reciprocal_rank_list))\n",
    "print(\"Mean Reciprocal Rank for ML+Cosine similiarity \",concat_mean_reciprocal_rank)\n",
    "print(\"Number of question correctly retreived for Bert Embedding: \", sum(concat_reciprocal_rank_list) )"
   ]
  },
  {
   "cell_type": "markdown",
   "metadata": {},
   "source": [
    "# ML+Word Embeddings Difference"
   ]
  },
  {
   "cell_type": "code",
   "execution_count": 11,
   "metadata": {},
   "outputs": [
    {
     "name": "stdout",
     "output_type": "stream",
     "text": [
      "all text size 8000\n",
      "All label size 8000\n"
     ]
    }
   ],
   "source": [
    "all_text = QApair_df[[\"qu\",\"qa\"]]\n",
    "all_labels = QApair_df[\"is_duplicate\"]\n",
    "print(\"all text size\", len(all_text))\n",
    "print(\"All label size\", len(all_labels))"
   ]
  },
  {
   "cell_type": "code",
   "execution_count": 12,
   "metadata": {},
   "outputs": [],
   "source": [
    "all_user_text = all_text[\"qu\"].tolist()\n",
    "all_arch_text = all_text[\"qa\"].tolist()"
   ]
  },
  {
   "cell_type": "code",
   "execution_count": 13,
   "metadata": {},
   "outputs": [],
   "source": [
    "#following embeddingds are used for finding diff distances between question pairs of all vectors\n",
    "all_user_vecs = np.array([vectorize_sent(word_vectors, ss) for ss in all_user_text]) #getting vector representation for user questions\n",
    "all_arch_vecs = np.array([vectorize_sent(word_vectors, ss) for ss in all_arch_text]) #getting vector representation for archived questions"
   ]
  },
  {
   "cell_type": "code",
   "execution_count": 14,
   "metadata": {},
   "outputs": [],
   "source": [
    "x_data = all_user_vecs-all_arch_vecs\n",
    "x_data = x_data.reshape(len(all_user_text),word_vec_dim)\n",
    "y_data = all_labels"
   ]
  },
  {
   "cell_type": "raw",
   "metadata": {},
   "source": [
    "#Fine tuning Logistic regression\n",
    "\n",
    "from sklearn.model_selection import GridSearchCV\n",
    "from sklearn.pipeline import Pipeline\n",
    "\n",
    "\n",
    "pipe = Pipeline([(\"clf\",LogisticRegression())])\n",
    "param_grid = [{\"clf__C\":[0.1,1.0,10.0],\"clf__class_weight\":['dict','balanced'],\"clf__solver\":['newton-cg', 'lbfgs', 'liblinear', 'sag', 'saga'], \"clf__max_iter\": [1000,2000,5000,10000]}]\n",
    "gs = GridSearchCV(pipe,param_grid,scoring = \"accuracy\",cv = 5, verbose = 1, n_jobs = -1)\n",
    "gs.fit(x_data,y_data)"
   ]
  },
  {
   "cell_type": "raw",
   "metadata": {},
   "source": [
    "print(\"Best Params\",gs.best_params_)\n",
    "print(\"Best score\",gs.best_score_)"
   ]
  },
  {
   "cell_type": "code",
   "execution_count": 15,
   "metadata": {},
   "outputs": [],
   "source": [
    "clf = LogisticRegression(C = 1.0,class_weight = 'dict',max_iter  = 1000,solver = 'sag').fit(x_data, y_data)"
   ]
  },
  {
   "cell_type": "code",
   "execution_count": 16,
   "metadata": {},
   "outputs": [
    {
     "name": "stdout",
     "output_type": "stream",
     "text": [
      "Number of archived Questions: 500\n"
     ]
    }
   ],
   "source": [
    "#finding mean reciprocal rank:\n",
    "test_df_ml = pd.read_csv('test.csv') #getting the test data\n",
    "test_df_ml = test_df_ml[['qu','qa','is_duplicate']].copy()\n",
    "test_df_ml = test_df_ml[:500]\n",
    "l = len(test_df_ml['qa'])#Number of archived Questions\n",
    "print(\"Number of archived Questions:\",l)"
   ]
  },
  {
   "cell_type": "code",
   "execution_count": 17,
   "metadata": {},
   "outputs": [],
   "source": [
    "diff_reciprocal_rank_list = []\n",
    "most_similar_quest_id = 0\n",
    "user_questions = test_df_ml['qu'].tolist()\n",
    "arch_questions = test_df_ml['qa'].tolist()\n",
    "test_user_vecs_ml = np.array([vectorize_sent(word_vectors, ss) for ss in user_questions]) #getting vector representation for user questions\n",
    "test_arch_vecs_ml = np.array([vectorize_sent(word_vectors, ss) for ss in arch_questions]) #getting vector representation for archived questions\n",
    "for uquest_id, user_quest in enumerate(test_user_vecs_ml):\n",
    "    user_vecs = np.array([user_quest]*l) #making the dimesion of user vecs same as arch vecs\n",
    "    test_x_data = user_vecs-test_arch_vecs_ml #finding difference between user question vectors and archived question \n",
    "    test_x_data = test_x_data.reshape(l,word_vec_dim)\n",
    "    y_pred = clf.predict_proba(test_x_data) #predict probability\n",
    "    y_max = y_pred[:,1] #selecting only probability of duplication\n",
    "    most_similar_quest_id = np.argmax(np.array(y_max))\n",
    "    most_similar_quest_id\n",
    "    if arch_questions[uquest_id] ==arch_questions[most_similar_quest_id]:#comparing the retreived with duplicate question of user question\n",
    "        #print(\"\\nMost similar question retrieved\")\n",
    "        diff_reciprocal_rank_list.append(1)\n",
    "    else:\n",
    "        #print(\"\\nDissimilar question retrived\")\n",
    "        diff_reciprocal_rank_list.append(0)\n"
   ]
  },
  {
   "cell_type": "code",
   "execution_count": 18,
   "metadata": {},
   "outputs": [
    {
     "name": "stdout",
     "output_type": "stream",
     "text": [
      "Mean Reciprocal Rank for Ml+diff of embeddings  0.002\n",
      "Number of question correctly retreived for Ml+diff of embeddings:  1\n"
     ]
    }
   ],
   "source": [
    "diff_mean_reciprocal_rank = np.mean(np.array(diff_reciprocal_rank_list))\n",
    "print(\"Mean Reciprocal Rank for Ml+diff of embeddings \",diff_mean_reciprocal_rank)\n",
    "print(\"Number of question correctly retreived for Ml+diff of embeddings: \", sum(diff_reciprocal_rank_list) )"
   ]
  },
  {
   "cell_type": "code",
   "execution_count": 19,
   "metadata": {},
   "outputs": [
    {
     "data": {
      "text/html": [
       "<div>\n",
       "<style scoped>\n",
       "    .dataframe tbody tr th:only-of-type {\n",
       "        vertical-align: middle;\n",
       "    }\n",
       "\n",
       "    .dataframe tbody tr th {\n",
       "        vertical-align: top;\n",
       "    }\n",
       "\n",
       "    .dataframe thead th {\n",
       "        text-align: right;\n",
       "    }\n",
       "</style>\n",
       "<table border=\"1\" class=\"dataframe\">\n",
       "  <thead>\n",
       "    <tr style=\"text-align: right;\">\n",
       "      <th></th>\n",
       "      <th>Method</th>\n",
       "      <th>mean_reciprocal_ranks</th>\n",
       "    </tr>\n",
       "  </thead>\n",
       "  <tbody>\n",
       "    <tr>\n",
       "      <th>0</th>\n",
       "      <td>LR+ConcatQuestions</td>\n",
       "      <td>0.000</td>\n",
       "    </tr>\n",
       "    <tr>\n",
       "      <th>1</th>\n",
       "      <td>LR+Difference of vectors</td>\n",
       "      <td>0.002</td>\n",
       "    </tr>\n",
       "  </tbody>\n",
       "</table>\n",
       "</div>"
      ],
      "text/plain": [
       "                     Method  mean_reciprocal_ranks\n",
       "0        LR+ConcatQuestions                  0.000\n",
       "1  LR+Difference of vectors                  0.002"
      ]
     },
     "execution_count": 19,
     "metadata": {},
     "output_type": "execute_result"
    }
   ],
   "source": [
    "results_df = pd.DataFrame()\n",
    "results_df[\"Method\"] = [\"LR+ConcatQuestions\",\"LR+Difference of vectors\"]\n",
    "results_df[\"mean_reciprocal_ranks\"] = [concat_mean_reciprocal_rank,diff_mean_reciprocal_rank]\n",
    "results_df"
   ]
  },
  {
   "cell_type": "code",
   "execution_count": 20,
   "metadata": {},
   "outputs": [
    {
     "data": {
      "text/plain": [
       "([0, 1], [Text(0, 0, ''), Text(0, 0, '')])"
      ]
     },
     "execution_count": 20,
     "metadata": {},
     "output_type": "execute_result"
    },
    {
     "data": {
      "image/png": "[encoded data removed]",
      "text/plain": [
       "<Figure size 432x288 with 1 Axes>"
      ]
     },
     "metadata": {
      "needs_background": "light"
     },
     "output_type": "display_data"
    }
   ],
   "source": [
    "import matplotlib.pyplot as plt\n",
    "plt.plot(results_df[\"Method\"],results_df[\"mean_reciprocal_ranks\"])\n",
    "plt.ylabel(\"Mean Reciprocal rank\")\n",
    "plt.ylim(0.5,1)\n",
    "plt.xticks(rotation = 45)"
   ]
  }
 ],
 "metadata": {
  "kernelspec": {
   "display_name": "vevn_nlp",
   "language": "python",
   "name": "vevn_nlp"
  },
  "language_info": {
   "codemirror_mode": {
    "name": "ipython",
    "version": 3
   },
   "file_extension": ".py",
   "mimetype": "text/x-python",
   "name": "python",
   "nbconvert_exporter": "python",
   "pygments_lexer": "ipython3",
   "version": "3.7.7"
  }
 },
 "nbformat": 4,
 "nbformat_minor": 2
}
