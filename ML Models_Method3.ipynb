{
 "cells": [
  {
   "cell_type": "code",
   "execution_count": 89,
   "metadata": {},
   "outputs": [],
   "source": [
    "import pandas as pd\n",
    "from sklearn.metrics.pairwise import cosine_similarity\n",
    "import numpy as np\n",
    "import matplotlib.pyplot as plt\n",
    "from sklearn.model_selection import train_test_split\n",
    "from sklearn.feature_extraction.text import TfidfVectorizer\n",
    "from nltk.tokenize import word_tokenize\n",
    "from nltk.corpus import stopwords\n",
    "from sklearn.metrics import precision_recall_fscore_support,accuracy_score\n",
    "from sklearn.linear_model import LogisticRegression\n",
    "import numpy as np\n",
    "from gensim.test.utils import datapath\n",
    "from gensim.models import KeyedVectors\n",
    "from pathlib import Path\n",
    "import math\n",
    "from sklearn.metrics import log_loss\n",
    "from sklearn.utils import shuffle\n",
    "from sklearn.metrics.pairwise import euclidean_distances\n",
    "from sklearn.metrics.pairwise import manhattan_distances\n",
    "from sklearn.metrics.pairwise import cosine_distances\n",
    "import matplotlib.pyplot as plt\n",
    "from sklearn.naive_bayes import MultinomialNB"
   ]
  },
  {
   "cell_type": "code",
   "execution_count": 90,
   "metadata": {},
   "outputs": [],
   "source": [
    "\n",
    "def find_word_Common(sample):\n",
    "    \"\"\"finding number of words common in both user question and archived Question\"\"\"\n",
    "    uq = set(map(lambda w: w.lower().strip(), sample['qu'].split(\" \")))\n",
    "    aq = set(map(lambda w: w.lower().strip(), sample['qa'].split(\" \")))    \n",
    "    return len(uq & aq)*1.0\n",
    "\n",
    "def find_total_word_count(sample):\n",
    "    \"\"\"Finding total number of words in both user and archived questions\"\"\"\n",
    "    uq = set(map(lambda w: w.lower().strip(), sample['qu'].split(\" \")))\n",
    "    aq = set(map(lambda w: w.lower().strip(), sample['qa'].split(\" \")))   \n",
    "    return (len(uq) + len(aq))*1.0\n",
    "#test_ml['total_word_count'] = test_ml.apply(find_total_word_count, axis=1)\n",
    "\n",
    "def fraction_common_words(sample):\n",
    "    \"\"\"Finding the ratio of the number of words in common and total number of words in user and archived questions\"\"\"\n",
    "    uq = set(map(lambda w: w.lower().strip(), sample['qu'].split(\" \")))\n",
    "    aq = set(map(lambda w: w.lower().strip(), sample['qa'].split(\" \"))) \n",
    "    return 1.0 * len(uq & aq)/(len(uq) + len(aq))\n",
    "#test_ml['fraction_common_words'] = test_ml.apply(fraction_common_words, axis=1)"
   ]
  },
  {
   "cell_type": "code",
   "execution_count": 91,
   "metadata": {},
   "outputs": [],
   "source": [
    "#calculating sigmoid score\n",
    "\n",
    "def sigmoid(x):\n",
    "    return 1 / (1 + math.exp(-x))\n"
   ]
  },
  {
   "cell_type": "markdown",
   "metadata": {},
   "source": [
    "# Machine Learning Method3: Probabilistic classifier+Word2vec for distance feature+Cosine Sim+Sigmoid"
   ]
  },
  {
   "cell_type": "code",
   "execution_count": 92,
   "metadata": {},
   "outputs": [
    {
     "data": {
      "text/html": [
       "<div>\n",
       "<style scoped>\n",
       "    .dataframe tbody tr th:only-of-type {\n",
       "        vertical-align: middle;\n",
       "    }\n",
       "\n",
       "    .dataframe tbody tr th {\n",
       "        vertical-align: top;\n",
       "    }\n",
       "\n",
       "    .dataframe thead th {\n",
       "        text-align: right;\n",
       "    }\n",
       "</style>\n",
       "<table border=\"1\" class=\"dataframe\">\n",
       "  <thead>\n",
       "    <tr style=\"text-align: right;\">\n",
       "      <th></th>\n",
       "      <th>Unnamed: 0</th>\n",
       "      <th>guid</th>\n",
       "      <th>qu_id</th>\n",
       "      <th>qu</th>\n",
       "      <th>qa_id</th>\n",
       "      <th>qa</th>\n",
       "      <th>ans_id</th>\n",
       "      <th>ans</th>\n",
       "      <th>is_duplicate</th>\n",
       "      <th>is_correspond</th>\n",
       "      <th>is_useful</th>\n",
       "      <th>f_uq</th>\n",
       "      <th>f_aq</th>\n",
       "      <th>l_uq</th>\n",
       "      <th>l_aq</th>\n",
       "      <th>num_words_uq</th>\n",
       "      <th>num_words_aq</th>\n",
       "      <th>n_common_words</th>\n",
       "      <th>total_word_count</th>\n",
       "      <th>fraction_common_words</th>\n",
       "    </tr>\n",
       "  </thead>\n",
       "  <tbody>\n",
       "    <tr>\n",
       "      <th>876</th>\n",
       "      <td>3589</td>\n",
       "      <td>129727</td>\n",
       "      <td>100851</td>\n",
       "      <td>what is the salary of indian foreign service o...</td>\n",
       "      <td>100852</td>\n",
       "      <td>what is the salary of an indian foreign servic...</td>\n",
       "      <td>32525</td>\n",
       "      <td>While working in India, an IFS officer can dra...</td>\n",
       "      <td>1</td>\n",
       "      <td>1</td>\n",
       "      <td>1</td>\n",
       "      <td>1</td>\n",
       "      <td>2</td>\n",
       "      <td>54</td>\n",
       "      <td>57</td>\n",
       "      <td>10</td>\n",
       "      <td>11</td>\n",
       "      <td>10.0</td>\n",
       "      <td>21.0</td>\n",
       "      <td>0.476190</td>\n",
       "    </tr>\n",
       "    <tr>\n",
       "      <th>1176</th>\n",
       "      <td>4819</td>\n",
       "      <td>3892</td>\n",
       "      <td>172683</td>\n",
       "      <td>what would happen to british empire and its ef...</td>\n",
       "      <td>172684</td>\n",
       "      <td>what would happen if indian people had succeed...</td>\n",
       "      <td>146655</td>\n",
       "      <td>The currency in circulation probably would hav...</td>\n",
       "      <td>1</td>\n",
       "      <td>1</td>\n",
       "      <td>1</td>\n",
       "      <td>1</td>\n",
       "      <td>1</td>\n",
       "      <td>141</td>\n",
       "      <td>125</td>\n",
       "      <td>25</td>\n",
       "      <td>23</td>\n",
       "      <td>16.0</td>\n",
       "      <td>45.0</td>\n",
       "      <td>0.355556</td>\n",
       "    </tr>\n",
       "  </tbody>\n",
       "</table>\n",
       "</div>"
      ],
      "text/plain": [
       "      Unnamed: 0    guid   qu_id  \\\n",
       "876         3589  129727  100851   \n",
       "1176        4819    3892  172683   \n",
       "\n",
       "                                                     qu   qa_id  \\\n",
       "876   what is the salary of indian foreign service o...  100852   \n",
       "1176  what would happen to british empire and its ef...  172684   \n",
       "\n",
       "                                                     qa  ans_id  \\\n",
       "876   what is the salary of an indian foreign servic...   32525   \n",
       "1176  what would happen if indian people had succeed...  146655   \n",
       "\n",
       "                                                    ans  is_duplicate  \\\n",
       "876   While working in India, an IFS officer can dra...             1   \n",
       "1176  The currency in circulation probably would hav...             1   \n",
       "\n",
       "      is_correspond  is_useful  f_uq  f_aq  l_uq  l_aq  num_words_uq  \\\n",
       "876               1          1     1     2    54    57            10   \n",
       "1176              1          1     1     1   141   125            25   \n",
       "\n",
       "      num_words_aq  n_common_words  total_word_count  fraction_common_words  \n",
       "876             11            10.0              21.0               0.476190  \n",
       "1176            23            16.0              45.0               0.355556  "
      ]
     },
     "execution_count": 92,
     "metadata": {},
     "output_type": "execute_result"
    }
   ],
   "source": [
    "QApair_df = pd.read_csv('train.csv')\n",
    "QApair_df = shuffle(QApair_df)\n",
    "QApair_df = QApair_df.dropna() #dropping na\n",
    "QApair_df[:2]"
   ]
  },
  {
   "cell_type": "code",
   "execution_count": 93,
   "metadata": {},
   "outputs": [
    {
     "name": "stdout",
     "output_type": "stream",
     "text": [
      "all text size 8000\n",
      "All label size 8000\n"
     ]
    }
   ],
   "source": [
    "all_text = QApair_df[[\"qu\",\"qa\"]]\n",
    "all_labels = QApair_df[\"is_duplicate\"]\n",
    "print(\"all text size\", len(all_text))\n",
    "print(\"All label size\", len(all_labels))\n"
   ]
  },
  {
   "cell_type": "code",
   "execution_count": 94,
   "metadata": {},
   "outputs": [],
   "source": [
    "all_user_text = all_text[\"qu\"].tolist() #\n",
    "all_arch_text = all_text[\"qa\"].tolist()"
   ]
  },
  {
   "cell_type": "code",
   "execution_count": 95,
   "metadata": {},
   "outputs": [],
   "source": [
    "del word_vectors\n",
    "path_of_downloaded_bin = Path(\"C:\\\\Users\\\\ASUS\\\\NLP\\\\embeddings\\\\GoogleNews-vectors-negative300.bin\")\n",
    "word_vectors = KeyedVectors.load_word2vec_format(datapath(path_of_downloaded_bin), binary=True)"
   ]
  },
  {
   "cell_type": "code",
   "execution_count": 96,
   "metadata": {},
   "outputs": [],
   "source": [
    "word_vec_dim = 300 # this number should match the embedding used\n",
    "oov_vec = np.random.rand(word_vec_dim) \n",
    "def vectorize_sent(word_vectors, sent):\n",
    "    word_vecs = []\n",
    "    for token in word_tokenize(sent):\n",
    "        if token not in word_vectors: \n",
    "            word_vecs.append(oov_vec)\n",
    "        else:\n",
    "            word_vecs.append(word_vectors[token].astype('float64'))\n",
    "    return (np.mean(word_vecs,axis=0)).reshape(1,-1)\n"
   ]
  },
  {
   "cell_type": "code",
   "execution_count": 97,
   "metadata": {},
   "outputs": [],
   "source": [
    "#following embeddingds are used for finding diff distances between question pairs of all vectors\n",
    "all_user_vecs = np.array([vectorize_sent(word_vectors, ss) for ss in all_user_text]) #getting vector representation for user questions\n",
    "all_arch_vecs = np.array([vectorize_sent(word_vectors, ss) for ss in all_arch_text]) #getting vector representation for archived questions\n"
   ]
  },
  {
   "cell_type": "code",
   "execution_count": 98,
   "metadata": {},
   "outputs": [],
   "source": [
    "#getting distnces\n",
    "cosine_dist = [cosine_distances(user_quest,arch_quest)[0][0] for user_quest,arch_quest in zip(all_user_vecs,all_arch_vecs)] #getting cosine similarity between pir of questions and saving it in all_text dataframe\n",
    "QApair_df['cosine_dist'] = cosine_dist"
   ]
  },
  {
   "cell_type": "code",
   "execution_count": 99,
   "metadata": {},
   "outputs": [
    {
     "data": {
      "text/html": [
       "<div>\n",
       "<style scoped>\n",
       "    .dataframe tbody tr th:only-of-type {\n",
       "        vertical-align: middle;\n",
       "    }\n",
       "\n",
       "    .dataframe tbody tr th {\n",
       "        vertical-align: top;\n",
       "    }\n",
       "\n",
       "    .dataframe thead th {\n",
       "        text-align: right;\n",
       "    }\n",
       "</style>\n",
       "<table border=\"1\" class=\"dataframe\">\n",
       "  <thead>\n",
       "    <tr style=\"text-align: right;\">\n",
       "      <th></th>\n",
       "      <th>Unnamed: 0</th>\n",
       "      <th>guid</th>\n",
       "      <th>qu_id</th>\n",
       "      <th>qu</th>\n",
       "      <th>qa_id</th>\n",
       "      <th>qa</th>\n",
       "      <th>ans_id</th>\n",
       "      <th>ans</th>\n",
       "      <th>is_duplicate</th>\n",
       "      <th>is_correspond</th>\n",
       "      <th>...</th>\n",
       "      <th>f_uq</th>\n",
       "      <th>f_aq</th>\n",
       "      <th>l_uq</th>\n",
       "      <th>l_aq</th>\n",
       "      <th>num_words_uq</th>\n",
       "      <th>num_words_aq</th>\n",
       "      <th>n_common_words</th>\n",
       "      <th>total_word_count</th>\n",
       "      <th>fraction_common_words</th>\n",
       "      <th>cosine_dist</th>\n",
       "    </tr>\n",
       "  </thead>\n",
       "  <tbody>\n",
       "    <tr>\n",
       "      <th>876</th>\n",
       "      <td>3589</td>\n",
       "      <td>129727</td>\n",
       "      <td>100851</td>\n",
       "      <td>what is the salary of indian foreign service o...</td>\n",
       "      <td>100852</td>\n",
       "      <td>what is the salary of an indian foreign servic...</td>\n",
       "      <td>32525</td>\n",
       "      <td>While working in India, an IFS officer can dra...</td>\n",
       "      <td>1</td>\n",
       "      <td>1</td>\n",
       "      <td>...</td>\n",
       "      <td>1</td>\n",
       "      <td>2</td>\n",
       "      <td>54</td>\n",
       "      <td>57</td>\n",
       "      <td>10</td>\n",
       "      <td>11</td>\n",
       "      <td>10.0</td>\n",
       "      <td>21.0</td>\n",
       "      <td>0.476190</td>\n",
       "      <td>0.012714</td>\n",
       "    </tr>\n",
       "    <tr>\n",
       "      <th>1176</th>\n",
       "      <td>4819</td>\n",
       "      <td>3892</td>\n",
       "      <td>172683</td>\n",
       "      <td>what would happen to british empire and its ef...</td>\n",
       "      <td>172684</td>\n",
       "      <td>what would happen if indian people had succeed...</td>\n",
       "      <td>146655</td>\n",
       "      <td>The currency in circulation probably would hav...</td>\n",
       "      <td>1</td>\n",
       "      <td>1</td>\n",
       "      <td>...</td>\n",
       "      <td>1</td>\n",
       "      <td>1</td>\n",
       "      <td>141</td>\n",
       "      <td>125</td>\n",
       "      <td>25</td>\n",
       "      <td>23</td>\n",
       "      <td>16.0</td>\n",
       "      <td>45.0</td>\n",
       "      <td>0.355556</td>\n",
       "      <td>0.080617</td>\n",
       "    </tr>\n",
       "  </tbody>\n",
       "</table>\n",
       "<p>2 rows × 21 columns</p>\n",
       "</div>"
      ],
      "text/plain": [
       "      Unnamed: 0    guid   qu_id  \\\n",
       "876         3589  129727  100851   \n",
       "1176        4819    3892  172683   \n",
       "\n",
       "                                                     qu   qa_id  \\\n",
       "876   what is the salary of indian foreign service o...  100852   \n",
       "1176  what would happen to british empire and its ef...  172684   \n",
       "\n",
       "                                                     qa  ans_id  \\\n",
       "876   what is the salary of an indian foreign servic...   32525   \n",
       "1176  what would happen if indian people had succeed...  146655   \n",
       "\n",
       "                                                    ans  is_duplicate  \\\n",
       "876   While working in India, an IFS officer can dra...             1   \n",
       "1176  The currency in circulation probably would hav...             1   \n",
       "\n",
       "      is_correspond  ...  f_uq  f_aq  l_uq  l_aq  num_words_uq  num_words_aq  \\\n",
       "876               1  ...     1     2    54    57            10            11   \n",
       "1176              1  ...     1     1   141   125            25            23   \n",
       "\n",
       "      n_common_words  total_word_count  fraction_common_words  cosine_dist  \n",
       "876             10.0              21.0               0.476190     0.012714  \n",
       "1176            16.0              45.0               0.355556     0.080617  \n",
       "\n",
       "[2 rows x 21 columns]"
      ]
     },
     "execution_count": 99,
     "metadata": {},
     "output_type": "execute_result"
    }
   ],
   "source": [
    "QApair_df[:2]"
   ]
  },
  {
   "cell_type": "code",
   "execution_count": 100,
   "metadata": {},
   "outputs": [
    {
     "data": {
      "text/plain": [
       "Index(['Unnamed: 0', 'guid', 'qu_id', 'qu', 'qa_id', 'qa', 'ans_id', 'ans',\n",
       "       'is_duplicate', 'is_correspond', 'is_useful', 'f_uq', 'f_aq', 'l_uq',\n",
       "       'l_aq', 'num_words_uq', 'num_words_aq', 'n_common_words',\n",
       "       'total_word_count', 'fraction_common_words', 'cosine_dist'],\n",
       "      dtype='object')"
      ]
     },
     "execution_count": 100,
     "metadata": {},
     "output_type": "execute_result"
    }
   ],
   "source": [
    "#checking if all columns are present including the columns for all newly create distance features\n",
    "QApair_df.columns"
   ]
  },
  {
   "cell_type": "code",
   "execution_count": 101,
   "metadata": {},
   "outputs": [],
   "source": [
    "x_data = QApair_df[['cosine_dist']].copy()\n",
    "y_data = QApair_df['is_duplicate'].copy()\n",
    "all_cos_dist_scores = QApair_df[\"cosine_dist\"]\n",
    "all_labels = QApair_df[\"is_duplicate\"]\n",
    "train_dist_scores = np.array([sigmoid(x) for x in all_cos_dist_scores]).reshape(-1,1)\n",
    "train_labels = all_labels"
   ]
  },
  {
   "cell_type": "markdown",
   "metadata": {},
   "source": [
    "# Logistic regression+Word2vec for distance feature+Cosine distance+Sigmoid"
   ]
  },
  {
   "cell_type": "raw",
   "metadata": {},
   "source": [
    "#Fine tuning Logistic regression\n",
    "\n",
    "from sklearn.model_selection import GridSearchCV\n",
    "from sklearn.pipeline import Pipeline\n",
    "\n",
    "\n",
    "pipe = Pipeline([(\"clf\",LogisticRegression())])\n",
    "param_grid = [{\"clf__C\":[0.1,1.0,10.0],\"clf__class_weight\":['dict','balanced'],\"clf__solver\":['newton-cg', 'lbfgs', 'liblinear', 'sag', 'saga'], \"clf__max_iter\": [1000,2000,5000,10000]}]\n",
    "gs = GridSearchCV(pipe,param_grid,scoring = \"accuracy\",cv = 5, verbose = 1, n_jobs = -1)\n",
    "gs.fit(train_dist_scores,train_labels)\n",
    "#getting the best params from grid search\n",
    "print(\"Best Params\",gs.best_params_)\n",
    "print(\"Best Score\",gs.best_score_)"
   ]
  },
  {
   "cell_type": "code",
   "execution_count": 102,
   "metadata": {},
   "outputs": [],
   "source": [
    "#model using best params from grid search\n",
    "clf = LogisticRegression(C = 10,class_weight = 'dict', max_iter = 5000, solver = 'sag').fit(train_dist_scores, train_labels)"
   ]
  },
  {
   "cell_type": "code",
   "execution_count": 103,
   "metadata": {},
   "outputs": [
    {
     "data": {
      "text/plain": [
       "Index(['Unnamed: 0', 'guid', 'qu_id', 'qu', 'qa_id', 'qa', 'ans_id', 'ans',\n",
       "       'is_duplicate', 'is_correspond', 'is_useful', 'f_uq', 'f_aq', 'l_uq',\n",
       "       'l_aq', 'num_words_uq', 'num_words_aq', 'n_common_words',\n",
       "       'total_word_count', 'fraction_common_words'],\n",
       "      dtype='object')"
      ]
     },
     "execution_count": 103,
     "metadata": {},
     "output_type": "execute_result"
    }
   ],
   "source": [
    "#finding mean reciprocal rank:\n",
    "test_df_ml = pd.read_csv('test.csv') #getting the test data\n",
    "test_df_ml.columns"
   ]
  },
  {
   "cell_type": "code",
   "execution_count": 104,
   "metadata": {},
   "outputs": [
    {
     "name": "stdout",
     "output_type": "stream",
     "text": [
      "Number of archived Questions: 500\n"
     ]
    }
   ],
   "source": [
    "test_df_ml = test_df_ml[['guid', 'qu_id', 'qu', 'qa_id', 'qa', 'ans_id', 'ans','is_duplicate', 'is_correspond', 'is_useful',]].copy()\n",
    "test_df_ml = test_df_ml[:500]\n",
    "l = len(test_df_ml['qa'])#Number of archived Questions\n",
    "print(\"Number of archived Questions:\",l)"
   ]
  },
  {
   "cell_type": "code",
   "execution_count": 105,
   "metadata": {},
   "outputs": [],
   "source": [
    "user_questions = test_df_ml['qu'].tolist()\n",
    "LR_WV_S_reciprocal_rank_list = []\n",
    "most_similar_quest_id = 0\n",
    "arch_questions = test_df_ml['qa'].tolist()\n",
    "for uquest_id, user_quest in enumerate(user_questions):\n",
    "    test_ml = test_df_ml[['guid', 'qu_id', 'qa', 'ans_id', 'ans','is_duplicate', 'is_correspond', 'is_useful',]].copy()\n",
    "    test_ml.loc[:,'qu'] = [user_quest]*l #appending user question to all archived questions dataframe\n",
    "    #finding distances\n",
    "    ml_test_user_vecs = np.array([vectorize_sent(word_vectors, ss) for ss in test_ml['qu'].tolist()])\n",
    "    ml_test_arch_vecs = np.array([vectorize_sent(word_vectors, ss) for ss in test_ml['qa'].tolist()])\n",
    "    test_ml['cosine_dist'] = [cosine_distances(user_quest,arch_quest)[0][0] for user_quest,arch_quest in zip(ml_test_user_vecs,ml_test_arch_vecs)] #getting cosine similarity between pir of questions and saving it in all_text dataframe\n",
    "    test_x_data = test_ml[['cosine_dist']].copy()\n",
    "    test_x_data = test_x_data.values #list of cosine similarities\n",
    "    test_x_data_dist = np.array([sigmoid(x) for x in test_x_data]).reshape(-1,1)\n",
    "    y_pred = clf.predict_proba(test_x_data_dist) #predict probability\n",
    "    #print(max(x_data))\n",
    "    y_max = y_pred[:,1] #selecting only probability of duplication\n",
    "    #print(max(y_max))\n",
    "    most_similar_quest_id = np.argmax(np.array(y_max))\n",
    "    #print(most_similar_quest_id)\n",
    "    if arch_questions[uquest_id] ==arch_questions[most_similar_quest_id]:#comparing the retreived with duplicate question of user question\n",
    "        #print(\"\\nMost similar question retrieved\")\n",
    "        LR_WV_S_reciprocal_rank_list.append(1)\n",
    "    else:\n",
    "        #print(\"\\nDissimilar question retrived\")\n",
    "        LR_WV_S_reciprocal_rank_list.append(0)\n",
    "       \n"
   ]
  },
  {
   "cell_type": "code",
   "execution_count": 106,
   "metadata": {},
   "outputs": [
    {
     "name": "stdout",
     "output_type": "stream",
     "text": [
      "Mean Reciprocal Rank for Logistic regression+Basic features+Word2vec  0.594\n",
      "Number of question correctly retreived for Logistic regression+Basic features+Word2Vec  297\n"
     ]
    }
   ],
   "source": [
    "LR_WV_S_mean_reciprocal_rank = np.mean(np.array(LR_WV_S_reciprocal_rank_list))\n",
    "print(\"Mean Reciprocal Rank for Logistic regression+Basic features+Word2vec \",LR_WV_S_mean_reciprocal_rank)\n",
    "print(\"Number of question correctly retreived for Logistic regression+Basic features+Word2Vec \", sum(LR_WV_S_reciprocal_rank_list) )"
   ]
  },
  {
   "cell_type": "markdown",
   "metadata": {},
   "source": [
    "# Naive bayes+Word2Vec for distance Feature+Cosine Distance+Sigmoid"
   ]
  },
  {
   "cell_type": "raw",
   "metadata": {},
   "source": [
    "#Fine tuning Logistic regression\n",
    "\n",
    "from sklearn.model_selection import GridSearchCV\n",
    "from sklearn.pipeline import Pipeline\n",
    "\n",
    "\n",
    "pipe = Pipeline([(\"nb\",MultinomialNB())])\n",
    "param_grid = [{\"nb__alpha\":[0.1,0.2,0.5,1.0,10.0,50,100.0,200,1000]}]\n",
    "gs = GridSearchCV(pipe,param_grid,scoring = \"accuracy\",cv = 5, verbose = 1, n_jobs = -1)\n",
    "gs.fit(train_dist_scores,train_labels)\n",
    "#getting the best params from grid search\n",
    "print(\"Best Params\",gs.best_params_)\n",
    "print(\"Best Score\",gs.best_score_)"
   ]
  },
  {
   "cell_type": "code",
   "execution_count": 132,
   "metadata": {},
   "outputs": [],
   "source": [
    "#fitting with best params\n",
    "nb = MultinomialNB(alpha = 0.1).fit(train_dist_scores,train_labels)"
   ]
  },
  {
   "cell_type": "code",
   "execution_count": 133,
   "metadata": {},
   "outputs": [],
   "source": [
    "user_questions = test_df_ml['qu'].tolist()\n",
    "NB_WV_S_reciprocal_rank_list = []\n",
    "most_similar_quest_id = 0\n",
    "arch_questions = test_df_ml['qa'].tolist()\n",
    "for uquest_id, user_quest in enumerate(user_questions):\n",
    "    test_ml = test_df_ml[['guid', 'qu_id', 'qa', 'ans_id', 'ans','is_duplicate', 'is_correspond', 'is_useful',]].copy()\n",
    "    test_ml.loc[:,'qu'] = [user_quest]*l #appending user question to all archived questions dataframe\n",
    "    #finding distances\n",
    "    ml_test_user_vecs = np.array([vectorize_sent(word_vectors, ss) for ss in test_ml['qu'].tolist()])\n",
    "    ml_test_arch_vecs = np.array([vectorize_sent(word_vectors, ss) for ss in test_ml['qa'].tolist()])\n",
    "    test_ml['cosine_dist'] = [cosine_distances(user_quest,arch_quest)[0][0] for user_quest,arch_quest in zip(ml_test_user_vecs,ml_test_arch_vecs)] #getting cosine similarity between pir of questions and saving it in all_text dataframe\n",
    "    test_x_data = test_ml[['cosine_dist']].copy()\n",
    "    test_x_data = test_x_data.values #list of cosine similarities\n",
    "    test_x_data_dist = np.array([sigmoid(x) for x in test_x_data]).reshape(-1,1)\n",
    "    y_pred = nb.predict_proba(test_x_data_dist) #predict probability\n",
    "    #print(max(x_data))\n",
    "    y_max = y_pred[:,1] #selecting only probability of duplication\n",
    "    #print(max(y_max))\n",
    "    most_similar_quest_id = np.argmax(np.array(y_max))\n",
    "    #print(most_similar_quest_id)\n",
    "    if arch_questions[uquest_id] ==arch_questions[most_similar_quest_id]:#comparing the retreived with duplicate question of user question\n",
    "        #print(\"\\nMost similar question retrieved\")\n",
    "        NB_WV_S_reciprocal_rank_list.append(1)\n",
    "    else:\n",
    "        #print(\"\\nDissimilar question retrived\")\n",
    "        NB_WV_S_reciprocal_rank_list.append(0)\n",
    "       \n"
   ]
  },
  {
   "cell_type": "code",
   "execution_count": 134,
   "metadata": {},
   "outputs": [
    {
     "name": "stdout",
     "output_type": "stream",
     "text": [
      "Mean Reciprocal Rank for Naivebase+Basic features_Word2Vec  0.002\n",
      "Number of question correctly retreived for Naivebase+Basic features_Word2Vec:  1\n"
     ]
    }
   ],
   "source": [
    "NB_WV_S_mean_reciprocal_rank = np.mean(np.array(NB_WV_S_reciprocal_rank_list))\n",
    "print(\"Mean Reciprocal Rank for Naivebase+Basic features_Word2Vec \",NB_WV_S_mean_reciprocal_rank)\n",
    "print(\"Number of question correctly retreived for Naivebase+Basic features_Word2Vec: \", sum(NB_WV_S_reciprocal_rank_list))"
   ]
  },
  {
   "cell_type": "markdown",
   "metadata": {},
   "source": [
    "# Machine Learning Method3: Logistic regression+Glove for distance feature+Cosine Distance+Sigmoid"
   ]
  },
  {
   "cell_type": "code",
   "execution_count": 110,
   "metadata": {},
   "outputs": [
    {
     "data": {
      "text/html": [
       "<div>\n",
       "<style scoped>\n",
       "    .dataframe tbody tr th:only-of-type {\n",
       "        vertical-align: middle;\n",
       "    }\n",
       "\n",
       "    .dataframe tbody tr th {\n",
       "        vertical-align: top;\n",
       "    }\n",
       "\n",
       "    .dataframe thead th {\n",
       "        text-align: right;\n",
       "    }\n",
       "</style>\n",
       "<table border=\"1\" class=\"dataframe\">\n",
       "  <thead>\n",
       "    <tr style=\"text-align: right;\">\n",
       "      <th></th>\n",
       "      <th>Unnamed: 0</th>\n",
       "      <th>guid</th>\n",
       "      <th>qu_id</th>\n",
       "      <th>qu</th>\n",
       "      <th>qa_id</th>\n",
       "      <th>qa</th>\n",
       "      <th>ans_id</th>\n",
       "      <th>ans</th>\n",
       "      <th>is_duplicate</th>\n",
       "      <th>is_correspond</th>\n",
       "      <th>is_useful</th>\n",
       "      <th>f_uq</th>\n",
       "      <th>f_aq</th>\n",
       "      <th>l_uq</th>\n",
       "      <th>l_aq</th>\n",
       "      <th>num_words_uq</th>\n",
       "      <th>num_words_aq</th>\n",
       "      <th>n_common_words</th>\n",
       "      <th>total_word_count</th>\n",
       "      <th>fraction_common_words</th>\n",
       "    </tr>\n",
       "  </thead>\n",
       "  <tbody>\n",
       "    <tr>\n",
       "      <th>7439</th>\n",
       "      <td>6964</td>\n",
       "      <td>66901</td>\n",
       "      <td>230109</td>\n",
       "      <td>what is the meaning of an actor tattoo</td>\n",
       "      <td>230108</td>\n",
       "      <td>what does a mountain tattoo mean</td>\n",
       "      <td>195979</td>\n",
       "      <td>Tattoos mean whatever the wearer chooses. A mo...</td>\n",
       "      <td>0</td>\n",
       "      <td>1</td>\n",
       "      <td>0</td>\n",
       "      <td>1</td>\n",
       "      <td>1</td>\n",
       "      <td>40</td>\n",
       "      <td>34</td>\n",
       "      <td>9</td>\n",
       "      <td>7</td>\n",
       "      <td>3.0</td>\n",
       "      <td>16.0</td>\n",
       "      <td>0.187500</td>\n",
       "    </tr>\n",
       "    <tr>\n",
       "      <th>6208</th>\n",
       "      <td>4468</td>\n",
       "      <td>136865</td>\n",
       "      <td>112774</td>\n",
       "      <td>what are the best ways to deal with and or avo...</td>\n",
       "      <td>151350</td>\n",
       "      <td>what exactly is jet lag</td>\n",
       "      <td>214963</td>\n",
       "      <td>I have written an article about Jet Lag, and I...</td>\n",
       "      <td>0</td>\n",
       "      <td>1</td>\n",
       "      <td>0</td>\n",
       "      <td>2</td>\n",
       "      <td>1</td>\n",
       "      <td>58</td>\n",
       "      <td>25</td>\n",
       "      <td>13</td>\n",
       "      <td>6</td>\n",
       "      <td>4.0</td>\n",
       "      <td>19.0</td>\n",
       "      <td>0.210526</td>\n",
       "    </tr>\n",
       "  </tbody>\n",
       "</table>\n",
       "</div>"
      ],
      "text/plain": [
       "      Unnamed: 0    guid   qu_id  \\\n",
       "7439        6964   66901  230109   \n",
       "6208        4468  136865  112774   \n",
       "\n",
       "                                                     qu   qa_id  \\\n",
       "7439             what is the meaning of an actor tattoo  230108   \n",
       "6208  what are the best ways to deal with and or avo...  151350   \n",
       "\n",
       "                                    qa  ans_id  \\\n",
       "7439  what does a mountain tattoo mean  195979   \n",
       "6208           what exactly is jet lag  214963   \n",
       "\n",
       "                                                    ans  is_duplicate  \\\n",
       "7439  Tattoos mean whatever the wearer chooses. A mo...             0   \n",
       "6208  I have written an article about Jet Lag, and I...             0   \n",
       "\n",
       "      is_correspond  is_useful  f_uq  f_aq  l_uq  l_aq  num_words_uq  \\\n",
       "7439              1          0     1     1    40    34             9   \n",
       "6208              1          0     2     1    58    25            13   \n",
       "\n",
       "      num_words_aq  n_common_words  total_word_count  fraction_common_words  \n",
       "7439             7             3.0              16.0               0.187500  \n",
       "6208             6             4.0              19.0               0.210526  "
      ]
     },
     "execution_count": 110,
     "metadata": {},
     "output_type": "execute_result"
    }
   ],
   "source": [
    "QApair_df = pd.read_csv('train.csv')\n",
    "QApair_df = shuffle(QApair_df)\n",
    "QApair_df = QApair_df.dropna() #dropping na\n",
    "QApair_df[:2]"
   ]
  },
  {
   "cell_type": "code",
   "execution_count": 111,
   "metadata": {},
   "outputs": [
    {
     "name": "stdout",
     "output_type": "stream",
     "text": [
      "all text size 8000\n",
      "All label size 8000\n"
     ]
    }
   ],
   "source": [
    "all_text = QApair_df[[\"qu\",\"qa\"]]\n",
    "all_labels = QApair_df[\"is_duplicate\"]\n",
    "print(\"all text size\", len(all_text))\n",
    "print(\"All label size\", len(all_labels))\n",
    "all_user_text = all_text[\"qu\"].tolist() # user question to list\n",
    "all_arch_text = all_text[\"qa\"].tolist() #archived question to list"
   ]
  },
  {
   "cell_type": "code",
   "execution_count": 112,
   "metadata": {},
   "outputs": [],
   "source": [
    "del word_vectors #deleting already loaded wordvector"
   ]
  },
  {
   "cell_type": "code",
   "execution_count": 113,
   "metadata": {},
   "outputs": [],
   "source": [
    "from gensim.test.utils import datapath, get_tmpfile\n",
    "from gensim.models import KeyedVectors\n",
    "from gensim.scripts.glove2word2vec import glove2word2vec\n",
    "\n",
    "# here I load the 300-dimension vectors; loading longer embeddings would require longer time and more RAM\n",
    "path_of_downloaded_files = \"C:\\\\Users\\\\ASUS\\\\NLP\\\\embeddings\\\\glove.6B\\\\glove.6B.300d.txt\" \n",
    "\n",
    "glove_file = datapath(path_of_downloaded_files)\n",
    "word2vec_glove_file = get_tmpfile(\"glove.6B.300d.txt\")\n",
    "glove2word2vec(glove_file, word2vec_glove_file)\n",
    "word_vectors = KeyedVectors.load_word2vec_format(word2vec_glove_file)"
   ]
  },
  {
   "cell_type": "code",
   "execution_count": 114,
   "metadata": {},
   "outputs": [],
   "source": [
    "word_vec_dim = 300 # this number should match the embedding used\n",
    "oov_vec = np.random.rand(word_vec_dim) \n",
    "def vectorize_sent(word_vectors, sent):\n",
    "    word_vecs = []\n",
    "    for token in word_tokenize(sent):\n",
    "        if token not in word_vectors: \n",
    "            word_vecs.append(oov_vec)\n",
    "        else:\n",
    "            word_vecs.append(word_vectors[token].astype('float64'))\n",
    "    return (np.mean(word_vecs,axis=0)).reshape(1,-1)\n",
    "\n",
    "vv = vectorize_sent(word_vectors, 'hello world ! this is a test sentence !')"
   ]
  },
  {
   "cell_type": "code",
   "execution_count": 115,
   "metadata": {},
   "outputs": [],
   "source": [
    "#following embeddingds are used for finding diff distances between question pairs of all vectors\n",
    "all_user_vecs = np.array([vectorize_sent(word_vectors, ss) for ss in all_user_text]) #getting vector representation for user questions\n",
    "all_arch_vecs = np.array([vectorize_sent(word_vectors, ss) for ss in all_arch_text]) #getting vector representation for archived questions\n"
   ]
  },
  {
   "cell_type": "code",
   "execution_count": 116,
   "metadata": {},
   "outputs": [],
   "source": [
    "#getting distnces\n",
    "cosine_dist = [cosine_distances(user_quest,arch_quest)[0][0] for user_quest,arch_quest in zip(all_user_vecs,all_arch_vecs)] #getting cosine similarity between pir of questions and saving it in all_text dataframe\n",
    "QApair_df['cosine_dist'] = cosine_dist"
   ]
  },
  {
   "cell_type": "code",
   "execution_count": 117,
   "metadata": {},
   "outputs": [
    {
     "data": {
      "text/html": [
       "<div>\n",
       "<style scoped>\n",
       "    .dataframe tbody tr th:only-of-type {\n",
       "        vertical-align: middle;\n",
       "    }\n",
       "\n",
       "    .dataframe tbody tr th {\n",
       "        vertical-align: top;\n",
       "    }\n",
       "\n",
       "    .dataframe thead th {\n",
       "        text-align: right;\n",
       "    }\n",
       "</style>\n",
       "<table border=\"1\" class=\"dataframe\">\n",
       "  <thead>\n",
       "    <tr style=\"text-align: right;\">\n",
       "      <th></th>\n",
       "      <th>Unnamed: 0</th>\n",
       "      <th>guid</th>\n",
       "      <th>qu_id</th>\n",
       "      <th>qu</th>\n",
       "      <th>qa_id</th>\n",
       "      <th>qa</th>\n",
       "      <th>ans_id</th>\n",
       "      <th>ans</th>\n",
       "      <th>is_duplicate</th>\n",
       "      <th>is_correspond</th>\n",
       "      <th>...</th>\n",
       "      <th>f_uq</th>\n",
       "      <th>f_aq</th>\n",
       "      <th>l_uq</th>\n",
       "      <th>l_aq</th>\n",
       "      <th>num_words_uq</th>\n",
       "      <th>num_words_aq</th>\n",
       "      <th>n_common_words</th>\n",
       "      <th>total_word_count</th>\n",
       "      <th>fraction_common_words</th>\n",
       "      <th>cosine_dist</th>\n",
       "    </tr>\n",
       "  </thead>\n",
       "  <tbody>\n",
       "    <tr>\n",
       "      <th>7439</th>\n",
       "      <td>6964</td>\n",
       "      <td>66901</td>\n",
       "      <td>230109</td>\n",
       "      <td>what is the meaning of an actor tattoo</td>\n",
       "      <td>230108</td>\n",
       "      <td>what does a mountain tattoo mean</td>\n",
       "      <td>195979</td>\n",
       "      <td>Tattoos mean whatever the wearer chooses. A mo...</td>\n",
       "      <td>0</td>\n",
       "      <td>1</td>\n",
       "      <td>...</td>\n",
       "      <td>1</td>\n",
       "      <td>1</td>\n",
       "      <td>40</td>\n",
       "      <td>34</td>\n",
       "      <td>9</td>\n",
       "      <td>7</td>\n",
       "      <td>3.0</td>\n",
       "      <td>16.0</td>\n",
       "      <td>0.187500</td>\n",
       "      <td>0.163312</td>\n",
       "    </tr>\n",
       "    <tr>\n",
       "      <th>6208</th>\n",
       "      <td>4468</td>\n",
       "      <td>136865</td>\n",
       "      <td>112774</td>\n",
       "      <td>what are the best ways to deal with and or avo...</td>\n",
       "      <td>151350</td>\n",
       "      <td>what exactly is jet lag</td>\n",
       "      <td>214963</td>\n",
       "      <td>I have written an article about Jet Lag, and I...</td>\n",
       "      <td>0</td>\n",
       "      <td>1</td>\n",
       "      <td>...</td>\n",
       "      <td>2</td>\n",
       "      <td>1</td>\n",
       "      <td>58</td>\n",
       "      <td>25</td>\n",
       "      <td>13</td>\n",
       "      <td>6</td>\n",
       "      <td>4.0</td>\n",
       "      <td>19.0</td>\n",
       "      <td>0.210526</td>\n",
       "      <td>0.210024</td>\n",
       "    </tr>\n",
       "  </tbody>\n",
       "</table>\n",
       "<p>2 rows × 21 columns</p>\n",
       "</div>"
      ],
      "text/plain": [
       "      Unnamed: 0    guid   qu_id  \\\n",
       "7439        6964   66901  230109   \n",
       "6208        4468  136865  112774   \n",
       "\n",
       "                                                     qu   qa_id  \\\n",
       "7439             what is the meaning of an actor tattoo  230108   \n",
       "6208  what are the best ways to deal with and or avo...  151350   \n",
       "\n",
       "                                    qa  ans_id  \\\n",
       "7439  what does a mountain tattoo mean  195979   \n",
       "6208           what exactly is jet lag  214963   \n",
       "\n",
       "                                                    ans  is_duplicate  \\\n",
       "7439  Tattoos mean whatever the wearer chooses. A mo...             0   \n",
       "6208  I have written an article about Jet Lag, and I...             0   \n",
       "\n",
       "      is_correspond  ...  f_uq  f_aq  l_uq  l_aq  num_words_uq  num_words_aq  \\\n",
       "7439              1  ...     1     1    40    34             9             7   \n",
       "6208              1  ...     2     1    58    25            13             6   \n",
       "\n",
       "      n_common_words  total_word_count  fraction_common_words  cosine_dist  \n",
       "7439             3.0              16.0               0.187500     0.163312  \n",
       "6208             4.0              19.0               0.210526     0.210024  \n",
       "\n",
       "[2 rows x 21 columns]"
      ]
     },
     "execution_count": 117,
     "metadata": {},
     "output_type": "execute_result"
    }
   ],
   "source": [
    "QApair_df[:2]"
   ]
  },
  {
   "cell_type": "code",
   "execution_count": 118,
   "metadata": {},
   "outputs": [
    {
     "data": {
      "text/plain": [
       "Index(['Unnamed: 0', 'guid', 'qu_id', 'qu', 'qa_id', 'qa', 'ans_id', 'ans',\n",
       "       'is_duplicate', 'is_correspond', 'is_useful', 'f_uq', 'f_aq', 'l_uq',\n",
       "       'l_aq', 'num_words_uq', 'num_words_aq', 'n_common_words',\n",
       "       'total_word_count', 'fraction_common_words', 'cosine_dist'],\n",
       "      dtype='object')"
      ]
     },
     "execution_count": 118,
     "metadata": {},
     "output_type": "execute_result"
    }
   ],
   "source": [
    "#checking if all columns are present including the columns for all newly create distance features\n",
    "QApair_df.columns"
   ]
  },
  {
   "cell_type": "code",
   "execution_count": 119,
   "metadata": {},
   "outputs": [],
   "source": [
    "x_data = QApair_df[['cosine_dist']].copy()\n",
    "y_data = QApair_df['is_duplicate'].copy()\n",
    "all_cos_dist_scores = QApair_df[\"cosine_dist\"]\n",
    "all_labels = QApair_df[\"is_duplicate\"]\n",
    "train_dist_scores = np.array([sigmoid(x) for x in all_cos_dist_scores]).reshape(-1,1)\n",
    "train_labels = all_labels"
   ]
  },
  {
   "cell_type": "markdown",
   "metadata": {},
   "source": [
    "# Logistic regression+Glove for distance feature+Cosine distance+Sigmoid"
   ]
  },
  {
   "cell_type": "raw",
   "metadata": {},
   "source": [
    "#Fine tuning Logistic regression\n",
    "\n",
    "from sklearn.model_selection import GridSearchCV\n",
    "from sklearn.pipeline import Pipeline\n",
    "\n",
    "\n",
    "pipe = Pipeline([(\"clf\",LogisticRegression())])\n",
    "param_grid = [{\"clf__C\":[0.1,1.0,10.0],\"clf__class_weight\":['dict','balanced'],\"clf__solver\":['newton-cg', 'lbfgs', 'liblinear', 'sag', 'saga'], \"clf__max_iter\": [1000,2000,5000,10000]}]\n",
    "gs = GridSearchCV(pipe,param_grid,scoring = \"accuracy\",cv = 5, verbose = 1, n_jobs = -1)\n",
    "gs.fit(train_dist_scores,train_labels)\n",
    "#getting the best params from grid search\n",
    "print(\"Best Params\",gs.best_params_)\n",
    "print(\"Best Score\",gs.best_score_)"
   ]
  },
  {
   "cell_type": "code",
   "execution_count": 120,
   "metadata": {},
   "outputs": [],
   "source": [
    "#model using best params from grid search\n",
    "clf = LogisticRegression(C = 10,class_weight = 'dict', max_iter = 5000, solver = 'sag').fit(train_dist_scores, train_labels)"
   ]
  },
  {
   "cell_type": "code",
   "execution_count": 121,
   "metadata": {},
   "outputs": [
    {
     "data": {
      "text/plain": [
       "Index(['Unnamed: 0', 'guid', 'qu_id', 'qu', 'qa_id', 'qa', 'ans_id', 'ans',\n",
       "       'is_duplicate', 'is_correspond', 'is_useful', 'f_uq', 'f_aq', 'l_uq',\n",
       "       'l_aq', 'num_words_uq', 'num_words_aq', 'n_common_words',\n",
       "       'total_word_count', 'fraction_common_words'],\n",
       "      dtype='object')"
      ]
     },
     "execution_count": 121,
     "metadata": {},
     "output_type": "execute_result"
    }
   ],
   "source": [
    "#finding mean reciprocal rank:\n",
    "test_df_ml = pd.read_csv('test.csv') #getting the test data\n",
    "test_df_ml.columns"
   ]
  },
  {
   "cell_type": "code",
   "execution_count": 122,
   "metadata": {},
   "outputs": [
    {
     "name": "stdout",
     "output_type": "stream",
     "text": [
      "Number of archived Questions: 500\n"
     ]
    }
   ],
   "source": [
    "test_df_ml = test_df_ml[['guid', 'qu_id', 'qu', 'qa_id', 'qa', 'ans_id', 'ans','is_duplicate', 'is_correspond', 'is_useful',]].copy()\n",
    "test_df_ml = test_df_ml[:500]\n",
    "l = len(test_df_ml['qa'])#Number of archived Questions\n",
    "print(\"Number of archived Questions:\",l)"
   ]
  },
  {
   "cell_type": "code",
   "execution_count": 123,
   "metadata": {},
   "outputs": [],
   "source": [
    "user_questions = test_df_ml['qu'].tolist()\n",
    "LR_G_S_reciprocal_rank_list = []\n",
    "most_similar_quest_id = 0\n",
    "arch_questions = test_df_ml['qa'].tolist()\n",
    "for uquest_id, user_quest in enumerate(user_questions):\n",
    "    test_ml = test_df_ml[['guid', 'qu_id', 'qa', 'ans_id', 'ans','is_duplicate', 'is_correspond', 'is_useful',]].copy()\n",
    "    test_ml.loc[:,'qu'] = [user_quest]*l #appending user question to all archived questions dataframe\n",
    "    #finding distances\n",
    "    ml_test_user_vecs = np.array([vectorize_sent(word_vectors, ss) for ss in test_ml['qu'].tolist()])\n",
    "    ml_test_arch_vecs = np.array([vectorize_sent(word_vectors, ss) for ss in test_ml['qa'].tolist()])\n",
    "    test_ml['cosine_dist'] = [cosine_distances(user_quest,arch_quest)[0][0] for user_quest,arch_quest in zip(ml_test_user_vecs,ml_test_arch_vecs)] #getting cosine similarity between pir of questions and saving it in all_text dataframe\n",
    "    test_x_data = test_ml[['cosine_dist']].copy()\n",
    "    test_x_data = test_x_data.values #list of cosine similarities\n",
    "    test_x_data_dist = np.array([sigmoid(x) for x in test_x_data]).reshape(-1,1)\n",
    "    y_pred = clf.predict_proba(test_x_data_dist) #predict probability\n",
    "    #print(max(x_data))\n",
    "    y_max = y_pred[:,1] #selecting only probability of duplication\n",
    "    #print(max(y_max))\n",
    "    most_similar_quest_id = np.argmax(np.array(y_max))\n",
    "    #print(most_similar_quest_id)\n",
    "    if arch_questions[uquest_id] ==arch_questions[most_similar_quest_id]:#comparing the retreived with duplicate question of user question\n",
    "        #print(\"\\nMost similar question retrieved\")\n",
    "        LR_G_S_reciprocal_rank_list.append(1)\n",
    "    else:\n",
    "        #print(\"\\nDissimilar question retrived\")\n",
    "        LR_G_S_reciprocal_rank_list.append(0)\n",
    "       \n"
   ]
  },
  {
   "cell_type": "code",
   "execution_count": 130,
   "metadata": {},
   "outputs": [
    {
     "name": "stdout",
     "output_type": "stream",
     "text": [
      "Mean Reciprocal Rank for Logistic regression+Basic features+Word2vec  0.792\n",
      "Number of question correctly retreived for Logistic regression+Basic features+Word2Vec  396\n"
     ]
    }
   ],
   "source": [
    "LR_G_S_mean_reciprocal_rank = np.mean(np.array(LR_G_S_reciprocal_rank_list))\n",
    "print(\"Mean Reciprocal Rank for Logistic regression+Basic features+Word2vec \",LR_G_S_mean_reciprocal_rank)\n",
    "print(\"Number of question correctly retreived for Logistic regression+Basic features+Word2Vec \", sum(LR_G_S_reciprocal_rank_list) )"
   ]
  },
  {
   "cell_type": "markdown",
   "metadata": {},
   "source": [
    "# Naive bayes+Word2Vec for distance Feature+Cosine Distance+Sigmoid"
   ]
  },
  {
   "cell_type": "raw",
   "metadata": {},
   "source": [
    "#Fine tuning Logistic regression\n",
    "\n",
    "from sklearn.model_selection import GridSearchCV\n",
    "from sklearn.pipeline import Pipeline\n",
    "\n",
    "\n",
    "pipe = Pipeline([(\"nb\",MultinomialNB())])\n",
    "param_grid = [{\"nb__alpha\":[0.1,0.2,0.5,1.0,10.0,50,100.0,200,1000]}]\n",
    "gs = GridSearchCV(pipe,param_grid,scoring = \"accuracy\",cv = 5, verbose = 1, n_jobs = -1)\n",
    "gs.fit(train_dist_scores,train_labels)\n",
    "#getting the best params from grid search\n",
    "print(\"Best Params\",gs.best_params_)\n",
    "print(\"Best Score\",gs.best_score_)"
   ]
  },
  {
   "cell_type": "code",
   "execution_count": 125,
   "metadata": {},
   "outputs": [],
   "source": [
    "#fitting with best params\n",
    "nb = MultinomialNB(alpha = 0.1).fit(train_dist_scores,train_labels)"
   ]
  },
  {
   "cell_type": "code",
   "execution_count": 126,
   "metadata": {},
   "outputs": [],
   "source": [
    "user_questions = test_df_ml['qu'].tolist()\n",
    "NB_G_S_reciprocal_rank_list = []\n",
    "most_similar_quest_id = 0\n",
    "arch_questions = test_df_ml['qa'].tolist()\n",
    "for uquest_id, user_quest in enumerate(user_questions):\n",
    "    test_ml = test_df_ml[['guid', 'qu_id', 'qa', 'ans_id', 'ans','is_duplicate', 'is_correspond', 'is_useful',]].copy()\n",
    "    test_ml.loc[:,'qu'] = [user_quest]*l #appending user question to all archived questions dataframe\n",
    "    #finding distances\n",
    "    ml_test_user_vecs = np.array([vectorize_sent(word_vectors, ss) for ss in test_ml['qu'].tolist()])\n",
    "    ml_test_arch_vecs = np.array([vectorize_sent(word_vectors, ss) for ss in test_ml['qa'].tolist()])\n",
    "    test_ml['cosine_dist'] = [cosine_distances(user_quest,arch_quest)[0][0] for user_quest,arch_quest in zip(ml_test_user_vecs,ml_test_arch_vecs)] #getting cosine similarity between pir of questions and saving it in all_text dataframe\n",
    "    test_x_data = test_ml[['cosine_dist']].copy()\n",
    "    test_x_data = test_x_data.values #list of cosine similarities\n",
    "    test_x_data_dist = np.array([sigmoid(x) for x in test_x_data]).reshape(-1,1)\n",
    "    y_pred = nb.predict_proba(test_x_data_dist) #predict probability\n",
    "    #print(max(x_data))\n",
    "    y_max = y_pred[:,1] #selecting only probability of duplication\n",
    "    #print(max(y_max))\n",
    "    most_similar_quest_id = np.argmax(np.array(y_max))\n",
    "    #print(most_similar_quest_id)\n",
    "    if arch_questions[uquest_id] ==arch_questions[most_similar_quest_id]:#comparing the retreived with duplicate question of user question\n",
    "        #print(\"\\nMost similar question retrieved\")\n",
    "        NB_G_S_reciprocal_rank_list.append(1)\n",
    "    else:\n",
    "        #print(\"\\nDissimilar question retrived\")\n",
    "        NB_G_S_reciprocal_rank_list.append(0)\n",
    "       \n"
   ]
  },
  {
   "cell_type": "code",
   "execution_count": 127,
   "metadata": {},
   "outputs": [
    {
     "name": "stdout",
     "output_type": "stream",
     "text": [
      "Mean Reciprocal Rank for Naivebase+Basic features_Word2Vec  0.002\n",
      "Number of question correctly retreived for Naivebase+Basic features_Word2Vec:  1\n"
     ]
    }
   ],
   "source": [
    "NB_G_S_mean_reciprocal_rank = np.mean(np.array(NB_G_S_reciprocal_rank_list))\n",
    "print(\"Mean Reciprocal Rank for Naivebase+Basic features_Word2Vec \",NB_G_S_mean_reciprocal_rank)\n",
    "print(\"Number of question correctly retreived for Naivebase+Basic features_Word2Vec: \", sum(NB_G_S_reciprocal_rank_list))"
   ]
  },
  {
   "cell_type": "code",
   "execution_count": 135,
   "metadata": {},
   "outputs": [
    {
     "data": {
      "text/html": [
       "<div>\n",
       "<style scoped>\n",
       "    .dataframe tbody tr th:only-of-type {\n",
       "        vertical-align: middle;\n",
       "    }\n",
       "\n",
       "    .dataframe tbody tr th {\n",
       "        vertical-align: top;\n",
       "    }\n",
       "\n",
       "    .dataframe thead th {\n",
       "        text-align: right;\n",
       "    }\n",
       "</style>\n",
       "<table border=\"1\" class=\"dataframe\">\n",
       "  <thead>\n",
       "    <tr style=\"text-align: right;\">\n",
       "      <th></th>\n",
       "      <th>Method</th>\n",
       "      <th>mean_reciprocal_ranks</th>\n",
       "    </tr>\n",
       "  </thead>\n",
       "  <tbody>\n",
       "    <tr>\n",
       "      <th>0</th>\n",
       "      <td>LR+WV+CD+S</td>\n",
       "      <td>0.594</td>\n",
       "    </tr>\n",
       "    <tr>\n",
       "      <th>1</th>\n",
       "      <td>NB+WV+CD+S</td>\n",
       "      <td>0.002</td>\n",
       "    </tr>\n",
       "    <tr>\n",
       "      <th>2</th>\n",
       "      <td>LR+Glove+CD+S</td>\n",
       "      <td>0.792</td>\n",
       "    </tr>\n",
       "    <tr>\n",
       "      <th>3</th>\n",
       "      <td>NB+Glove+CD+S</td>\n",
       "      <td>0.002</td>\n",
       "    </tr>\n",
       "  </tbody>\n",
       "</table>\n",
       "</div>"
      ],
      "text/plain": [
       "          Method  mean_reciprocal_ranks\n",
       "0     LR+WV+CD+S                  0.594\n",
       "1     NB+WV+CD+S                  0.002\n",
       "2  LR+Glove+CD+S                  0.792\n",
       "3  NB+Glove+CD+S                  0.002"
      ]
     },
     "execution_count": 135,
     "metadata": {},
     "output_type": "execute_result"
    }
   ],
   "source": [
    "results_df = pd.DataFrame()\n",
    "results_df[\"Method\"] = [\"LR+WV+CD+S\",\"NB+WV+CD+S\",\"LR+Glove+CD+S\",\"NB+Glove+CD+S\"]\n",
    "results_df[\"mean_reciprocal_ranks\"] = [LR_WV_S_mean_reciprocal_rank,NB_WV_S_mean_reciprocal_rank,LR_G_S_mean_reciprocal_rank,NB_G_S_mean_reciprocal_rank]\n",
    "results_df"
   ]
  },
  {
   "cell_type": "code",
   "execution_count": 136,
   "metadata": {},
   "outputs": [
    {
     "data": {
      "text/plain": [
       "([0, 1, 2, 3],\n",
       " [Text(0, 0, ''), Text(0, 0, ''), Text(0, 0, ''), Text(0, 0, '')])"
      ]
     },
     "execution_count": 136,
     "metadata": {},
     "output_type": "execute_result"
    },
    {
     "data": {
      "image/png": "[encoded data removed]",
      "text/plain": [
       "<Figure size 432x288 with 1 Axes>"
      ]
     },
     "metadata": {
      "needs_background": "light"
     },
     "output_type": "display_data"
    }
   ],
   "source": [
    "import matplotlib.pyplot as plt\n",
    "plt.plot(results_df[\"Method\"],results_df[\"mean_reciprocal_ranks\"])\n",
    "plt.ylabel(\"Mean Reciprocal rank\")\n",
    "plt.ylim(0.5,1)\n",
    "plt.xticks(rotation = 45)"
   ]
  },
  {
   "cell_type": "code",
   "execution_count": null,
   "metadata": {},
   "outputs": [],
   "source": []
  }
 ],
 "metadata": {
  "kernelspec": {
   "display_name": "vevn_nlp",
   "language": "python",
   "name": "vevn_nlp"
  },
  "language_info": {
   "codemirror_mode": {
    "name": "ipython",
    "version": 3
   },
   "file_extension": ".py",
   "mimetype": "text/x-python",
   "name": "python",
   "nbconvert_exporter": "python",
   "pygments_lexer": "ipython3",
   "version": "3.7.7"
  }
 },
 "nbformat": 4,
 "nbformat_minor": 2
}
